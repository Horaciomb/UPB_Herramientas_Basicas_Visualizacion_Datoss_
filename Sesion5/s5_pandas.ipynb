{
 "cells": [
  {
   "cell_type": "markdown",
   "metadata": {},
   "source": [
    "## **Introducción a Pandas**\n",
    "\n",
    "Pandas es una biblioteca clave en Python para trabajar con datos tabulares de forma sencilla y eficiente. Permite manipular, analizar y limpiar datos utilizando estructuras como Series y DataFrames.\n"
   ]
  },
  {
   "cell_type": "markdown",
   "metadata": {},
   "source": [
    "\n",
    "### Importación de Librerías\n",
    "\n",
    "Antes de comenzar a trabajar con Pandas, es necesario importar la biblioteca junto con otras herramientas útiles para análisis de datos.\n",
    "\n"
   ]
  },
  {
   "cell_type": "code",
   "execution_count": null,
   "metadata": {},
   "outputs": [],
   "source": [
    "# Importar la biblioteca Pandas\n",
    "import pandas as pd\n",
    "\n",
    "# Importar NumPy (opcional, pero útil para análisis numérico)\n",
    "import numpy as np"
   ]
  },
  {
   "cell_type": "markdown",
   "metadata": {},
   "source": [
    "\n",
    "### Lectura de Archivos con Pandas\n",
    "\n",
    "Pandas permite leer datos desde diferentes tipos de archivos, como CSV, Excel, JSON, entre otros. Aquí se muestra cómo cargar un archivo CSV en un DataFrame.\n",
    "\n",
    "\n",
    "\n"
   ]
  },
  {
   "cell_type": "code",
   "execution_count": null,
   "metadata": {},
   "outputs": [],
   "source": [
    "# Leer el archivo \"titles.csv\"\n",
    "data = pd.read_csv(\"titles.csv\")\n",
    "\n",
    "# Mostrar las primeras filas del DataFrame\n",
    "print(data.head())"
   ]
  },
  {
   "cell_type": "markdown",
   "metadata": {},
   "source": [
    "### DataFrame en pandas\n",
    "Un **DataFrame** es una estructura de datos bidimensional de Pandas, similar a una tabla en una base de datos o una hoja de cálculo. Está compuesta por filas y columnas etiquetadas, lo que permite almacenar y manipular datos de diferentes tipos en un formato organizado.\n"
   ]
  },
  {
   "cell_type": "markdown",
   "metadata": {},
   "source": [
    "\n",
    "### Series en pandas\n",
    "Una **Serie** es una estructura de datos unidimensional de Pandas, similar a una lista o un arreglo. Cada elemento de la Serie tiene un índice asociado, lo que facilita el acceso y manipulación de los datos de manera etiquetada.\n"
   ]
  },
  {
   "cell_type": "markdown",
   "metadata": {},
   "source": [
    "## Métodos para *Visualización de alto nivel*\n"
   ]
  },
  {
   "cell_type": "markdown",
   "metadata": {},
   "source": [
    "### Método `df.shape`\n",
    "\n",
    "El método `df.shape` se utiliza para obtener las dimensiones de un DataFrame. Retorna una tupla con dos valores: el número de filas y el número de columnas.\n",
    "\n",
    "```python\n",
    "# Ejemplo de uso\n",
    "print(data.shape)  # Salida: (n_filas, n_columnas)"
   ]
  },
  {
   "cell_type": "markdown",
   "metadata": {},
   "source": [
    "### Atributo `df.columns`\n",
    "\n",
    "El atributo `df.columns` devuelve los nombres de las columnas de un DataFrame como un objeto de tipo `Index`. Esto es útil para identificar las etiquetas de las columnas.\n",
    "\n",
    "```python\n",
    "# Ejemplo de uso\n",
    "print(data.columns)  # Salida: Index(['columna1', 'columna2', ...], dtype='object')"
   ]
  },
  {
   "cell_type": "markdown",
   "metadata": {},
   "source": [
    "### Método `df.info`\n",
    "\n",
    "El método `df.info` proporciona un resumen detallado del DataFrame, incluyendo el número de entradas, el nombre de las columnas, el tipo de datos de cada columna y la cantidad de valores no nulos.\n",
    "\n",
    "```python\n",
    "# Ejemplo de uso\n",
    "data.info()"
   ]
  },
  {
   "cell_type": "markdown",
   "metadata": {},
   "source": [
    "### Método `df.describe`\n",
    "\n",
    "El método `df.describe` genera estadísticas descriptivas de las columnas numéricas en un DataFrame. Incluye métricas como la media, desviación estándar, valores mínimo y máximo, y percentiles.\n",
    "\n",
    "```python\n",
    "# Ejemplo de uso\n",
    "data.describe()"
   ]
  },
  {
   "cell_type": "markdown",
   "metadata": {},
   "source": [
    "## Métodos de Acceso y Procesamiento\n",
    "\n",
    "### Acceso a una columna \n",
    "Este método se utiliza para acceder a una columna específica dentro de un DataFrame. El nombre de la columna se debe colocar entre comillas.\n",
    "\n",
    "```python\n",
    "# Ejemplo de uso\n",
    "column_data = data[\"column_name\"]"
   ]
  },
  {
   "cell_type": "markdown",
   "metadata": {},
   "source": [
    "### Ordenar valores `.sort_values()`\n",
    "\n",
    "El método `.sort_values()` permite ordenar un DataFrame según los valores de una o más columnas.\n",
    "```python\n",
    "# Ejemplo de uso\n",
    "sorted_data = data.sort_values(by=\"column_name\")"
   ]
  },
  {
   "cell_type": "markdown",
   "metadata": {},
   "source": [
    "### Ordenar por índice: `.sort_index()`\n",
    "\n",
    "El método `.sort_index()` ordena un DataFrame según sus índices. Es útil cuando se desea reorganizar las filas basadas en su orden original.\n",
    "```python\n",
    "# Ejemplo de uso\n",
    "sorted_by_index = data.sort_index()\n"
   ]
  },
  {
   "cell_type": "markdown",
   "metadata": {},
   "source": [
    "### Contar valores únicos `.value_counts()`\n",
    "El método `.value_counts()` muestra la frecuencia de los valores únicos en una \n",
    "columna, ideal para análisis de distribución de datos.\n",
    "```python\n",
    "# Ejemplo de uso\n",
    "value_counts = data[\"column_name\"].value_counts()\n",
    "```"
   ]
  },
  {
   "cell_type": "markdown",
   "metadata": {},
   "source": [
    "### Identificar valores nulos `.isnull(), .notnull()`\n",
    "\n",
    "Los métodos `.isnull()` y `.notnull()` se utilizan para identificar valores nulos o no nulos en un DataFrame, respectivamente. Devuelven un DataFrame o Serie de valores booleanos.\n",
    "```python\n",
    "# Ejemplo de uso\n",
    "null_values = data[\"column_name\"].isnull()\n",
    "non_null_values = data[\"column_name\"].notnull()\n",
    "```"
   ]
  },
  {
   "cell_type": "markdown",
   "metadata": {},
   "source": [
    "## Métodos de Operaciones con Cadenas de Caracteres en Series\n",
    "\n",
    "### Longitud de una cadena `s.str.len()`\n",
    "El método `.str.len()` devuelve la longitud de las cadenas de texto en una Serie de Pandas.\n",
    "\n",
    "```python\n",
    "# Ejemplo de uso\n",
    "lengths = data[\"column_name\"].str.len()\n",
    "```"
   ]
  },
  {
   "cell_type": "markdown",
   "metadata": {},
   "source": [
    "\n",
    "### Verificar si contiene una subcadena `s.str.contains()`\n",
    "\n",
    "El método `.str.contains()` permite verificar si cada elemento de una Serie de cadenas contiene una subcadena específica. Devuelve un valor booleano para cada fila.\n",
    "```python\n",
    "# Ejemplo de uso\n",
    "contains_substring = data[\"column_name\"].str.contains(\"subcadena\")"
   ]
  },
  {
   "cell_type": "markdown",
   "metadata": {},
   "source": [
    "### Verificar si empieza con una subcadena `s.str.startswith()`\n",
    "\n",
    "El método `.str.startswith()` verifica si las cadenas en una Serie comienzan con una subcadena específica. Devuelve un valor booleano para cada fila.\n",
    "```python\n",
    "# Ejemplo de uso\n",
    "starts_with = data[\"column_name\"].str.startswith(\"subcadena\")\n",
    "```"
   ]
  },
  {
   "cell_type": "markdown",
   "metadata": {},
   "source": [
    "### Verificar si termina con una subcadena`s.str.endswith()`\n",
    "\n",
    "El método `.str.endswith()` verifica si las cadenas en una Serie terminan con una subcadena específica. También devuelve un valor booleano."
   ]
  },
  {
   "cell_type": "markdown",
   "metadata": {},
   "source": [
    "## Filtros en Pandas\n",
    "\n",
    "Los filtros en Pandas permiten seleccionar datos específicos basados en condiciones. A continuación se muestran algunos métodos comunes para aplicar filtros a un DataFrame.\n",
    "\n",
    "### Filtrar por Condición\n",
    "\n",
    "Se puede aplicar un filtro a un DataFrame utilizando condiciones lógicas. Esto devuelve un DataFrame con las filas que cumplen la condición.\n",
    "\n",
    "```python\n",
    "# Filtrar filas donde el valor de la columna 'Edad' sea mayor que 30\n",
    "filtered_data = data[data[\"Edad\"] > 30]\n",
    "```"
   ]
  },
  {
   "cell_type": "markdown",
   "metadata": {},
   "source": [
    "### Filtrar con Múltiples Condiciones\n",
    "\n",
    "Es posible combinar múltiples condiciones usando los operadores `&` (Y) y `|` (O). Recuerda encerrar cada condición entre paréntesis.\n",
    "\n",
    "```python\n",
    "# Filtrar filas donde la 'Edad' sea mayor que 30 y la 'Ciudad' sea 'Cochabamba'\n",
    "filtered_data = data[(data[\"Edad\"] > 30) & (data[\"Ciudad\"] == \"Cochabamba\")]\n",
    "```"
   ]
  },
  {
   "cell_type": "markdown",
   "metadata": {},
   "source": [
    "### Filtrar por Valores Específicos\n",
    "\n",
    "Se puede filtrar para obtener solo las filas que contienen valores específicos en una columna utilizando `.isin()`.\n",
    "```python\n",
    "# Filtrar filas donde la columna 'Ciudad' sea 'La Paz' o 'Santa Cruz'\n",
    "filtered_data = data[data[\"Ciudad\"].isin([\"La Paz\", \"Santa Cruz\"])]"
   ]
  },
  {
   "cell_type": "markdown",
   "metadata": {},
   "source": []
  }
 ],
 "metadata": {
  "language_info": {
   "name": "python"
  }
 },
 "nbformat": 4,
 "nbformat_minor": 2
}
