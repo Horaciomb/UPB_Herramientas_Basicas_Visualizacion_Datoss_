{
 "cells": [
  {
   "cell_type": "markdown",
   "metadata": {},
   "source": [
    "## **Introducción a Pandas**\n",
    "\n",
    "Pandas es una biblioteca clave en Python para trabajar con datos tabulares de forma sencilla y eficiente. Permite manipular, analizar y limpiar datos utilizando estructuras como Series y DataFrames.\n"
   ]
  },
  {
   "cell_type": "markdown",
   "metadata": {},
   "source": [
    "\n",
    "### Importación de Librerías\n",
    "\n",
    "Antes de comenzar a trabajar con Pandas, es necesario importar la biblioteca junto con otras herramientas útiles para análisis de datos.\n",
    "\n"
   ]
  },
  {
   "cell_type": "code",
   "execution_count": 1,
   "metadata": {},
   "outputs": [
    {
     "name": "stderr",
     "output_type": "stream",
     "text": [
      "\n",
      "[notice] A new release of pip is available: 24.2 -> 24.3.1\n",
      "[notice] To update, run: python.exe -m pip install --upgrade pip\n"
     ]
    },
    {
     "name": "stdout",
     "output_type": "stream",
     "text": [
      "Requirement already satisfied: pandas in c:\\users\\asus\\appdata\\local\\programs\\python\\python311\\lib\\site-packages (2.1.2)\n",
      "Requirement already satisfied: numpy<2,>=1.23.2 in c:\\users\\asus\\appdata\\local\\programs\\python\\python311\\lib\\site-packages (from pandas) (1.26.1)\n",
      "Requirement already satisfied: python-dateutil>=2.8.2 in c:\\users\\asus\\appdata\\roaming\\python\\python311\\site-packages (from pandas) (2.8.2)\n",
      "Requirement already satisfied: pytz>=2020.1 in c:\\users\\asus\\appdata\\local\\programs\\python\\python311\\lib\\site-packages (from pandas) (2023.3.post1)\n",
      "Requirement already satisfied: tzdata>=2022.1 in c:\\users\\asus\\appdata\\local\\programs\\python\\python311\\lib\\site-packages (from pandas) (2023.3)\n",
      "Requirement already satisfied: six>=1.5 in c:\\users\\asus\\appdata\\roaming\\python\\python311\\site-packages (from python-dateutil>=2.8.2->pandas) (1.16.0)\n",
      "Note: you may need to restart the kernel to use updated packages.\n"
     ]
    }
   ],
   "source": [
    "%pip install pandas\n",
    "import pandas as pd"
   ]
  },
  {
   "cell_type": "code",
   "execution_count": 2,
   "metadata": {},
   "outputs": [],
   "source": [
    "# Importar la biblioteca Pandas\n",
    "import pandas as pd\n",
    "\n",
    "# Importar NumPy (opcional, pero útil para análisis numérico)\n",
    "import numpy as np"
   ]
  },
  {
   "cell_type": "markdown",
   "metadata": {},
   "source": [
    "\n",
    "### Lectura de Archivos con Pandas\n",
    "\n",
    "Pandas permite leer datos desde diferentes tipos de archivos, como CSV, Excel, JSON, entre otros. Aquí se muestra cómo cargar un archivo CSV en un DataFrame.\n",
    "\n",
    "\n",
    "\n"
   ]
  },
  {
   "cell_type": "code",
   "execution_count": 3,
   "metadata": {},
   "outputs": [
    {
     "data": {
      "text/html": [
       "<div>\n",
       "<style scoped>\n",
       "    .dataframe tbody tr th:only-of-type {\n",
       "        vertical-align: middle;\n",
       "    }\n",
       "\n",
       "    .dataframe tbody tr th {\n",
       "        vertical-align: top;\n",
       "    }\n",
       "\n",
       "    .dataframe thead th {\n",
       "        text-align: right;\n",
       "    }\n",
       "</style>\n",
       "<table border=\"1\" class=\"dataframe\">\n",
       "  <thead>\n",
       "    <tr style=\"text-align: right;\">\n",
       "      <th></th>\n",
       "      <th>title</th>\n",
       "      <th>year</th>\n",
       "      <th>rating</th>\n",
       "      <th>votes</th>\n",
       "    </tr>\n",
       "  </thead>\n",
       "  <tbody>\n",
       "    <tr>\n",
       "      <th>0</th>\n",
       "      <td>Spanish Fiesta</td>\n",
       "      <td>2019</td>\n",
       "      <td>6.9</td>\n",
       "      <td>29</td>\n",
       "    </tr>\n",
       "    <tr>\n",
       "      <th>1</th>\n",
       "      <td>La tierra de los toros</td>\n",
       "      <td>2000</td>\n",
       "      <td>5.4</td>\n",
       "      <td>14</td>\n",
       "    </tr>\n",
       "    <tr>\n",
       "      <th>2</th>\n",
       "      <td>Dama de noche</td>\n",
       "      <td>1993</td>\n",
       "      <td>6.0</td>\n",
       "      <td>25</td>\n",
       "    </tr>\n",
       "    <tr>\n",
       "      <th>3</th>\n",
       "      <td>Frivolinas</td>\n",
       "      <td>2014</td>\n",
       "      <td>5.6</td>\n",
       "      <td>19</td>\n",
       "    </tr>\n",
       "    <tr>\n",
       "      <th>4</th>\n",
       "      <td>Mya ga naing</td>\n",
       "      <td>1996</td>\n",
       "      <td>7.5</td>\n",
       "      <td>21</td>\n",
       "    </tr>\n",
       "  </tbody>\n",
       "</table>\n",
       "</div>"
      ],
      "text/plain": [
       "                    title  year  rating  votes\n",
       "0          Spanish Fiesta  2019     6.9     29\n",
       "1  La tierra de los toros  2000     5.4     14\n",
       "2           Dama de noche  1993     6.0     25\n",
       "3              Frivolinas  2014     5.6     19\n",
       "4            Mya ga naing  1996     7.5     21"
      ]
     },
     "execution_count": 3,
     "metadata": {},
     "output_type": "execute_result"
    }
   ],
   "source": [
    "# Leer el archivo \"titles.csv\"\n",
    "data = pd.read_csv(\"titles.csv\")\n",
    "\n",
    "# Mostrar las primeras filas del DataFrame\n",
    "data.head()"
   ]
  },
  {
   "cell_type": "markdown",
   "metadata": {},
   "source": [
    "### DataFrame en pandas\n",
    "Un **DataFrame** es una estructura de datos bidimensional de Pandas, similar a una tabla en una base de datos o una hoja de cálculo. Está compuesta por filas y columnas etiquetadas, lo que permite almacenar y manipular datos de diferentes tipos en un formato organizado.\n"
   ]
  },
  {
   "cell_type": "markdown",
   "metadata": {},
   "source": [
    "\n",
    "### Series en pandas\n",
    "Una **Serie** es una estructura de datos unidimensional de Pandas, similar a una lista o un arreglo. Cada elemento de la Serie tiene un índice asociado, lo que facilita el acceso y manipulación de los datos de manera etiquetada.\n"
   ]
  },
  {
   "cell_type": "markdown",
   "metadata": {},
   "source": [
    "## Métodos para *Visualización de alto nivel*\n"
   ]
  },
  {
   "cell_type": "markdown",
   "metadata": {},
   "source": [
    "### Método `df.shape`\n",
    "\n",
    "El método `df.shape` se utiliza para obtener las dimensiones de un DataFrame. Retorna una tupla con dos valores: el número de filas y el número de columnas.\n",
    "\n",
    "```python\n",
    "# Ejemplo de uso\n",
    "print(data.shape)  # Salida: (n_filas, n_columnas)"
   ]
  },
  {
   "cell_type": "code",
   "execution_count": 4,
   "metadata": {},
   "outputs": [
    {
     "name": "stdout",
     "output_type": "stream",
     "text": [
      "El numero de filas es : 213665\n"
     ]
    }
   ],
   "source": [
    "print(\"El numero de filas es :\",data.shape[0])"
   ]
  },
  {
   "cell_type": "code",
   "execution_count": 5,
   "metadata": {},
   "outputs": [
    {
     "name": "stdout",
     "output_type": "stream",
     "text": [
      "El numero de columnas es: 4\n"
     ]
    }
   ],
   "source": [
    "print(\"El numero de columnas es:\", data.shape[1])"
   ]
  },
  {
   "cell_type": "markdown",
   "metadata": {},
   "source": [
    "### Atributo `df.columns`\n",
    "\n",
    "El atributo `df.columns` devuelve los nombres de las columnas de un DataFrame como un objeto de tipo `Index`. Esto es útil para identificar las etiquetas de las columnas.\n",
    "\n",
    "```python\n",
    "# Ejemplo de uso\n",
    "print(data.columns)  # Salida: Index(['columna1', 'columna2', ...], dtype='object')"
   ]
  },
  {
   "cell_type": "code",
   "execution_count": 6,
   "metadata": {},
   "outputs": [
    {
     "data": {
      "text/plain": [
       "Index(['title', 'year', 'rating', 'votes'], dtype='object')"
      ]
     },
     "execution_count": 6,
     "metadata": {},
     "output_type": "execute_result"
    }
   ],
   "source": [
    "data.columns"
   ]
  },
  {
   "cell_type": "markdown",
   "metadata": {},
   "source": [
    "### Método `df.info`\n",
    "\n",
    "El método `df.info` proporciona un resumen detallado del DataFrame, incluyendo el número de entradas, el nombre de las columnas, el tipo de datos de cada columna y la cantidad de valores no nulos.\n",
    "\n",
    "```python\n",
    "# Ejemplo de uso\n",
    "data.info()"
   ]
  },
  {
   "cell_type": "code",
   "execution_count": 7,
   "metadata": {},
   "outputs": [
    {
     "name": "stdout",
     "output_type": "stream",
     "text": [
      "<class 'pandas.core.frame.DataFrame'>\n",
      "RangeIndex: 213665 entries, 0 to 213664\n",
      "Data columns (total 4 columns):\n",
      " #   Column  Non-Null Count   Dtype  \n",
      "---  ------  --------------   -----  \n",
      " 0   title   213665 non-null  object \n",
      " 1   year    213665 non-null  int64  \n",
      " 2   rating  213665 non-null  float64\n",
      " 3   votes   213665 non-null  int64  \n",
      "dtypes: float64(1), int64(2), object(1)\n",
      "memory usage: 6.5+ MB\n"
     ]
    }
   ],
   "source": [
    "data.info()"
   ]
  },
  {
   "cell_type": "markdown",
   "metadata": {},
   "source": [
    "### Método `df.describe`\n",
    "\n",
    "El método `df.describe` genera estadísticas descriptivas de las columnas numéricas en un DataFrame. Incluye métricas como la media, desviación estándar, valores mínimo y máximo, y percentiles.\n",
    "\n",
    "```python\n",
    "# Ejemplo de uso\n",
    "data.describe()"
   ]
  },
  {
   "cell_type": "code",
   "execution_count": 8,
   "metadata": {},
   "outputs": [
    {
     "data": {
      "text/html": [
       "<div>\n",
       "<style scoped>\n",
       "    .dataframe tbody tr th:only-of-type {\n",
       "        vertical-align: middle;\n",
       "    }\n",
       "\n",
       "    .dataframe tbody tr th {\n",
       "        vertical-align: top;\n",
       "    }\n",
       "\n",
       "    .dataframe thead th {\n",
       "        text-align: right;\n",
       "    }\n",
       "</style>\n",
       "<table border=\"1\" class=\"dataframe\">\n",
       "  <thead>\n",
       "    <tr style=\"text-align: right;\">\n",
       "      <th></th>\n",
       "      <th>year</th>\n",
       "      <th>rating</th>\n",
       "      <th>votes</th>\n",
       "    </tr>\n",
       "  </thead>\n",
       "  <tbody>\n",
       "    <tr>\n",
       "      <th>count</th>\n",
       "      <td>213665.000000</td>\n",
       "      <td>213665.000000</td>\n",
       "      <td>2.136650e+05</td>\n",
       "    </tr>\n",
       "    <tr>\n",
       "      <th>mean</th>\n",
       "      <td>2003.708628</td>\n",
       "      <td>6.142454</td>\n",
       "      <td>4.088516e+03</td>\n",
       "    </tr>\n",
       "    <tr>\n",
       "      <th>std</th>\n",
       "      <td>14.191798</td>\n",
       "      <td>1.397839</td>\n",
       "      <td>3.668131e+04</td>\n",
       "    </tr>\n",
       "    <tr>\n",
       "      <th>min</th>\n",
       "      <td>1970.000000</td>\n",
       "      <td>1.000000</td>\n",
       "      <td>5.000000e+00</td>\n",
       "    </tr>\n",
       "    <tr>\n",
       "      <th>25%</th>\n",
       "      <td>1994.000000</td>\n",
       "      <td>5.300000</td>\n",
       "      <td>1.800000e+01</td>\n",
       "    </tr>\n",
       "    <tr>\n",
       "      <th>50%</th>\n",
       "      <td>2008.000000</td>\n",
       "      <td>6.300000</td>\n",
       "      <td>6.200000e+01</td>\n",
       "    </tr>\n",
       "    <tr>\n",
       "      <th>75%</th>\n",
       "      <td>2015.000000</td>\n",
       "      <td>7.100000</td>\n",
       "      <td>3.350000e+02</td>\n",
       "    </tr>\n",
       "    <tr>\n",
       "      <th>max</th>\n",
       "      <td>2021.000000</td>\n",
       "      <td>10.000000</td>\n",
       "      <td>2.476378e+06</td>\n",
       "    </tr>\n",
       "  </tbody>\n",
       "</table>\n",
       "</div>"
      ],
      "text/plain": [
       "                year         rating         votes\n",
       "count  213665.000000  213665.000000  2.136650e+05\n",
       "mean     2003.708628       6.142454  4.088516e+03\n",
       "std        14.191798       1.397839  3.668131e+04\n",
       "min      1970.000000       1.000000  5.000000e+00\n",
       "25%      1994.000000       5.300000  1.800000e+01\n",
       "50%      2008.000000       6.300000  6.200000e+01\n",
       "75%      2015.000000       7.100000  3.350000e+02\n",
       "max      2021.000000      10.000000  2.476378e+06"
      ]
     },
     "execution_count": 8,
     "metadata": {},
     "output_type": "execute_result"
    }
   ],
   "source": [
    "data.describe()"
   ]
  },
  {
   "cell_type": "markdown",
   "metadata": {},
   "source": [
    "## Métodos de Acceso y Procesamiento\n",
    "\n",
    "### Acceso a una columna \n",
    "Este método se utiliza para acceder a una columna específica dentro de un DataFrame. El nombre de la columna se debe colocar entre comillas.\n",
    "\n",
    "```python\n",
    "# Ejemplo de uso\n",
    "column_data = data[\"column_name\"]"
   ]
  },
  {
   "cell_type": "code",
   "execution_count": 9,
   "metadata": {},
   "outputs": [
    {
     "data": {
      "text/html": [
       "<div>\n",
       "<style scoped>\n",
       "    .dataframe tbody tr th:only-of-type {\n",
       "        vertical-align: middle;\n",
       "    }\n",
       "\n",
       "    .dataframe tbody tr th {\n",
       "        vertical-align: top;\n",
       "    }\n",
       "\n",
       "    .dataframe thead th {\n",
       "        text-align: right;\n",
       "    }\n",
       "</style>\n",
       "<table border=\"1\" class=\"dataframe\">\n",
       "  <thead>\n",
       "    <tr style=\"text-align: right;\">\n",
       "      <th></th>\n",
       "      <th>title</th>\n",
       "      <th>year</th>\n",
       "      <th>rating</th>\n",
       "      <th>votes</th>\n",
       "    </tr>\n",
       "  </thead>\n",
       "  <tbody>\n",
       "    <tr>\n",
       "      <th>0</th>\n",
       "      <td>Spanish Fiesta</td>\n",
       "      <td>2019</td>\n",
       "      <td>6.9</td>\n",
       "      <td>29</td>\n",
       "    </tr>\n",
       "    <tr>\n",
       "      <th>1</th>\n",
       "      <td>La tierra de los toros</td>\n",
       "      <td>2000</td>\n",
       "      <td>5.4</td>\n",
       "      <td>14</td>\n",
       "    </tr>\n",
       "    <tr>\n",
       "      <th>2</th>\n",
       "      <td>Dama de noche</td>\n",
       "      <td>1993</td>\n",
       "      <td>6.0</td>\n",
       "      <td>25</td>\n",
       "    </tr>\n",
       "    <tr>\n",
       "      <th>3</th>\n",
       "      <td>Frivolinas</td>\n",
       "      <td>2014</td>\n",
       "      <td>5.6</td>\n",
       "      <td>19</td>\n",
       "    </tr>\n",
       "    <tr>\n",
       "      <th>4</th>\n",
       "      <td>Mya ga naing</td>\n",
       "      <td>1996</td>\n",
       "      <td>7.5</td>\n",
       "      <td>21</td>\n",
       "    </tr>\n",
       "  </tbody>\n",
       "</table>\n",
       "</div>"
      ],
      "text/plain": [
       "                    title  year  rating  votes\n",
       "0          Spanish Fiesta  2019     6.9     29\n",
       "1  La tierra de los toros  2000     5.4     14\n",
       "2           Dama de noche  1993     6.0     25\n",
       "3              Frivolinas  2014     5.6     19\n",
       "4            Mya ga naing  1996     7.5     21"
      ]
     },
     "execution_count": 9,
     "metadata": {},
     "output_type": "execute_result"
    }
   ],
   "source": [
    "# Muestra las primeras 5 filas del DataFrame \n",
    "data.head()"
   ]
  },
  {
   "cell_type": "code",
   "execution_count": 10,
   "metadata": {},
   "outputs": [
    {
     "data": {
      "text/html": [
       "<div>\n",
       "<style scoped>\n",
       "    .dataframe tbody tr th:only-of-type {\n",
       "        vertical-align: middle;\n",
       "    }\n",
       "\n",
       "    .dataframe tbody tr th {\n",
       "        vertical-align: top;\n",
       "    }\n",
       "\n",
       "    .dataframe thead th {\n",
       "        text-align: right;\n",
       "    }\n",
       "</style>\n",
       "<table border=\"1\" class=\"dataframe\">\n",
       "  <thead>\n",
       "    <tr style=\"text-align: right;\">\n",
       "      <th></th>\n",
       "      <th>rating</th>\n",
       "    </tr>\n",
       "  </thead>\n",
       "  <tbody>\n",
       "    <tr>\n",
       "      <th>0</th>\n",
       "      <td>6.9</td>\n",
       "    </tr>\n",
       "    <tr>\n",
       "      <th>1</th>\n",
       "      <td>5.4</td>\n",
       "    </tr>\n",
       "    <tr>\n",
       "      <th>2</th>\n",
       "      <td>6.0</td>\n",
       "    </tr>\n",
       "    <tr>\n",
       "      <th>3</th>\n",
       "      <td>5.6</td>\n",
       "    </tr>\n",
       "    <tr>\n",
       "      <th>4</th>\n",
       "      <td>7.5</td>\n",
       "    </tr>\n",
       "  </tbody>\n",
       "</table>\n",
       "</div>"
      ],
      "text/plain": [
       "   rating\n",
       "0     6.9\n",
       "1     5.4\n",
       "2     6.0\n",
       "3     5.6\n",
       "4     7.5"
      ]
     },
     "execution_count": 10,
     "metadata": {},
     "output_type": "execute_result"
    }
   ],
   "source": [
    "# Genera una serie de pandas con la columna \"rating\"\n",
    "serie1 = data[\"rating\"]\n",
    "# Genera un DataFrame de pandas con la columna \"rating\"\n",
    "df1    = data[[\"rating\"]]\n",
    "df1.head()"
   ]
  },
  {
   "cell_type": "code",
   "execution_count": 11,
   "metadata": {},
   "outputs": [
    {
     "data": {
      "text/plain": [
       "0                   Spanish Fiesta\n",
       "1           La tierra de los toros\n",
       "2                    Dama de noche\n",
       "3                       Frivolinas\n",
       "4                     Mya ga naing\n",
       "                    ...           \n",
       "213660                   Safeguard\n",
       "213661    Il talento del calabrone\n",
       "213662                       Coven\n",
       "213663         The Secret of China\n",
       "213664         Kuambil Lagi Hatiku\n",
       "Name: title, Length: 213665, dtype: object"
      ]
     },
     "execution_count": 11,
     "metadata": {},
     "output_type": "execute_result"
    }
   ],
   "source": [
    "# Genera una serie de pandas con la columna \"title\"\n",
    "data[\"title\"]  # df.title"
   ]
  },
  {
   "cell_type": "markdown",
   "metadata": {},
   "source": [
    "### Ordenar valores `.sort_values()`\n",
    "\n",
    "El método `.sort_values()` permite ordenar un DataFrame según los valores de una o más columnas.\n",
    "```python\n",
    "# Ejemplo de uso\n",
    "sorted_data = data.sort_values(by=\"column_name\")"
   ]
  },
  {
   "cell_type": "code",
   "execution_count": 12,
   "metadata": {},
   "outputs": [
    {
     "data": {
      "text/html": [
       "<div>\n",
       "<style scoped>\n",
       "    .dataframe tbody tr th:only-of-type {\n",
       "        vertical-align: middle;\n",
       "    }\n",
       "\n",
       "    .dataframe tbody tr th {\n",
       "        vertical-align: top;\n",
       "    }\n",
       "\n",
       "    .dataframe thead th {\n",
       "        text-align: right;\n",
       "    }\n",
       "</style>\n",
       "<table border=\"1\" class=\"dataframe\">\n",
       "  <thead>\n",
       "    <tr style=\"text-align: right;\">\n",
       "      <th></th>\n",
       "      <th>title</th>\n",
       "      <th>year</th>\n",
       "      <th>rating</th>\n",
       "      <th>votes</th>\n",
       "    </tr>\n",
       "  </thead>\n",
       "  <tbody>\n",
       "    <tr>\n",
       "      <th>64546</th>\n",
       "      <td>Alibaba 40 Dongalu</td>\n",
       "      <td>1970</td>\n",
       "      <td>7.2</td>\n",
       "      <td>35</td>\n",
       "    </tr>\n",
       "    <tr>\n",
       "      <th>52266</th>\n",
       "      <td>Forbidden Paris</td>\n",
       "      <td>1970</td>\n",
       "      <td>4.6</td>\n",
       "      <td>51</td>\n",
       "    </tr>\n",
       "    <tr>\n",
       "      <th>43734</th>\n",
       "      <td>Os Senhores da Terra</td>\n",
       "      <td>1970</td>\n",
       "      <td>6.6</td>\n",
       "      <td>27</td>\n",
       "    </tr>\n",
       "    <tr>\n",
       "      <th>55718</th>\n",
       "      <td>Darildin mi cicim bana?</td>\n",
       "      <td>1970</td>\n",
       "      <td>6.6</td>\n",
       "      <td>227</td>\n",
       "    </tr>\n",
       "    <tr>\n",
       "      <th>52299</th>\n",
       "      <td>Sabarimala Shri Dharmasastha</td>\n",
       "      <td>1970</td>\n",
       "      <td>4.3</td>\n",
       "      <td>11</td>\n",
       "    </tr>\n",
       "  </tbody>\n",
       "</table>\n",
       "</div>"
      ],
      "text/plain": [
       "                              title  year  rating  votes\n",
       "64546            Alibaba 40 Dongalu  1970     7.2     35\n",
       "52266               Forbidden Paris  1970     4.6     51\n",
       "43734          Os Senhores da Terra  1970     6.6     27\n",
       "55718       Darildin mi cicim bana?  1970     6.6    227\n",
       "52299  Sabarimala Shri Dharmasastha  1970     4.3     11"
      ]
     },
     "execution_count": 12,
     "metadata": {},
     "output_type": "execute_result"
    }
   ],
   "source": [
    "# Ordenar los datos por la columna \"year\" de forma ascendente\n",
    "datos_ordenados = data.sort_values(by = \"year\", ascending=True)\n",
    "datos_ordenados.head()"
   ]
  },
  {
   "cell_type": "markdown",
   "metadata": {},
   "source": [
    "### Ordenar por índice: `.sort_index()`\n",
    "\n",
    "El método `.sort_index()` ordena un DataFrame según sus índices. Es útil cuando se desea reorganizar las filas basadas en su orden original.\n",
    "```python\n",
    "# Ejemplo de uso\n",
    "sorted_by_index = data.sort_index()\n"
   ]
  },
  {
   "cell_type": "code",
   "execution_count": 13,
   "metadata": {},
   "outputs": [
    {
     "data": {
      "text/html": [
       "<div>\n",
       "<style scoped>\n",
       "    .dataframe tbody tr th:only-of-type {\n",
       "        vertical-align: middle;\n",
       "    }\n",
       "\n",
       "    .dataframe tbody tr th {\n",
       "        vertical-align: top;\n",
       "    }\n",
       "\n",
       "    .dataframe thead th {\n",
       "        text-align: right;\n",
       "    }\n",
       "</style>\n",
       "<table border=\"1\" class=\"dataframe\">\n",
       "  <thead>\n",
       "    <tr style=\"text-align: right;\">\n",
       "      <th></th>\n",
       "      <th>title</th>\n",
       "      <th>year</th>\n",
       "      <th>rating</th>\n",
       "      <th>votes</th>\n",
       "    </tr>\n",
       "  </thead>\n",
       "  <tbody>\n",
       "    <tr>\n",
       "      <th>64546</th>\n",
       "      <td>Alibaba 40 Dongalu</td>\n",
       "      <td>1970</td>\n",
       "      <td>7.2</td>\n",
       "      <td>35</td>\n",
       "    </tr>\n",
       "    <tr>\n",
       "      <th>52266</th>\n",
       "      <td>Forbidden Paris</td>\n",
       "      <td>1970</td>\n",
       "      <td>4.6</td>\n",
       "      <td>51</td>\n",
       "    </tr>\n",
       "    <tr>\n",
       "      <th>43734</th>\n",
       "      <td>Os Senhores da Terra</td>\n",
       "      <td>1970</td>\n",
       "      <td>6.6</td>\n",
       "      <td>27</td>\n",
       "    </tr>\n",
       "    <tr>\n",
       "      <th>55718</th>\n",
       "      <td>Darildin mi cicim bana?</td>\n",
       "      <td>1970</td>\n",
       "      <td>6.6</td>\n",
       "      <td>227</td>\n",
       "    </tr>\n",
       "    <tr>\n",
       "      <th>52299</th>\n",
       "      <td>Sabarimala Shri Dharmasastha</td>\n",
       "      <td>1970</td>\n",
       "      <td>4.3</td>\n",
       "      <td>11</td>\n",
       "    </tr>\n",
       "  </tbody>\n",
       "</table>\n",
       "</div>"
      ],
      "text/plain": [
       "                              title  year  rating  votes\n",
       "64546            Alibaba 40 Dongalu  1970     7.2     35\n",
       "52266               Forbidden Paris  1970     4.6     51\n",
       "43734          Os Senhores da Terra  1970     6.6     27\n",
       "55718       Darildin mi cicim bana?  1970     6.6    227\n",
       "52299  Sabarimala Shri Dharmasastha  1970     4.3     11"
      ]
     },
     "execution_count": 13,
     "metadata": {},
     "output_type": "execute_result"
    }
   ],
   "source": [
    "datos_ordenados.head()"
   ]
  },
  {
   "cell_type": "code",
   "execution_count": 14,
   "metadata": {},
   "outputs": [
    {
     "data": {
      "text/html": [
       "<div>\n",
       "<style scoped>\n",
       "    .dataframe tbody tr th:only-of-type {\n",
       "        vertical-align: middle;\n",
       "    }\n",
       "\n",
       "    .dataframe tbody tr th {\n",
       "        vertical-align: top;\n",
       "    }\n",
       "\n",
       "    .dataframe thead th {\n",
       "        text-align: right;\n",
       "    }\n",
       "</style>\n",
       "<table border=\"1\" class=\"dataframe\">\n",
       "  <thead>\n",
       "    <tr style=\"text-align: right;\">\n",
       "      <th></th>\n",
       "      <th>title</th>\n",
       "      <th>year</th>\n",
       "      <th>rating</th>\n",
       "      <th>votes</th>\n",
       "    </tr>\n",
       "  </thead>\n",
       "  <tbody>\n",
       "    <tr>\n",
       "      <th>213664</th>\n",
       "      <td>Kuambil Lagi Hatiku</td>\n",
       "      <td>2019</td>\n",
       "      <td>8.3</td>\n",
       "      <td>6</td>\n",
       "    </tr>\n",
       "    <tr>\n",
       "      <th>213663</th>\n",
       "      <td>The Secret of China</td>\n",
       "      <td>2019</td>\n",
       "      <td>3.8</td>\n",
       "      <td>14</td>\n",
       "    </tr>\n",
       "    <tr>\n",
       "      <th>213662</th>\n",
       "      <td>Coven</td>\n",
       "      <td>2020</td>\n",
       "      <td>6.4</td>\n",
       "      <td>4014</td>\n",
       "    </tr>\n",
       "    <tr>\n",
       "      <th>213661</th>\n",
       "      <td>Il talento del calabrone</td>\n",
       "      <td>2020</td>\n",
       "      <td>5.8</td>\n",
       "      <td>1197</td>\n",
       "    </tr>\n",
       "    <tr>\n",
       "      <th>213660</th>\n",
       "      <td>Safeguard</td>\n",
       "      <td>2020</td>\n",
       "      <td>3.5</td>\n",
       "      <td>225</td>\n",
       "    </tr>\n",
       "  </tbody>\n",
       "</table>\n",
       "</div>"
      ],
      "text/plain": [
       "                           title  year  rating  votes\n",
       "213664       Kuambil Lagi Hatiku  2019     8.3      6\n",
       "213663       The Secret of China  2019     3.8     14\n",
       "213662                     Coven  2020     6.4   4014\n",
       "213661  Il talento del calabrone  2020     5.8   1197\n",
       "213660                 Safeguard  2020     3.5    225"
      ]
     },
     "execution_count": 14,
     "metadata": {},
     "output_type": "execute_result"
    }
   ],
   "source": [
    "datos_index = datos_ordenados.sort_index(ascending=False)\n",
    "datos_index.head()"
   ]
  },
  {
   "cell_type": "markdown",
   "metadata": {},
   "source": [
    "# s5"
   ]
  },
  {
   "cell_type": "markdown",
   "metadata": {},
   "source": [
    "### Contar valores únicos `.value_counts()`\n",
    "El método `.value_counts()` muestra la frecuencia de los valores únicos en una \n",
    "columna, ideal para análisis de distribución de datos.\n",
    "```python\n",
    "# Ejemplo de uso\n",
    "value_counts = data[\"column_name\"].value_counts()\n",
    "```"
   ]
  },
  {
   "cell_type": "code",
   "execution_count": 15,
   "metadata": {},
   "outputs": [
    {
     "data": {
      "text/plain": [
       "decada\n",
       "2010    87847\n",
       "2000    46006\n",
       "1990    25676\n",
       "1980    22409\n",
       "1970    19902\n",
       "2020    11825\n",
       "Name: count, dtype: int64"
      ]
     },
     "execution_count": 15,
     "metadata": {},
     "output_type": "execute_result"
    }
   ],
   "source": [
    "data[\"year\"].value_counts()\n",
    "data.head()\n",
    "data[\"decada\"]= data[\"year\"]//10*10\n",
    "data.head()\n",
    "data[\"decada\"].value_counts()"
   ]
  },
  {
   "cell_type": "code",
   "execution_count": 16,
   "metadata": {},
   "outputs": [
    {
     "data": {
      "text/plain": [
       "decada\n",
       "1970    19902\n",
       "1980    22409\n",
       "1990    25676\n",
       "2000    46006\n",
       "2010    87847\n",
       "2020    11825\n",
       "Name: count, dtype: int64"
      ]
     },
     "execution_count": 16,
     "metadata": {},
     "output_type": "execute_result"
    }
   ],
   "source": [
    "data[\"decada\"].value_counts().sort_index()"
   ]
  },
  {
   "cell_type": "code",
   "execution_count": 17,
   "metadata": {},
   "outputs": [
    {
     "name": "stdout",
     "output_type": "stream",
     "text": [
      "Requirement already satisfied: matplotlib in c:\\users\\asus\\appdata\\local\\programs\\python\\python311\\lib\\site-packages (3.8.2)\n",
      "Requirement already satisfied: contourpy>=1.0.1 in c:\\users\\asus\\appdata\\local\\programs\\python\\python311\\lib\\site-packages (from matplotlib) (1.2.0)\n",
      "Requirement already satisfied: cycler>=0.10 in c:\\users\\asus\\appdata\\local\\programs\\python\\python311\\lib\\site-packages (from matplotlib) (0.12.1)\n",
      "Requirement already satisfied: fonttools>=4.22.0 in c:\\users\\asus\\appdata\\local\\programs\\python\\python311\\lib\\site-packages (from matplotlib) (4.47.0)\n",
      "Requirement already satisfied: kiwisolver>=1.3.1 in c:\\users\\asus\\appdata\\local\\programs\\python\\python311\\lib\\site-packages (from matplotlib) (1.4.5)\n",
      "Requirement already satisfied: numpy<2,>=1.21 in c:\\users\\asus\\appdata\\local\\programs\\python\\python311\\lib\\site-packages (from matplotlib) (1.26.1)\n",
      "Requirement already satisfied: packaging>=20.0 in c:\\users\\asus\\appdata\\roaming\\python\\python311\\site-packages (from matplotlib) (23.2)\n",
      "Requirement already satisfied: pillow>=8 in c:\\users\\asus\\appdata\\local\\programs\\python\\python311\\lib\\site-packages (from matplotlib) (10.2.0)\n",
      "Requirement already satisfied: pyparsing>=2.3.1 in c:\\users\\asus\\appdata\\local\\programs\\python\\python311\\lib\\site-packages (from matplotlib) (3.1.1)\n",
      "Requirement already satisfied: python-dateutil>=2.7 in c:\\users\\asus\\appdata\\roaming\\python\\python311\\site-packages (from matplotlib) (2.8.2)\n",
      "Requirement already satisfied: six>=1.5 in c:\\users\\asus\\appdata\\roaming\\python\\python311\\site-packages (from python-dateutil>=2.7->matplotlib) (1.16.0)\n",
      "Note: you may need to restart the kernel to use updated packages.\n"
     ]
    },
    {
     "name": "stderr",
     "output_type": "stream",
     "text": [
      "\n",
      "[notice] A new release of pip is available: 24.2 -> 24.3.1\n",
      "[notice] To update, run: python.exe -m pip install --upgrade pip\n"
     ]
    }
   ],
   "source": [
    "%pip install matplotlib"
   ]
  },
  {
   "cell_type": "code",
   "execution_count": 18,
   "metadata": {},
   "outputs": [
    {
     "data": {
      "text/plain": [
       "<Axes: xlabel='decada'>"
      ]
     },
     "execution_count": 18,
     "metadata": {},
     "output_type": "execute_result"
    },
    {
     "data": {
      "image/png": "[encoded data removed]",
      "text/plain": [
       "<Figure size 640x480 with 1 Axes>"
      ]
     },
     "metadata": {},
     "output_type": "display_data"
    }
   ],
   "source": [
    "data[\"decada\"].value_counts().sort_index().plot(kind=\"bar\")"
   ]
  },
  {
   "cell_type": "markdown",
   "metadata": {},
   "source": [
    "### Identificar valores nulos `.isnull(), .notnull()`\n",
    "\n",
    "Los métodos `.isnull()` y `.notnull()` se utilizan para identificar valores nulos o no nulos en un DataFrame, respectivamente. Devuelven un DataFrame o Serie de valores booleanos.\n",
    "```python\n",
    "# Ejemplo de uso\n",
    "null_values = data[\"column_name\"].isnull()\n",
    "non_null_values = data[\"column_name\"].notnull()\n",
    "```"
   ]
  },
  {
   "cell_type": "code",
   "execution_count": 19,
   "metadata": {},
   "outputs": [
    {
     "data": {
      "text/plain": [
       "0"
      ]
     },
     "execution_count": 19,
     "metadata": {},
     "output_type": "execute_result"
    }
   ],
   "source": [
    "data[\"year\"].isnull().sum()"
   ]
  },
  {
   "cell_type": "code",
   "execution_count": 20,
   "metadata": {},
   "outputs": [
    {
     "data": {
      "text/plain": [
       "213665"
      ]
     },
     "execution_count": 20,
     "metadata": {},
     "output_type": "execute_result"
    }
   ],
   "source": [
    "data[\"year\"].notnull().sum()"
   ]
  },
  {
   "cell_type": "markdown",
   "metadata": {},
   "source": [
    "## Métodos de Operaciones con Cadenas de Caracteres en Series\n",
    "\n",
    "### Longitud de una cadena `s.str.len()`\n",
    "El método `.str.len()` devuelve la longitud de las cadenas de texto en una Serie de Pandas.\n",
    "\n",
    "```python\n",
    "# Ejemplo de uso\n",
    "lengths = data[\"column_name\"].str.len()\n",
    "```"
   ]
  },
  {
   "cell_type": "code",
   "execution_count": 21,
   "metadata": {},
   "outputs": [
    {
     "data": {
      "text/plain": [
       "0         False\n",
       "1         False\n",
       "2         False\n",
       "3         False\n",
       "4         False\n",
       "          ...  \n",
       "213660    False\n",
       "213661    False\n",
       "213662    False\n",
       "213663    False\n",
       "213664    False\n",
       "Name: year, Length: 213665, dtype: bool"
      ]
     },
     "execution_count": 21,
     "metadata": {},
     "output_type": "execute_result"
    }
   ],
   "source": [
    "data.head()\n",
    "data[\"year\"].isna()\n",
    "data[\"year\"].isnull() # alias de isna()"
   ]
  },
  {
   "cell_type": "code",
   "execution_count": 22,
   "metadata": {},
   "outputs": [
    {
     "data": {
      "text/html": [
       "<div>\n",
       "<style scoped>\n",
       "    .dataframe tbody tr th:only-of-type {\n",
       "        vertical-align: middle;\n",
       "    }\n",
       "\n",
       "    .dataframe tbody tr th {\n",
       "        vertical-align: top;\n",
       "    }\n",
       "\n",
       "    .dataframe thead th {\n",
       "        text-align: right;\n",
       "    }\n",
       "</style>\n",
       "<table border=\"1\" class=\"dataframe\">\n",
       "  <thead>\n",
       "    <tr style=\"text-align: right;\">\n",
       "      <th></th>\n",
       "      <th>title</th>\n",
       "      <th>year</th>\n",
       "      <th>rating</th>\n",
       "      <th>votes</th>\n",
       "      <th>decada</th>\n",
       "      <th>long_titulo</th>\n",
       "    </tr>\n",
       "  </thead>\n",
       "  <tbody>\n",
       "    <tr>\n",
       "      <th>0</th>\n",
       "      <td>Spanish Fiesta</td>\n",
       "      <td>2019</td>\n",
       "      <td>6.9</td>\n",
       "      <td>29</td>\n",
       "      <td>2010</td>\n",
       "      <td>14</td>\n",
       "    </tr>\n",
       "    <tr>\n",
       "      <th>1</th>\n",
       "      <td>La tierra de los toros</td>\n",
       "      <td>2000</td>\n",
       "      <td>5.4</td>\n",
       "      <td>14</td>\n",
       "      <td>2000</td>\n",
       "      <td>22</td>\n",
       "    </tr>\n",
       "    <tr>\n",
       "      <th>2</th>\n",
       "      <td>Dama de noche</td>\n",
       "      <td>1993</td>\n",
       "      <td>6.0</td>\n",
       "      <td>25</td>\n",
       "      <td>1990</td>\n",
       "      <td>13</td>\n",
       "    </tr>\n",
       "    <tr>\n",
       "      <th>3</th>\n",
       "      <td>Frivolinas</td>\n",
       "      <td>2014</td>\n",
       "      <td>5.6</td>\n",
       "      <td>19</td>\n",
       "      <td>2010</td>\n",
       "      <td>10</td>\n",
       "    </tr>\n",
       "    <tr>\n",
       "      <th>4</th>\n",
       "      <td>Mya ga naing</td>\n",
       "      <td>1996</td>\n",
       "      <td>7.5</td>\n",
       "      <td>21</td>\n",
       "      <td>1990</td>\n",
       "      <td>12</td>\n",
       "    </tr>\n",
       "  </tbody>\n",
       "</table>\n",
       "</div>"
      ],
      "text/plain": [
       "                    title  year  rating  votes  decada  long_titulo\n",
       "0          Spanish Fiesta  2019     6.9     29    2010           14\n",
       "1  La tierra de los toros  2000     5.4     14    2000           22\n",
       "2           Dama de noche  1993     6.0     25    1990           13\n",
       "3              Frivolinas  2014     5.6     19    2010           10\n",
       "4            Mya ga naing  1996     7.5     21    1990           12"
      ]
     },
     "execution_count": 22,
     "metadata": {},
     "output_type": "execute_result"
    }
   ],
   "source": [
    "data[\"long_titulo\" ] = data[\"title\"].str.len()\n",
    "data.head()\n"
   ]
  },
  {
   "cell_type": "code",
   "execution_count": 23,
   "metadata": {},
   "outputs": [
    {
     "data": {
      "text/html": [
       "<div>\n",
       "<style scoped>\n",
       "    .dataframe tbody tr th:only-of-type {\n",
       "        vertical-align: middle;\n",
       "    }\n",
       "\n",
       "    .dataframe tbody tr th {\n",
       "        vertical-align: top;\n",
       "    }\n",
       "\n",
       "    .dataframe thead th {\n",
       "        text-align: right;\n",
       "    }\n",
       "</style>\n",
       "<table border=\"1\" class=\"dataframe\">\n",
       "  <thead>\n",
       "    <tr style=\"text-align: right;\">\n",
       "      <th></th>\n",
       "      <th>title</th>\n",
       "      <th>year</th>\n",
       "      <th>rating</th>\n",
       "      <th>votes</th>\n",
       "      <th>decada</th>\n",
       "      <th>long_titulo</th>\n",
       "    </tr>\n",
       "  </thead>\n",
       "  <tbody>\n",
       "    <tr>\n",
       "      <th>207568</th>\n",
       "      <td>I Saw a Little Bird Flying Over a Psychiatric ...</td>\n",
       "      <td>2018</td>\n",
       "      <td>7.4</td>\n",
       "      <td>34</td>\n",
       "      <td>2010</td>\n",
       "      <td>242</td>\n",
       "    </tr>\n",
       "    <tr>\n",
       "      <th>132745</th>\n",
       "      <td>Night of the Day of the Dawn of the Son of the...</td>\n",
       "      <td>2011</td>\n",
       "      <td>5.4</td>\n",
       "      <td>61</td>\n",
       "      <td>2010</td>\n",
       "      <td>208</td>\n",
       "    </tr>\n",
       "    <tr>\n",
       "      <th>81204</th>\n",
       "      <td>Night of the Day of the Dawn of the Son of the...</td>\n",
       "      <td>2005</td>\n",
       "      <td>4.8</td>\n",
       "      <td>203</td>\n",
       "      <td>2000</td>\n",
       "      <td>196</td>\n",
       "    </tr>\n",
       "    <tr>\n",
       "      <th>6370</th>\n",
       "      <td>Las poquianchis (De los pormenores y otros suc...</td>\n",
       "      <td>1976</td>\n",
       "      <td>7.1</td>\n",
       "      <td>309</td>\n",
       "      <td>1970</td>\n",
       "      <td>165</td>\n",
       "    </tr>\n",
       "    <tr>\n",
       "      <th>113276</th>\n",
       "      <td>While My Girlfriend Was Away on Vacation, I Wa...</td>\n",
       "      <td>2019</td>\n",
       "      <td>8.6</td>\n",
       "      <td>5</td>\n",
       "      <td>2010</td>\n",
       "      <td>152</td>\n",
       "    </tr>\n",
       "  </tbody>\n",
       "</table>\n",
       "</div>"
      ],
      "text/plain": [
       "                                                    title  year  rating  \\\n",
       "207568  I Saw a Little Bird Flying Over a Psychiatric ...  2018     7.4   \n",
       "132745  Night of the Day of the Dawn of the Son of the...  2011     5.4   \n",
       "81204   Night of the Day of the Dawn of the Son of the...  2005     4.8   \n",
       "6370    Las poquianchis (De los pormenores y otros suc...  1976     7.1   \n",
       "113276  While My Girlfriend Was Away on Vacation, I Wa...  2019     8.6   \n",
       "\n",
       "        votes  decada  long_titulo  \n",
       "207568     34    2010          242  \n",
       "132745     61    2010          208  \n",
       "81204     203    2000          196  \n",
       "6370      309    1970          165  \n",
       "113276      5    2010          152  "
      ]
     },
     "execution_count": 23,
     "metadata": {},
     "output_type": "execute_result"
    }
   ],
   "source": [
    "data.sort_values(by=\"long_titulo\", ascending=False).head()"
   ]
  },
  {
   "cell_type": "markdown",
   "metadata": {},
   "source": [
    "\n",
    "### Verificar si contiene una subcadena `s.str.contains()`\n",
    "\n",
    "El método `.str.contains()` permite verificar si cada elemento de una Serie de cadenas contiene una subcadena específica. Devuelve un valor booleano para cada fila.\n",
    "```python\n",
    "# Ejemplo de uso\n",
    "contains_substring = data[\"column_name\"].str.contains(\"subcadena\")"
   ]
  },
  {
   "cell_type": "code",
   "execution_count": 24,
   "metadata": {},
   "outputs": [
    {
     "data": {
      "text/html": [
       "<div>\n",
       "<style scoped>\n",
       "    .dataframe tbody tr th:only-of-type {\n",
       "        vertical-align: middle;\n",
       "    }\n",
       "\n",
       "    .dataframe tbody tr th {\n",
       "        vertical-align: top;\n",
       "    }\n",
       "\n",
       "    .dataframe thead th {\n",
       "        text-align: right;\n",
       "    }\n",
       "</style>\n",
       "<table border=\"1\" class=\"dataframe\">\n",
       "  <thead>\n",
       "    <tr style=\"text-align: right;\">\n",
       "      <th></th>\n",
       "      <th>title</th>\n",
       "      <th>year</th>\n",
       "      <th>rating</th>\n",
       "      <th>votes</th>\n",
       "      <th>decada</th>\n",
       "      <th>long_titulo</th>\n",
       "    </tr>\n",
       "  </thead>\n",
       "  <tbody>\n",
       "    <tr>\n",
       "      <th>0</th>\n",
       "      <td>Spanish Fiesta</td>\n",
       "      <td>2019</td>\n",
       "      <td>6.9</td>\n",
       "      <td>29</td>\n",
       "      <td>2010</td>\n",
       "      <td>14</td>\n",
       "    </tr>\n",
       "    <tr>\n",
       "      <th>1</th>\n",
       "      <td>La tierra de los toros</td>\n",
       "      <td>2000</td>\n",
       "      <td>5.4</td>\n",
       "      <td>14</td>\n",
       "      <td>2000</td>\n",
       "      <td>22</td>\n",
       "    </tr>\n",
       "    <tr>\n",
       "      <th>2</th>\n",
       "      <td>Dama de noche</td>\n",
       "      <td>1993</td>\n",
       "      <td>6.0</td>\n",
       "      <td>25</td>\n",
       "      <td>1990</td>\n",
       "      <td>13</td>\n",
       "    </tr>\n",
       "    <tr>\n",
       "      <th>3</th>\n",
       "      <td>Frivolinas</td>\n",
       "      <td>2014</td>\n",
       "      <td>5.6</td>\n",
       "      <td>19</td>\n",
       "      <td>2010</td>\n",
       "      <td>10</td>\n",
       "    </tr>\n",
       "    <tr>\n",
       "      <th>4</th>\n",
       "      <td>Mya ga naing</td>\n",
       "      <td>1996</td>\n",
       "      <td>7.5</td>\n",
       "      <td>21</td>\n",
       "      <td>1990</td>\n",
       "      <td>12</td>\n",
       "    </tr>\n",
       "  </tbody>\n",
       "</table>\n",
       "</div>"
      ],
      "text/plain": [
       "                    title  year  rating  votes  decada  long_titulo\n",
       "0          Spanish Fiesta  2019     6.9     29    2010           14\n",
       "1  La tierra de los toros  2000     5.4     14    2000           22\n",
       "2           Dama de noche  1993     6.0     25    1990           13\n",
       "3              Frivolinas  2014     5.6     19    2010           10\n",
       "4            Mya ga naing  1996     7.5     21    1990           12"
      ]
     },
     "execution_count": 24,
     "metadata": {},
     "output_type": "execute_result"
    }
   ],
   "source": [
    "data.head()"
   ]
  },
  {
   "cell_type": "code",
   "execution_count": 25,
   "metadata": {},
   "outputs": [
    {
     "data": {
      "text/plain": [
       "34"
      ]
     },
     "execution_count": 25,
     "metadata": {},
     "output_type": "execute_result"
    }
   ],
   "source": [
    "data[\"title\"].str.contains(\"Star Wars\").sum()"
   ]
  },
  {
   "cell_type": "markdown",
   "metadata": {},
   "source": [
    "### Verificar si empieza con una subcadena `s.str.startswith()`\n",
    "\n",
    "El método `.str.startswith()` verifica si las cadenas en una Serie comienzan con una subcadena específica. Devuelve un valor booleano para cada fila.\n",
    "```python\n",
    "# Ejemplo de uso\n",
    "starts_with = data[\"column_name\"].str.startswith(\"subcadena\")\n",
    "```"
   ]
  },
  {
   "cell_type": "code",
   "execution_count": 26,
   "metadata": {},
   "outputs": [
    {
     "data": {
      "text/plain": [
       "3"
      ]
     },
     "execution_count": 26,
     "metadata": {},
     "output_type": "execute_result"
    }
   ],
   "source": [
    "data[\"title\"].str.startswith(\"Bolivia\").sum()"
   ]
  },
  {
   "cell_type": "markdown",
   "metadata": {},
   "source": [
    "### Verificar si termina con una subcadena`s.str.endswith()`\n",
    "\n",
    "El método `.str.endswith()` verifica si las cadenas en una Serie terminan con una subcadena específica. También devuelve un valor booleano."
   ]
  },
  {
   "cell_type": "code",
   "execution_count": 27,
   "metadata": {},
   "outputs": [
    {
     "data": {
      "text/plain": [
       "2102"
      ]
     },
     "execution_count": 27,
     "metadata": {},
     "output_type": "execute_result"
    }
   ],
   "source": [
    "data[\"title\"].str.contains(\"King\",case=False).sum()"
   ]
  },
  {
   "cell_type": "markdown",
   "metadata": {},
   "source": [
    "## Filtros en Pandas\n",
    "\n",
    "Los filtros en Pandas permiten seleccionar datos específicos basados en condiciones. A continuación se muestran algunos métodos comunes para aplicar filtros a un DataFrame.\n",
    "\n",
    "### Filtrar por Condición\n",
    "\n",
    "Se puede aplicar un filtro a un DataFrame utilizando condiciones lógicas. Esto devuelve un DataFrame con las filas que cumplen la condición.\n",
    "\n",
    "```python\n",
    "# Filtrar filas donde el valor de la columna 'Edad' sea mayor que 30\n",
    "filtered_data = data[data[\"Edad\"] > 30]\n",
    "```"
   ]
  },
  {
   "cell_type": "code",
   "execution_count": 28,
   "metadata": {},
   "outputs": [
    {
     "data": {
      "text/html": [
       "<div>\n",
       "<style scoped>\n",
       "    .dataframe tbody tr th:only-of-type {\n",
       "        vertical-align: middle;\n",
       "    }\n",
       "\n",
       "    .dataframe tbody tr th {\n",
       "        vertical-align: top;\n",
       "    }\n",
       "\n",
       "    .dataframe thead th {\n",
       "        text-align: right;\n",
       "    }\n",
       "</style>\n",
       "<table border=\"1\" class=\"dataframe\">\n",
       "  <thead>\n",
       "    <tr style=\"text-align: right;\">\n",
       "      <th></th>\n",
       "      <th>title</th>\n",
       "      <th>year</th>\n",
       "      <th>rating</th>\n",
       "      <th>votes</th>\n",
       "      <th>decada</th>\n",
       "      <th>long_titulo</th>\n",
       "    </tr>\n",
       "  </thead>\n",
       "  <tbody>\n",
       "    <tr>\n",
       "      <th>9602</th>\n",
       "      <td>Star Wars: Episode V - The Empire Strikes Back</td>\n",
       "      <td>1980</td>\n",
       "      <td>8.7</td>\n",
       "      <td>1209617</td>\n",
       "      <td>1980</td>\n",
       "      <td>46</td>\n",
       "    </tr>\n",
       "    <tr>\n",
       "      <th>211987</th>\n",
       "      <td>Star Wars: The Fans Vs Disney</td>\n",
       "      <td>2018</td>\n",
       "      <td>8.7</td>\n",
       "      <td>52</td>\n",
       "      <td>2010</td>\n",
       "      <td>29</td>\n",
       "    </tr>\n",
       "    <tr>\n",
       "      <th>7359</th>\n",
       "      <td>Star Wars: Episode IV - A New Hope</td>\n",
       "      <td>1977</td>\n",
       "      <td>8.6</td>\n",
       "      <td>1281412</td>\n",
       "      <td>1970</td>\n",
       "      <td>34</td>\n",
       "    </tr>\n",
       "    <tr>\n",
       "      <th>201272</th>\n",
       "      <td>Inter Star Wars 2. The Last Jehi</td>\n",
       "      <td>2017</td>\n",
       "      <td>8.6</td>\n",
       "      <td>452</td>\n",
       "      <td>2010</td>\n",
       "      <td>32</td>\n",
       "    </tr>\n",
       "    <tr>\n",
       "      <th>12831</th>\n",
       "      <td>Star Wars: Episode VI - Return of the Jedi</td>\n",
       "      <td>1983</td>\n",
       "      <td>8.3</td>\n",
       "      <td>989725</td>\n",
       "      <td>1980</td>\n",
       "      <td>42</td>\n",
       "    </tr>\n",
       "  </tbody>\n",
       "</table>\n",
       "</div>"
      ],
      "text/plain": [
       "                                                 title  year  rating    votes  \\\n",
       "9602    Star Wars: Episode V - The Empire Strikes Back  1980     8.7  1209617   \n",
       "211987                   Star Wars: The Fans Vs Disney  2018     8.7       52   \n",
       "7359                Star Wars: Episode IV - A New Hope  1977     8.6  1281412   \n",
       "201272                Inter Star Wars 2. The Last Jehi  2017     8.6      452   \n",
       "12831       Star Wars: Episode VI - Return of the Jedi  1983     8.3   989725   \n",
       "\n",
       "        decada  long_titulo  \n",
       "9602      1980           46  \n",
       "211987    2010           29  \n",
       "7359      1970           34  \n",
       "201272    2010           32  \n",
       "12831     1980           42  "
      ]
     },
     "execution_count": 28,
     "metadata": {},
     "output_type": "execute_result"
    }
   ],
   "source": [
    "filtro = data[\"title\"].str.contains(\"Star Wars\", case=False)\n",
    "datos_filtrados1 = data[filtro]\n",
    "datos_filtrados1.head()\n",
    "# Ordenar el DataFrame por el rating de estas películas\n",
    "datos_filtrados1.sort_values(by=[\"rating\",\"votes\"], ascending=False).head()\n"
   ]
  },
  {
   "cell_type": "code",
   "execution_count": 29,
   "metadata": {},
   "outputs": [
    {
     "name": "stdout",
     "output_type": "stream",
     "text": [
      "Las peliculas que contienen la palabra Bolivia son:  7\n"
     ]
    },
    {
     "data": {
      "text/html": [
       "<div>\n",
       "<style scoped>\n",
       "    .dataframe tbody tr th:only-of-type {\n",
       "        vertical-align: middle;\n",
       "    }\n",
       "\n",
       "    .dataframe tbody tr th {\n",
       "        vertical-align: top;\n",
       "    }\n",
       "\n",
       "    .dataframe thead th {\n",
       "        text-align: right;\n",
       "    }\n",
       "</style>\n",
       "<table border=\"1\" class=\"dataframe\">\n",
       "  <thead>\n",
       "    <tr style=\"text-align: right;\">\n",
       "      <th></th>\n",
       "      <th>title</th>\n",
       "      <th>year</th>\n",
       "      <th>rating</th>\n",
       "      <th>votes</th>\n",
       "      <th>decada</th>\n",
       "      <th>long_titulo</th>\n",
       "    </tr>\n",
       "  </thead>\n",
       "  <tbody>\n",
       "    <tr>\n",
       "      <th>25757</th>\n",
       "      <td>Ernesto Che Guevara, the Bolivian Diary</td>\n",
       "      <td>1994</td>\n",
       "      <td>6.7</td>\n",
       "      <td>110</td>\n",
       "      <td>1990</td>\n",
       "      <td>39</td>\n",
       "    </tr>\n",
       "    <tr>\n",
       "      <th>59835</th>\n",
       "      <td>Bolivia</td>\n",
       "      <td>1999</td>\n",
       "      <td>7.3</td>\n",
       "      <td>1142</td>\n",
       "      <td>1990</td>\n",
       "      <td>7</td>\n",
       "    </tr>\n",
       "    <tr>\n",
       "      <th>110995</th>\n",
       "      <td>Return to Bolivia</td>\n",
       "      <td>2008</td>\n",
       "      <td>6.6</td>\n",
       "      <td>6</td>\n",
       "      <td>2000</td>\n",
       "      <td>17</td>\n",
       "    </tr>\n",
       "    <tr>\n",
       "      <th>135543</th>\n",
       "      <td>Erase una vez en Bolivia</td>\n",
       "      <td>2011</td>\n",
       "      <td>8.6</td>\n",
       "      <td>15</td>\n",
       "      <td>2010</td>\n",
       "      <td>24</td>\n",
       "    </tr>\n",
       "    <tr>\n",
       "      <th>145668</th>\n",
       "      <td>Bolivia Siglo XX</td>\n",
       "      <td>2009</td>\n",
       "      <td>8.4</td>\n",
       "      <td>6</td>\n",
       "      <td>2000</td>\n",
       "      <td>16</td>\n",
       "    </tr>\n",
       "    <tr>\n",
       "      <th>147520</th>\n",
       "      <td>The Bolivian Case</td>\n",
       "      <td>2015</td>\n",
       "      <td>6.3</td>\n",
       "      <td>22</td>\n",
       "      <td>2010</td>\n",
       "      <td>17</td>\n",
       "    </tr>\n",
       "    <tr>\n",
       "      <th>186354</th>\n",
       "      <td>Bolivian Woman</td>\n",
       "      <td>2015</td>\n",
       "      <td>5.8</td>\n",
       "      <td>6</td>\n",
       "      <td>2010</td>\n",
       "      <td>14</td>\n",
       "    </tr>\n",
       "  </tbody>\n",
       "</table>\n",
       "</div>"
      ],
      "text/plain": [
       "                                          title  year  rating  votes  decada  \\\n",
       "25757   Ernesto Che Guevara, the Bolivian Diary  1994     6.7    110    1990   \n",
       "59835                                   Bolivia  1999     7.3   1142    1990   \n",
       "110995                        Return to Bolivia  2008     6.6      6    2000   \n",
       "135543                 Erase una vez en Bolivia  2011     8.6     15    2010   \n",
       "145668                         Bolivia Siglo XX  2009     8.4      6    2000   \n",
       "147520                        The Bolivian Case  2015     6.3     22    2010   \n",
       "186354                           Bolivian Woman  2015     5.8      6    2010   \n",
       "\n",
       "        long_titulo  \n",
       "25757            39  \n",
       "59835             7  \n",
       "110995           17  \n",
       "135543           24  \n",
       "145668           16  \n",
       "147520           17  \n",
       "186354           14  "
      ]
     },
     "execution_count": 29,
     "metadata": {},
     "output_type": "execute_result"
    }
   ],
   "source": [
    "filtro2 = data[\"title\"].str.contains(\"Bolivia\", case=False)\n",
    "datos_filtrados2 = data[filtro2]\n",
    "print(\"Las peliculas que contienen la palabra Bolivia son: \",datos_filtrados2[\"title\"].count())\n",
    "datos_filtrados2.head(7)"
   ]
  },
  {
   "cell_type": "markdown",
   "metadata": {},
   "source": [
    "### Filtrar con Múltiples Condiciones\n",
    "\n",
    "Es posible combinar múltiples condiciones usando los operadores `&` (Y) y `|` (O). Recuerda encerrar cada condición entre paréntesis.\n",
    "\n",
    "```python\n",
    "# Filtrar filas donde la 'Edad' sea mayor que 30 y la 'Ciudad' sea 'Cochabamba'\n",
    "filtered_data = data[(data[\"Edad\"] > 30) & (data[\"Ciudad\"] == \"Cochabamba\")]\n",
    "```"
   ]
  },
  {
   "cell_type": "code",
   "execution_count": 30,
   "metadata": {},
   "outputs": [
    {
     "data": {
      "text/html": [
       "<div>\n",
       "<style scoped>\n",
       "    .dataframe tbody tr th:only-of-type {\n",
       "        vertical-align: middle;\n",
       "    }\n",
       "\n",
       "    .dataframe tbody tr th {\n",
       "        vertical-align: top;\n",
       "    }\n",
       "\n",
       "    .dataframe thead th {\n",
       "        text-align: right;\n",
       "    }\n",
       "</style>\n",
       "<table border=\"1\" class=\"dataframe\">\n",
       "  <thead>\n",
       "    <tr style=\"text-align: right;\">\n",
       "      <th></th>\n",
       "      <th>title</th>\n",
       "      <th>year</th>\n",
       "      <th>rating</th>\n",
       "      <th>votes</th>\n",
       "      <th>decada</th>\n",
       "      <th>long_titulo</th>\n",
       "    </tr>\n",
       "  </thead>\n",
       "  <tbody>\n",
       "    <tr>\n",
       "      <th>7359</th>\n",
       "      <td>Star Wars: Episode IV - A New Hope</td>\n",
       "      <td>1977</td>\n",
       "      <td>8.6</td>\n",
       "      <td>1281412</td>\n",
       "      <td>1970</td>\n",
       "      <td>34</td>\n",
       "    </tr>\n",
       "    <tr>\n",
       "      <th>9602</th>\n",
       "      <td>Star Wars: Episode V - The Empire Strikes Back</td>\n",
       "      <td>1980</td>\n",
       "      <td>8.7</td>\n",
       "      <td>1209617</td>\n",
       "      <td>1980</td>\n",
       "      <td>46</td>\n",
       "    </tr>\n",
       "    <tr>\n",
       "      <th>12831</th>\n",
       "      <td>Star Wars: Episode VI - Return of the Jedi</td>\n",
       "      <td>1983</td>\n",
       "      <td>8.3</td>\n",
       "      <td>989725</td>\n",
       "      <td>1980</td>\n",
       "      <td>42</td>\n",
       "    </tr>\n",
       "    <tr>\n",
       "      <th>31334</th>\n",
       "      <td>Star Wars: Episode I - The Phantom Menace</td>\n",
       "      <td>1999</td>\n",
       "      <td>6.5</td>\n",
       "      <td>758296</td>\n",
       "      <td>1990</td>\n",
       "      <td>41</td>\n",
       "    </tr>\n",
       "    <tr>\n",
       "      <th>31520</th>\n",
       "      <td>Star Wars: Episode II - Attack of the Clones</td>\n",
       "      <td>2002</td>\n",
       "      <td>6.5</td>\n",
       "      <td>667886</td>\n",
       "      <td>2000</td>\n",
       "      <td>44</td>\n",
       "    </tr>\n",
       "    <tr>\n",
       "      <th>31521</th>\n",
       "      <td>Star Wars: Episode III - Revenge of the Sith</td>\n",
       "      <td>2005</td>\n",
       "      <td>7.5</td>\n",
       "      <td>740132</td>\n",
       "      <td>2000</td>\n",
       "      <td>44</td>\n",
       "    </tr>\n",
       "    <tr>\n",
       "      <th>103489</th>\n",
       "      <td>Star Wars: The Clone Wars</td>\n",
       "      <td>2008</td>\n",
       "      <td>6.0</td>\n",
       "      <td>61898</td>\n",
       "      <td>2000</td>\n",
       "      <td>25</td>\n",
       "    </tr>\n",
       "    <tr>\n",
       "      <th>149296</th>\n",
       "      <td>Star Wars: Episode VII - The Force Awakens</td>\n",
       "      <td>2015</td>\n",
       "      <td>7.8</td>\n",
       "      <td>887350</td>\n",
       "      <td>2010</td>\n",
       "      <td>42</td>\n",
       "    </tr>\n",
       "    <tr>\n",
       "      <th>149876</th>\n",
       "      <td>Star Wars: Episode VIII - The Last Jedi</td>\n",
       "      <td>2017</td>\n",
       "      <td>6.9</td>\n",
       "      <td>591063</td>\n",
       "      <td>2010</td>\n",
       "      <td>39</td>\n",
       "    </tr>\n",
       "    <tr>\n",
       "      <th>149877</th>\n",
       "      <td>Star Wars: Episode IX - The Rise of Skywalker</td>\n",
       "      <td>2019</td>\n",
       "      <td>6.5</td>\n",
       "      <td>405714</td>\n",
       "      <td>2010</td>\n",
       "      <td>45</td>\n",
       "    </tr>\n",
       "  </tbody>\n",
       "</table>\n",
       "</div>"
      ],
      "text/plain": [
       "                                                 title  year  rating    votes  \\\n",
       "7359                Star Wars: Episode IV - A New Hope  1977     8.6  1281412   \n",
       "9602    Star Wars: Episode V - The Empire Strikes Back  1980     8.7  1209617   \n",
       "12831       Star Wars: Episode VI - Return of the Jedi  1983     8.3   989725   \n",
       "31334        Star Wars: Episode I - The Phantom Menace  1999     6.5   758296   \n",
       "31520     Star Wars: Episode II - Attack of the Clones  2002     6.5   667886   \n",
       "31521     Star Wars: Episode III - Revenge of the Sith  2005     7.5   740132   \n",
       "103489                       Star Wars: The Clone Wars  2008     6.0    61898   \n",
       "149296      Star Wars: Episode VII - The Force Awakens  2015     7.8   887350   \n",
       "149876         Star Wars: Episode VIII - The Last Jedi  2017     6.9   591063   \n",
       "149877   Star Wars: Episode IX - The Rise of Skywalker  2019     6.5   405714   \n",
       "\n",
       "        decada  long_titulo  \n",
       "7359      1970           34  \n",
       "9602      1980           46  \n",
       "12831     1980           42  \n",
       "31334     1990           41  \n",
       "31520     2000           44  \n",
       "31521     2000           44  \n",
       "103489    2000           25  \n",
       "149296    2010           42  \n",
       "149876    2010           39  \n",
       "149877    2010           45  "
      ]
     },
     "execution_count": 30,
     "metadata": {},
     "output_type": "execute_result"
    }
   ],
   "source": [
    "filtro3 = (data[\"title\"].str.contains(\"Star Wars\", case=False) ) & (data[\"votes\"]>10000)\n",
    "datos_filtrados3 = data[filtro3]\n",
    "datos_filtrados3.head(10)"
   ]
  },
  {
   "cell_type": "code",
   "execution_count": 31,
   "metadata": {},
   "outputs": [
    {
     "name": "stdout",
     "output_type": "stream",
     "text": [
      "CPU times: total: 0 ns\n",
      "Wall time: 0 ns\n"
     ]
    },
    {
     "data": {
      "text/html": [
       "<div>\n",
       "<style scoped>\n",
       "    .dataframe tbody tr th:only-of-type {\n",
       "        vertical-align: middle;\n",
       "    }\n",
       "\n",
       "    .dataframe tbody tr th {\n",
       "        vertical-align: top;\n",
       "    }\n",
       "\n",
       "    .dataframe thead th {\n",
       "        text-align: right;\n",
       "    }\n",
       "</style>\n",
       "<table border=\"1\" class=\"dataframe\">\n",
       "  <thead>\n",
       "    <tr style=\"text-align: right;\">\n",
       "      <th></th>\n",
       "      <th>title</th>\n",
       "      <th>year</th>\n",
       "      <th>rating</th>\n",
       "      <th>votes</th>\n",
       "      <th>decada</th>\n",
       "      <th>long_titulo</th>\n",
       "    </tr>\n",
       "  </thead>\n",
       "  <tbody>\n",
       "    <tr>\n",
       "      <th>5690</th>\n",
       "      <td>La pazienza ha un limite... noi no!</td>\n",
       "      <td>1974</td>\n",
       "      <td>4.2</td>\n",
       "      <td>23</td>\n",
       "      <td>1970</td>\n",
       "      <td>35</td>\n",
       "    </tr>\n",
       "    <tr>\n",
       "      <th>8280</th>\n",
       "      <td>Le sucre</td>\n",
       "      <td>1978</td>\n",
       "      <td>6.4</td>\n",
       "      <td>490</td>\n",
       "      <td>1970</td>\n",
       "      <td>8</td>\n",
       "    </tr>\n",
       "    <tr>\n",
       "      <th>14167</th>\n",
       "      <td>Adolescente, sucre d'amour</td>\n",
       "      <td>1985</td>\n",
       "      <td>6.2</td>\n",
       "      <td>26</td>\n",
       "      <td>1980</td>\n",
       "      <td>26</td>\n",
       "    </tr>\n",
       "    <tr>\n",
       "      <th>55167</th>\n",
       "      <td>El jardín de la paz</td>\n",
       "      <td>1989</td>\n",
       "      <td>6.0</td>\n",
       "      <td>12</td>\n",
       "      <td>1980</td>\n",
       "      <td>19</td>\n",
       "    </tr>\n",
       "    <tr>\n",
       "      <th>76553</th>\n",
       "      <td>Un video por la paz</td>\n",
       "      <td>1991</td>\n",
       "      <td>7.0</td>\n",
       "      <td>8</td>\n",
       "      <td>1990</td>\n",
       "      <td>19</td>\n",
       "    </tr>\n",
       "    <tr>\n",
       "      <th>152799</th>\n",
       "      <td>La Paz</td>\n",
       "      <td>2013</td>\n",
       "      <td>6.1</td>\n",
       "      <td>184</td>\n",
       "      <td>2010</td>\n",
       "      <td>6</td>\n",
       "    </tr>\n",
       "    <tr>\n",
       "      <th>159338</th>\n",
       "      <td>La Paz in Buenos Aires</td>\n",
       "      <td>2013</td>\n",
       "      <td>6.0</td>\n",
       "      <td>19</td>\n",
       "      <td>2010</td>\n",
       "      <td>22</td>\n",
       "    </tr>\n",
       "    <tr>\n",
       "      <th>162325</th>\n",
       "      <td>La pazza della porta accanto: Conversazione co...</td>\n",
       "      <td>2013</td>\n",
       "      <td>6.5</td>\n",
       "      <td>30</td>\n",
       "      <td>2010</td>\n",
       "      <td>59</td>\n",
       "    </tr>\n",
       "    <tr>\n",
       "      <th>163236</th>\n",
       "      <td>Casals, La Musica Por La Paz</td>\n",
       "      <td>2012</td>\n",
       "      <td>8.0</td>\n",
       "      <td>13</td>\n",
       "      <td>2010</td>\n",
       "      <td>28</td>\n",
       "    </tr>\n",
       "    <tr>\n",
       "      <th>164754</th>\n",
       "      <td>Road to La Paz</td>\n",
       "      <td>2015</td>\n",
       "      <td>7.0</td>\n",
       "      <td>661</td>\n",
       "      <td>2010</td>\n",
       "      <td>14</td>\n",
       "    </tr>\n",
       "  </tbody>\n",
       "</table>\n",
       "</div>"
      ],
      "text/plain": [
       "                                                    title  year  rating  \\\n",
       "5690                  La pazienza ha un limite... noi no!  1974     4.2   \n",
       "8280                                             Le sucre  1978     6.4   \n",
       "14167                          Adolescente, sucre d'amour  1985     6.2   \n",
       "55167                                 El jardín de la paz  1989     6.0   \n",
       "76553                                 Un video por la paz  1991     7.0   \n",
       "152799                                             La Paz  2013     6.1   \n",
       "159338                             La Paz in Buenos Aires  2013     6.0   \n",
       "162325  La pazza della porta accanto: Conversazione co...  2013     6.5   \n",
       "163236                       Casals, La Musica Por La Paz  2012     8.0   \n",
       "164754                                     Road to La Paz  2015     7.0   \n",
       "\n",
       "        votes  decada  long_titulo  \n",
       "5690       23    1970           35  \n",
       "8280      490    1970            8  \n",
       "14167      26    1980           26  \n",
       "55167      12    1980           19  \n",
       "76553       8    1990           19  \n",
       "152799    184    2010            6  \n",
       "159338     19    2010           22  \n",
       "162325     30    2010           59  \n",
       "163236     13    2010           28  \n",
       "164754    661    2010           14  "
      ]
     },
     "execution_count": 31,
     "metadata": {},
     "output_type": "execute_result"
    }
   ],
   "source": [
    "%time \n",
    "filtro5 = data[\"title\"].str.contains(\"La Paz\", case=False) | data[\"title\"].str.contains(\"Sucre\", case=False)\n",
    "datos_filtrados4 = data[filtro5]    \n",
    "datos_filtrados4.head(10)"
   ]
  },
  {
   "cell_type": "markdown",
   "metadata": {},
   "source": [
    "### Filtrar por Valores Específicos\n",
    "\n",
    "Se puede filtrar para obtener solo las filas que contienen valores específicos en una columna utilizando `.isin()`.\n",
    "```python\n",
    "# Filtrar filas donde la columna 'Ciudad' sea 'La Paz' o 'Santa Cruz'\n",
    "filtered_data = data[data[\"Ciudad\"].isin([\"La Paz\", \"Santa Cruz\"])]"
   ]
  },
  {
   "cell_type": "markdown",
   "metadata": {},
   "source": [
    "## Loc vs iloc: indexacion en Pandas"
   ]
  },
  {
   "cell_type": "code",
   "execution_count": 32,
   "metadata": {},
   "outputs": [
    {
     "data": {
      "text/html": [
       "<div>\n",
       "<style scoped>\n",
       "    .dataframe tbody tr th:only-of-type {\n",
       "        vertical-align: middle;\n",
       "    }\n",
       "\n",
       "    .dataframe tbody tr th {\n",
       "        vertical-align: top;\n",
       "    }\n",
       "\n",
       "    .dataframe thead th {\n",
       "        text-align: right;\n",
       "    }\n",
       "</style>\n",
       "<table border=\"1\" class=\"dataframe\">\n",
       "  <thead>\n",
       "    <tr style=\"text-align: right;\">\n",
       "      <th></th>\n",
       "      <th>title</th>\n",
       "      <th>year</th>\n",
       "      <th>rating</th>\n",
       "      <th>votes</th>\n",
       "      <th>decada</th>\n",
       "      <th>long_titulo</th>\n",
       "    </tr>\n",
       "  </thead>\n",
       "  <tbody>\n",
       "    <tr>\n",
       "      <th>5690</th>\n",
       "      <td>La pazienza ha un limite... noi no!</td>\n",
       "      <td>1974</td>\n",
       "      <td>4.2</td>\n",
       "      <td>23</td>\n",
       "      <td>1970</td>\n",
       "      <td>35</td>\n",
       "    </tr>\n",
       "    <tr>\n",
       "      <th>8280</th>\n",
       "      <td>Le sucre</td>\n",
       "      <td>1978</td>\n",
       "      <td>6.4</td>\n",
       "      <td>490</td>\n",
       "      <td>1970</td>\n",
       "      <td>8</td>\n",
       "    </tr>\n",
       "    <tr>\n",
       "      <th>14167</th>\n",
       "      <td>Adolescente, sucre d'amour</td>\n",
       "      <td>1985</td>\n",
       "      <td>6.2</td>\n",
       "      <td>26</td>\n",
       "      <td>1980</td>\n",
       "      <td>26</td>\n",
       "    </tr>\n",
       "    <tr>\n",
       "      <th>55167</th>\n",
       "      <td>El jardín de la paz</td>\n",
       "      <td>1989</td>\n",
       "      <td>6.0</td>\n",
       "      <td>12</td>\n",
       "      <td>1980</td>\n",
       "      <td>19</td>\n",
       "    </tr>\n",
       "    <tr>\n",
       "      <th>76553</th>\n",
       "      <td>Un video por la paz</td>\n",
       "      <td>1991</td>\n",
       "      <td>7.0</td>\n",
       "      <td>8</td>\n",
       "      <td>1990</td>\n",
       "      <td>19</td>\n",
       "    </tr>\n",
       "  </tbody>\n",
       "</table>\n",
       "</div>"
      ],
      "text/plain": [
       "                                     title  year  rating  votes  decada  \\\n",
       "5690   La pazienza ha un limite... noi no!  1974     4.2     23    1970   \n",
       "8280                              Le sucre  1978     6.4    490    1970   \n",
       "14167           Adolescente, sucre d'amour  1985     6.2     26    1980   \n",
       "55167                  El jardín de la paz  1989     6.0     12    1980   \n",
       "76553                  Un video por la paz  1991     7.0      8    1990   \n",
       "\n",
       "       long_titulo  \n",
       "5690            35  \n",
       "8280             8  \n",
       "14167           26  \n",
       "55167           19  \n",
       "76553           19  "
      ]
     },
     "execution_count": 32,
     "metadata": {},
     "output_type": "execute_result"
    }
   ],
   "source": [
    "datos_filtrados4.head()"
   ]
  },
  {
   "cell_type": "code",
   "execution_count": 33,
   "metadata": {},
   "outputs": [
    {
     "name": "stdout",
     "output_type": "stream",
     "text": [
      "CPU times: total: 0 ns\n",
      "Wall time: 0 ns\n"
     ]
    },
    {
     "data": {
      "text/html": [
       "<div>\n",
       "<style scoped>\n",
       "    .dataframe tbody tr th:only-of-type {\n",
       "        vertical-align: middle;\n",
       "    }\n",
       "\n",
       "    .dataframe tbody tr th {\n",
       "        vertical-align: top;\n",
       "    }\n",
       "\n",
       "    .dataframe thead th {\n",
       "        text-align: right;\n",
       "    }\n",
       "</style>\n",
       "<table border=\"1\" class=\"dataframe\">\n",
       "  <thead>\n",
       "    <tr style=\"text-align: right;\">\n",
       "      <th></th>\n",
       "      <th>title</th>\n",
       "      <th>year</th>\n",
       "      <th>rating</th>\n",
       "      <th>votes</th>\n",
       "      <th>decada</th>\n",
       "      <th>long_titulo</th>\n",
       "    </tr>\n",
       "  </thead>\n",
       "  <tbody>\n",
       "    <tr>\n",
       "      <th>5690</th>\n",
       "      <td>La pazienza ha un limite... noi no!</td>\n",
       "      <td>1974</td>\n",
       "      <td>4.2</td>\n",
       "      <td>23</td>\n",
       "      <td>1970</td>\n",
       "      <td>35</td>\n",
       "    </tr>\n",
       "    <tr>\n",
       "      <th>8280</th>\n",
       "      <td>Le sucre</td>\n",
       "      <td>1978</td>\n",
       "      <td>6.4</td>\n",
       "      <td>490</td>\n",
       "      <td>1970</td>\n",
       "      <td>8</td>\n",
       "    </tr>\n",
       "    <tr>\n",
       "      <th>14167</th>\n",
       "      <td>Adolescente, sucre d'amour</td>\n",
       "      <td>1985</td>\n",
       "      <td>6.2</td>\n",
       "      <td>26</td>\n",
       "      <td>1980</td>\n",
       "      <td>26</td>\n",
       "    </tr>\n",
       "  </tbody>\n",
       "</table>\n",
       "</div>"
      ],
      "text/plain": [
       "                                     title  year  rating  votes  decada  \\\n",
       "5690   La pazienza ha un limite... noi no!  1974     4.2     23    1970   \n",
       "8280                              Le sucre  1978     6.4    490    1970   \n",
       "14167           Adolescente, sucre d'amour  1985     6.2     26    1980   \n",
       "\n",
       "       long_titulo  \n",
       "5690            35  \n",
       "8280             8  \n",
       "14167           26  "
      ]
     },
     "execution_count": 33,
     "metadata": {},
     "output_type": "execute_result"
    }
   ],
   "source": [
    "%time\n",
    "datos_filtrados4.iloc[0:3]"
   ]
  },
  {
   "cell_type": "code",
   "execution_count": 34,
   "metadata": {},
   "outputs": [
    {
     "data": {
      "text/plain": [
       "title          La pazienza ha un limite... noi no!\n",
       "year                                          1974\n",
       "rating                                         4.2\n",
       "votes                                           23\n",
       "decada                                        1970\n",
       "long_titulo                                     35\n",
       "Name: 5690, dtype: object"
      ]
     },
     "execution_count": 34,
     "metadata": {},
     "output_type": "execute_result"
    }
   ],
   "source": [
    "datos_filtrados4.loc[5690]"
   ]
  },
  {
   "cell_type": "markdown",
   "metadata": {},
   "source": []
  },
  {
   "cell_type": "code",
   "execution_count": null,
   "metadata": {},
   "outputs": [],
   "source": []
  }
 ],
 "metadata": {
  "kernelspec": {
   "display_name": "Python 3",
   "language": "python",
   "name": "python3"
  },
  "language_info": {
   "codemirror_mode": {
    "name": "ipython",
    "version": 3
   },
   "file_extension": ".py",
   "mimetype": "text/x-python",
   "name": "python",
   "nbconvert_exporter": "python",
   "pygments_lexer": "ipython3",
   "version": "3.11.4"
  }
 },
 "nbformat": 4,
 "nbformat_minor": 2
}
