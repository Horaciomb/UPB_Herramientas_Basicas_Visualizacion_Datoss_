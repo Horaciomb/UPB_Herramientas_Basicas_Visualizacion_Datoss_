{
    "cells": [
        {
            "cell_type": "markdown",
            "metadata": {},
            "source": [
                "# <img style=\"float: left; padding-right: 20px; height: 70px\" src=\"https://i.imgur.com/cMzxwTN.jpg\"> Herramientas Básicas de Visualización de Datos   \n",
                "\n",
                "## Actividad `I` , sesion III\n",
                "\n",
                "\n",
                "**Universidad Privada Boliviana**<br/>\n",
                "**Diplomado en Machine Learning y Ciencia de Datos**<br/>\n",
                "\n"
            ]
        },
        {
            "attachments": {},
            "cell_type": "markdown",
            "metadata": {},
            "source": [
                "## Manipulación de listas usando bucles de python.\n",
                "> La indexación es muy útil para manipular listas. Sin embargo, las selecciones específicas de una lista necesitan que iteremos sobre cada elemento de la lista antes de hacer una selección."
            ]
        },
        {
            "cell_type": "code",
            "execution_count": 1,
            "metadata": {},
            "outputs": [],
            "source": [
                "# Funcion de ayuda. \n",
                "# Hacer correr este bloque sin modificar el codigo\n",
                "import random\n",
                "test_list = [i for i in range(2000)]\n",
                "test_list = random.sample(test_list,1000)\n",
                "\n",
                "chess_board = [8*['W'],8*['W'],8*[' '],8*[' '],8*[' '],8*[' '],8*['B'],8*['B']]"
            ]
        },
        {
            "cell_type": "code",
            "execution_count": 6,
            "metadata": {},
            "outputs": [
                {
                    "name": "stdout",
                    "output_type": "stream",
                    "text": [
                        "1536\n",
                        "411\n",
                        "1948\n",
                        "149\n",
                        "520\n",
                        "697\n",
                        "270\n",
                        "1056\n",
                        "1075\n",
                        "1838\n"
                    ]
                }
            ],
            "source": [
                "# imprimir los primeros 10 elementos de `test_list`\n",
                "contador=0\n",
                "while contador<10:\n",
                "    print(test_list[contador])\n",
                "    contador+=1"
            ]
        },
        {
            "cell_type": "code",
            "execution_count": 9,
            "metadata": {},
            "outputs": [
                {
                    "name": "stdout",
                    "output_type": "stream",
                    "text": [
                        "[1, 3, 4, 7, 9, 11, 16, 24, 25, 26]\n",
                        "1\n",
                        "3\n",
                        "4\n",
                        "7\n",
                        "9\n",
                        "11\n",
                        "16\n",
                        "24\n",
                        "25\n",
                        "26\n"
                    ]
                }
            ],
            "source": [
                "#Ordene el contenido de test list, llame esta variable sorted_list\n",
                "# verifique el contenido de `test_list` después de ordenarlo\n",
                "sorted_list = sorted(test_list)\n",
                "# Imprime los primeros diez elementos de sorted_list\n",
                "print(sorted_list[:10])\n",
                "for i in range(10):\n",
                "    print(sorted_list[i])"
            ]
        },
        {
            "attachments": {},
            "cell_type": "markdown",
            "metadata": {},
            "source": [
                "### ⏸ ¿Qué método de lista puede usar para agregar un solo elemento a la lista?\n",
                "\n",
                "#### A. `append()`\n",
                "#### B. `extend()`\n",
                "#### C. `add()`\n",
                "#### D. `pop()`\n"
            ]
        },
        {
            "cell_type": "code",
            "execution_count": 10,
            "metadata": {},
            "outputs": [],
            "source": [
                "\n",
                "# Envíe una opción de respuesta como una cadena a continuación (por ejemplo, si elige la opción A, escriba 'A')\n",
                "answer1 = 'A'"
            ]
        },
        {
            "cell_type": "code",
            "execution_count": 13,
            "metadata": {},
            "outputs": [
                {
                    "name": "stdout",
                    "output_type": "stream",
                    "text": [
                        "[1536, 1948, 520, 270, 1056, 1838, 1096, 314, 1764, 366]\n"
                    ]
                }
            ],
            "source": [
                "# Esta vez, use un bucle for para encontrar todos los números pares y agréguelos a 'even_list'\n",
                "even_list = []\n",
                "for element in test_list:\n",
                "    if element % 2 == 0:\n",
                "        even_list.append(element)\n",
                "        \n",
                "# Comprueba si la lista consta solo de números pares   \n",
                "print(even_list[:10])        "
            ]
        },
        {
            "cell_type": "code",
            "execution_count": 14,
            "metadata": {},
            "outputs": [
                {
                    "name": "stdout",
                    "output_type": "stream",
                    "text": [
                        "[411, 149, 697, 1075, 1007, 587, 263, 1595, 391, 1355]\n"
                    ]
                }
            ],
            "source": [
                "# Nuevamente use un ciclo para encontrar todos los números impares y agréguelos a 'odd_list'\n",
                "odd_list = []\n",
                "for element in test_list:\n",
                "        if element % 2 != 0:\n",
                "            odd_list.append(element)\n",
                "    \n",
                "# Comprueba si la lista consta solo de enteros impares\n",
                "print(odd_list[:10])        "
            ]
        },
        {
            "attachments": {},
            "cell_type": "markdown",
            "metadata": {},
            "source": [
                "### 🍲 Para el siguiente código, ¿cuándo se imprimirá `¡Buena elección!`?\n",
                "\n",
                "```python\n",
                "while True:\n",
                "    name = input('Cual es tu color favorito?')\n",
                "    if name == 'rojo':\n",
                "        break\n",
                "print(\"¡Buena elección!\")\n",
                "```\n",
                "#### A. el usuario ingresa `rojo`\n",
                "#### B. el usuario usa `command/ctrl + C` para salir del bucle\n",
                "#### C. entradas de usuario `Rojo`\n",
                "#### Todo lo anterior"
            ]
        },
        {
            "cell_type": "code",
            "execution_count": null,
            "metadata": {},
            "outputs": [],
            "source": [
                "# Envíe una opción de respuesta como un string (por ejemplo, si elige la opción A, escriba 'A')\n",
                "answer2 = 'A'"
            ]
        }
    ],
    "metadata": {
        "kernelspec": {
            "display_name": "Python 3",
            "language": "python",
            "name": "python3"
        },
        "language_info": {
            "codemirror_mode": {
                "name": "ipython",
                "version": 3
            },
            "file_extension": ".py",
            "mimetype": "text/x-python",
            "name": "python",
            "nbconvert_exporter": "python",
            "pygments_lexer": "ipython3",
            "version": "3.11.4"
        }
    },
    "nbformat": 4,
    "nbformat_minor": 4
}
