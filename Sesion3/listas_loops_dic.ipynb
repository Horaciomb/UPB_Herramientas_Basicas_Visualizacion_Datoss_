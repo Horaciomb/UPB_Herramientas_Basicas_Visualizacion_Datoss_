{
 "cells": [
  {
   "cell_type": "markdown",
   "metadata": {},
   "source": [
    "# <img style=\"float: left; padding-right: 20px; height: 70px\" src=\"https://i.imgur.com/cMzxwTN.jpg\"> Herramientas Básicas de Visualización de Datos   \n",
    "\n",
    "\n",
    "# **Python: Listas, bucles y diccionarios**\n",
    "\n",
    "**Universidad Privada Boliviana**<br/>\n",
    "**Diplomado en Machine Learning y Ciencia de Datos**<br/>"
   ]
  },
  {
   "cell_type": "markdown",
   "metadata": {},
   "source": [
    "\n",
    "## **List Aliasing en Python y cómo resolverlo con `.copy()`**\n",
    "En Python, el \"list aliasing\" ocurre cuando dos variables hacen referencia a la misma lista en memoria. Esto significa que cualquier cambio realizado en la lista a través de una variable también afectará a la otra, ya que ambas comparten el mismo objeto.\n",
    "\n",
    "###**Ejemplo de List Aliasing**\n",
    "```python\n",
    "# Creamos una lista original\n",
    "mi_lista = [1, 2, 3]\n"
   ]
  },
  {
   "cell_type": "code",
   "execution_count": 1,
   "metadata": {},
   "outputs": [
    {
     "name": "stdout",
     "output_type": "stream",
     "text": [
      "[99, 2, 3]\n",
      "[99, 2, 3]\n"
     ]
    }
   ],
   "source": [
    "# Creamos una lista original\n",
    "mi_lista = [1, 2, 3]\n",
    "\n",
    "# Asignamos la lista a otra variable\n",
    "otra_lista = mi_lista\n",
    "\n",
    "# Modificamos otra_lista\n",
    "otra_lista[0] = 99\n",
    "\n",
    "print(mi_lista)  # Salida: [99, 2, 3]\n",
    "print(otra_lista)  # Salida: [99, 2, 3]"
   ]
  },
  {
   "cell_type": "markdown",
   "metadata": {},
   "source": [
    "### Explicación:\n",
    "\n",
    "En el ejemplo anterior, `otra_lista` no es una nueva copia de `mi_lista`, sino una referencia al mismo objeto en memoria. Por lo tanto, modificar `otra_lista` también modifica `mi_lista`.\n",
    "\n",
    "### Solución: Utilizar el método `.copy()`\n",
    "\n",
    "El método `.copy()` permite crear una copia superficial (shallow copy) de una lista, lo que significa que se crea un nuevo objeto independiente en memoria. Los cambios realizados en una lista no afectarán a la otra."
   ]
  },
  {
   "cell_type": "code",
   "execution_count": 2,
   "metadata": {},
   "outputs": [
    {
     "name": "stdout",
     "output_type": "stream",
     "text": [
      "[1, 2, 3]\n",
      "[99, 2, 3]\n"
     ]
    }
   ],
   "source": [
    "# Creamos una lista original\n",
    "mi_lista = [1, 2, 3]\n",
    "\n",
    "# Creamos una copia independiente usando .copy()\n",
    "otra_lista = mi_lista.copy()\n",
    "\n",
    "# Modificamos otra_lista\n",
    "otra_lista[0] = 99\n",
    "\n",
    "print(mi_lista)  # Salida: [1, 2, 3]\n",
    "print(otra_lista)  # Salida: [99, 2, 3]"
   ]
  },
  {
   "cell_type": "markdown",
   "metadata": {},
   "source": [
    "### Explicación:\n",
    "\n",
    "En este caso, `otra_lista` es una copia independiente de `mi_lista`. Modificar `otra_lista` no afecta a `mi_lista` porque ya no comparten el mismo objeto en memoria.\n"
   ]
  },
  {
   "cell_type": "markdown",
   "metadata": {},
   "source": [
    "\n",
    "\n",
    "## **Bucles en Python: `for`**\n",
    "\n",
    "El bucle `for` en Python se utiliza para iterar sobre una secuencia, como una lista, tupla, cadena o rango de números. A continuación, exploraremos su sintaxis, ejemplos y algunos casos prácticos.\n",
    "\n",
    "## Sintaxis Básica\n",
    "```python\n",
    "for elemento in secuencia:\n",
    "    # Bloque de código\n",
    "```\n",
    "\n",
    "-   `elemento`: Variable que toma el valor de cada elemento de la secuencia durante cada iteración.\n",
    "-   `secuencia`: Cualquier objeto iterable como listas, tuplas, cadenas o rangos."
   ]
  },
  {
   "cell_type": "markdown",
   "metadata": {},
   "source": [
    "### **Ejemplo 1: Iterar sobre una lista**"
   ]
  },
  {
   "cell_type": "code",
   "execution_count": 3,
   "metadata": {},
   "outputs": [
    {
     "name": "stdout",
     "output_type": "stream",
     "text": [
      "1\n",
      "2\n",
      "3\n",
      "4\n",
      "5\n"
     ]
    }
   ],
   "source": [
    "# Ejemplo\n",
    "\n",
    "numeros = [1, 2, 3, 4, 5]\n",
    "for numero in numeros:\n",
    "    print(numero)"
   ]
  },
  {
   "cell_type": "markdown",
   "metadata": {},
   "source": [
    "### **Ejemplo 2: Uso del rango (`range()`)**"
   ]
  },
  {
   "cell_type": "code",
   "execution_count": 4,
   "metadata": {},
   "outputs": [
    {
     "name": "stdout",
     "output_type": "stream",
     "text": [
      "0\n",
      "1\n",
      "2\n",
      "3\n",
      "4\n"
     ]
    }
   ],
   "source": [
    "# Iteración de 0 a 4\n",
    "for i in range(5):  # Va de 0 a 4\n",
    "    print(i)"
   ]
  },
  {
   "cell_type": "code",
   "execution_count": 27,
   "metadata": {},
   "outputs": [
    {
     "name": "stdout",
     "output_type": "stream",
     "text": [
      "2\n",
      "4\n",
      "6\n",
      "8\n",
      "10\n",
      "12\n",
      "14\n",
      "16\n",
      "18\n"
     ]
    }
   ],
   "source": [
    "# Rango con inicio, fin y paso\n",
    "for i in range(2, 20, 2):  # De 2 a 10, avanzando de 2 en 2\n",
    "    print(i)"
   ]
  },
  {
   "cell_type": "markdown",
   "metadata": {},
   "source": [
    "### **Ejemplo 3: Iterar sobre una cadena**\n",
    "\n"
   ]
  },
  {
   "cell_type": "code",
   "execution_count": 35,
   "metadata": {},
   "outputs": [
    {
     "name": "stdout",
     "output_type": "stream",
     "text": [
      "['Universidad', 'privada', 'boliviana']\n",
      "Universidad\n",
      "privada\n",
      "boliviana\n"
     ]
    }
   ],
   "source": [
    "palabra = \"Python\"\n",
    "frase= \"Universidad privada boliviana\"\n",
    "print(frase.split())\n",
    "for palabra in frase.split():\n",
    "    print(palabra)"
   ]
  },
  {
   "cell_type": "markdown",
   "metadata": {},
   "source": [
    "### **Problema:  Limpieza de Datos**\n",
    "Dada una lista que contiene valores mixtos (enteros y cadenas), elimina todos los elementos que no sean enteros.\n",
    "\n",
    "### Entrada:\n",
    "```python\n",
    "datos = [10, \"NaN\", 15, \"missing\", 20, \"error\", 25]\n",
    "# Salida: [10, 15, 20, 25]"
   ]
  },
  {
   "cell_type": "code",
   "execution_count": 38,
   "metadata": {},
   "outputs": [
    {
     "name": "stdout",
     "output_type": "stream",
     "text": [
      "<class 'int'> True\n",
      "<class 'str'> False\n",
      "<class 'int'> True\n",
      "<class 'str'> False\n",
      "<class 'int'> True\n",
      "<class 'str'> False\n",
      "<class 'int'> True\n",
      "[10, 15, 20, 25]\n"
     ]
    }
   ],
   "source": [
    "datos=[10,\"Nan\",15,\"mising\",20,\"error\",25]\n",
    "datos_filtrados=[]\n",
    "\n",
    "for elemento in datos:\n",
    "    tipo_dato=type(elemento)\n",
    "    print(tipo_dato, tipo_dato==int)\n",
    "    if tipo_dato==int:\n",
    "        datos_filtrados.append(elemento)\n",
    "print(datos_filtrados)"
   ]
  },
  {
   "cell_type": "markdown",
   "metadata": {},
   "source": [
    "### **Codificación One-Hot**\n",
    "\n",
    "Dada una lista de categorías, genera la codificación _one-hot_ correspondiente.\n",
    "\n",
    "### Entrada:\n",
    "\n",
    "```python \n",
    "categorias = [\"rojo\", \"verde\", \"azul\", \"rojo\"]\n",
    "\n",
    "# salida esperada\n",
    "\n",
    "# [\n",
    "#    [1, 0, 0],  # rojo\n",
    "#    [0, 1, 0],  # verde\n",
    "#    [0, 0, 1],  # azul\n",
    "#    [1, 0, 0]   # rojo\n",
    "# ]\n",
    "```\n",
    "*Sugerencia: Utilice el set  de una lista para eliminar duplicados en una lista:*\n",
    "\n",
    " *`categorias_unicas = list(set(categorias))`*"
   ]
  },
  {
   "cell_type": "code",
   "execution_count": 41,
   "metadata": {},
   "outputs": [
    {
     "name": "stdout",
     "output_type": "stream",
     "text": [
      "[[1, 0, 0], [0, 1, 0], [0, 0, 1], [1, 0, 0]]\n"
     ]
    }
   ],
   "source": [
    "categorias = [\"rojo\",\"verde\",\"azul\",\"rojo\"]\n",
    "one_hot=[]\n",
    "for categoria in categorias:\n",
    "    if categoria==\"rojo\":\n",
    "        one_hot.append([1,0,0])\n",
    "    elif categoria==\"verde\":\n",
    "        one_hot.append([0,1,0])\n",
    "    elif categoria==\"azul\":\n",
    "        one_hot.append([0,0,1])\n",
    "print(one_hot)  "
   ]
  },
  {
   "cell_type": "code",
   "execution_count": 44,
   "metadata": {},
   "outputs": [
    {
     "name": "stdout",
     "output_type": "stream",
     "text": [
      "[[1, 0, 0, 0], [0, 1, 0, 0], [0, 0, 1, 0], [1, 0, 0, 0], [0, 0, 0, 1]]\n"
     ]
    }
   ],
   "source": [
    "categorias = [\"rojo\", \"verde\", \"azul\", \"rojo\",\"blanco\"]\n",
    "valores_unicos = list(set(categorias))\n",
    "indice = {valor: i for i, valor in enumerate(valores_unicos)}\n",
    "\n",
    "onehot = [[1 if i == indice[cat] else 0 for i in range(len(valores_unicos))] for cat in categorias]\n",
    "\n",
    "print(onehot)\n"
   ]
  },
  {
   "cell_type": "markdown",
   "metadata": {},
   "source": [
    "## **Bucle `while` en Python**\n",
    "\n",
    "El bucle `while` en Python se utiliza para ejecutar un bloque de código de forma repetitiva mientras se cumpla una condición. Este bucle es útil cuando no sabemos de antemano cuántas iteraciones se necesitarán.\n",
    "\n",
    "---\n",
    "\n",
    "### Sintaxis Básica\n",
    "\n",
    "```python\n",
    "while condicion:\n",
    "    # Bloque de código\n",
    "```\n",
    "\n",
    "-   **`condicion`**: Una expresión lógica que se evalúa como `True` o `False`. Mientras sea `True`, el bucle continuará.\n",
    "-   **Bloque de código**: Se ejecuta repetidamente mientras la condición sea verdadera."
   ]
  },
  {
   "cell_type": "markdown",
   "metadata": {},
   "source": [
    "### **Ejemplo 1: Contador Básico**\n",
    "\n"
   ]
  },
  {
   "cell_type": "code",
   "execution_count": 7,
   "metadata": {},
   "outputs": [
    {
     "name": "stdout",
     "output_type": "stream",
     "text": [
      "0\n",
      "1\n",
      "2\n",
      "3\n",
      "4\n"
     ]
    }
   ],
   "source": [
    "contador = 0\n",
    "while contador < 5:\n",
    "    print(contador)\n",
    "    contador += 1"
   ]
  },
  {
   "cell_type": "markdown",
   "metadata": {},
   "source": [
    "### **Ejemplo 2: Usar break para Salir del Bucle**\n",
    "El comando `break` permite salir de un bucle `while` antes de que la condición sea False."
   ]
  },
  {
   "cell_type": "code",
   "execution_count": 8,
   "metadata": {},
   "outputs": [
    {
     "name": "stdout",
     "output_type": "stream",
     "text": [
      "0\n",
      "1\n",
      "2\n",
      "3\n",
      "4\n",
      "5\n"
     ]
    }
   ],
   "source": [
    "contador = 0\n",
    "while contador < 10:\n",
    "    print(contador)\n",
    "    if contador == 5:\n",
    "        break  # Sale del bucle cuando contador es 5\n",
    "    contador += 1"
   ]
  },
  {
   "cell_type": "markdown",
   "metadata": {},
   "source": [
    "### **Ejemplo 3: Usar `continue` para Saltar una Iteración**\n",
    "\n",
    "El comando `continue` permite saltar a la siguiente iteración sin ejecutar el código que viene después en la misma iteración."
   ]
  },
  {
   "cell_type": "code",
   "execution_count": 9,
   "metadata": {},
   "outputs": [
    {
     "name": "stdout",
     "output_type": "stream",
     "text": [
      "1\n",
      "2\n",
      "3\n",
      "5\n",
      "6\n",
      "7\n"
     ]
    }
   ],
   "source": [
    "contador = 0\n",
    "while contador < 7:\n",
    "    contador += 1\n",
    "    if contador == 4:\n",
    "        continue  # Salta la iteración cuando contador es 4\n",
    "    print(contador)"
   ]
  },
  {
   "cell_type": "markdown",
   "metadata": {},
   "source": [
    "### Ejemplo 4: Pedir una Entrada Válida al Usuario\n",
    "\n",
    "Este ejemplo muestra cómo usar un bucle `while` para seguir pidiendo al usuario que ingrese un número mayor que 10 hasta que lo haga correctamente."
   ]
  },
  {
   "cell_type": "code",
   "execution_count": 10,
   "metadata": {},
   "outputs": [
    {
     "name": "stdout",
     "output_type": "stream",
     "text": [
      "¡Gracias! Has ingresado un número mayor que 10.\n"
     ]
    }
   ],
   "source": [
    "while True:\n",
    "    entrada = input(\"Introduce un número mayor que 10: \")\n",
    "    if entrada.isdigit() and int(entrada) > 10:\n",
    "        print(\"¡Gracias! Has ingresado un número mayor que 10.\")\n",
    "        break\n",
    "    else:\n",
    "        print(\"Entrada no válida. Inténtalo de nuevo.\")"
   ]
  },
  {
   "cell_type": "markdown",
   "metadata": {},
   "source": [
    "### **Problema: Eliminar Elementos de la Lista**\n",
    "\n",
    "Dada una lista de números, escribe un programa que elimine todos los elementos menores que 10 utilizando un bucle `while`.\n",
    "\n",
    "**Entrada:**  \n",
    "`[2, 5, 12, 8, 3, 9, 15, 20]`\n",
    "\n",
    "**Requerimiento:**  \n",
    "El programa debe eliminar todos los números menores que 10. Utiliza un bucle `while` para recorrer la lista y el método `remove()` para eliminar elementos."
   ]
  },
  {
   "cell_type": "code",
   "execution_count": 59,
   "metadata": {},
   "outputs": [
    {
     "name": "stdout",
     "output_type": "stream",
     "text": [
      "2\n",
      "5\n",
      "8\n",
      "3\n",
      "9\n",
      "[12, 15, 20]\n"
     ]
    }
   ],
   "source": [
    "datos_crudos=[2,5,12,8,3,9,15,20]\n",
    "contador=0\n",
    "num_elemnetos=len(datos_crudos)\n",
    "while contador < len(datos_crudos):\n",
    "    if datos_crudos[contador] < 10:\n",
    "        print(datos_crudos[contador])\n",
    "        datos_crudos.remove(datos_crudos[contador])\n",
    "    else:\n",
    "        contador += 1\n",
    "print(datos_crudos)   "
   ]
  },
  {
   "cell_type": "markdown",
   "metadata": {},
   "source": [
    "### **Problema : Encontrar el Primer Elemento Mayor que un Valor Dado**\n",
    "\n",
    "Dada una lista de números y un número específico, escribe un programa que encuentre el primer número que sea mayor que el valor dado.\n",
    "\n",
    "**Entrada:**  \n",
    "Lista: `[1, 4, 8, 15, 10, 20]`  \n",
    "Valor dado: `7`\n",
    "\n",
    "**Requerimiento:**  \n",
    "Utiliza un bucle `while` para recorrer la lista y detener el bucle cuando encuentres el primer número mayor que el valor dado."
   ]
  },
  {
   "cell_type": "code",
   "execution_count": 61,
   "metadata": {},
   "outputs": [
    {
     "name": "stdout",
     "output_type": "stream",
     "text": [
      "8\n"
     ]
    }
   ],
   "source": [
    "lista=[1,4,8,15,10,20]\n",
    "contador=0\n",
    "num_elementos=len(lista)\n",
    "valor_dado=7\n",
    "while contador < num_elementos:\n",
    "    if lista[contador] > valor_dado:\n",
    "        print(lista[contador])\n",
    "        break\n",
    "    contador += 1"
   ]
  },
  {
   "cell_type": "markdown",
   "metadata": {},
   "source": [
    "### **Problema: Filtrar Datos por Rango de Valores**\n",
    "\n",
    "Dada una lista de temperaturas registradas durante una semana, escribe un programa que filtre las temperaturas que se encuentran en el rango de 20°C a 30°C.\n",
    "\n",
    "**Entrada:**  \n",
    "Temperaturas: `[18, 22, 30, 28, 35, 24, 26, 19, 32]`\n",
    "\n",
    "**Requerimiento:**  \n",
    "Usa un bucle `for` y el método `append()` para crear una nueva lista con las temperaturas que estén en el rango de 20°C a 30°C."
   ]
  },
  {
   "cell_type": "code",
   "execution_count": 64,
   "metadata": {},
   "outputs": [
    {
     "name": "stdout",
     "output_type": "stream",
     "text": [
      "[28, 26]\n"
     ]
    }
   ],
   "source": [
    "temperaturas= [18, 22, 30, 28, 35, 24, 26, 19, 32]\n",
    "nueva_lista=[]\n",
    "for temperatura in temperaturas:\n",
    "    if temperatura > 25 and temperatura < 30:\n",
    "        nueva_lista.append(temperatura)\n",
    "print(nueva_lista)"
   ]
  },
  {
   "cell_type": "markdown",
   "metadata": {},
   "source": [
    "### **Problema: Convertir una Lista de Fechas a Formato de Año-Mes-Día\n",
    "**\n",
    "Dada una lista de fechas en formato `DD/MM/AAAA`, escribe un programa que convierta cada fecha a formato `AAAA-MM-DD`.\n",
    "\n",
    "**Entrada:**  \n",
    "Fechas: `[\"14/02/2024\", \"22/03/2023\", \"05/01/2025\", \"18/08/2022\"]`\n",
    "\n",
    "**Requerimiento:**  \n",
    "Utiliza un bucle `for` y el método `split()` para transformar cada fecha en el formato requerido."
   ]
  },
  {
   "cell_type": "code",
   "execution_count": 74,
   "metadata": {},
   "outputs": [
    {
     "name": "stdout",
     "output_type": "stream",
     "text": [
      "['2024-02-14', '2023-03-22', '2025-01-05', '2022-08-18']\n"
     ]
    }
   ],
   "source": [
    "fechas=[\"14/02/2024\",\"22/03/2023\",\"05/01/2025\",\"18/08/2022\"]\n",
    "fecha_invertido=[]\n",
    "for fecha in fechas:\n",
    "    dd=(fecha.split(\"/\")[0])\n",
    "    mm=(fecha.split(\"/\")[1])\n",
    "    aaaa=(fecha.split(\"/\")[2])\n",
    "    fecha_invertido.append(f\"{aaaa}-{mm}-{dd}\")\n",
    "print(fecha_invertido)"
   ]
  },
  {
   "cell_type": "markdown",
   "metadata": {},
   "source": [
    "## **Diccionarios en Python**\n",
    "\n",
    "Los **diccionarios** en Python son estructuras de datos que permiten almacenar pares de clave-valor. A diferencia de las listas, que están basadas en índices numéricos, los diccionarios usan claves únicas para acceder a los valores asociados.\n",
    "\n",
    "### **Estructura de un Diccionario**\n",
    "\n",
    "Un diccionario es una colección no ordenada, mutable e indexada, que está formada por pares de elementos: una **clave** (key) y un **valor** (value). La clave debe ser única y el valor puede ser de cualquier tipo de datos.\n",
    "\n",
    "### Sintaxis Básica:"
   ]
  },
  {
   "cell_type": "code",
   "execution_count": 75,
   "metadata": {},
   "outputs": [],
   "source": [
    "mi_diccionario = {\"clave1\": \"valor1\", \"clave2\": \"valor2\", \"clave3\": \"valor3\"}"
   ]
  },
  {
   "cell_type": "markdown",
   "metadata": {},
   "source": [
    "### **Creación de Diccionarios**\n",
    "\n",
    "Puedes crear un diccionario de varias maneras:\n",
    "\n",
    "-   **Uso de llaves (`{}`):**"
   ]
  },
  {
   "cell_type": "code",
   "execution_count": 78,
   "metadata": {},
   "outputs": [
    {
     "name": "stdout",
     "output_type": "stream",
     "text": [
      "{'nombre': 'Juan', 'edad': 25, 'ciudad': 'Madrid', 'Activo': True}\n"
     ]
    }
   ],
   "source": [
    "persona = {\"nombre\": \"Juan\", \"edad\": 25, \"ciudad\": \"Madrid\",\"Activo\":True}\n",
    "\n",
    "print(persona)"
   ]
  },
  {
   "cell_type": "code",
   "execution_count": 83,
   "metadata": {},
   "outputs": [],
   "source": [
    "departamento={\"nombre\":\"Pando\",\"ubicacion\":\"Norte\",\"poblacion\":25}\n",
    "departamento2={\"nombre\":\"La Paz\",\"ubicacion\":\"Oeste\",\"poblacion\":100}\n",
    "departamento3={\"nombre\":\"Santa Cruz\",\"ubicacion\":\"Este\",\"poblacion\":200}\n"
   ]
  },
  {
   "cell_type": "markdown",
   "metadata": {},
   "source": [
    "- **Uso del constructor `dict()`:**"
   ]
  },
  {
   "cell_type": "code",
   "execution_count": 84,
   "metadata": {},
   "outputs": [],
   "source": [
    "persona = dict(nombre=\"Juan\", edad=25, ciudad=\"Madrid\")"
   ]
  },
  {
   "cell_type": "markdown",
   "metadata": {},
   "source": [
    "### **Acceso a los Valores**\n",
    "\n",
    "Para acceder a los valores en un diccionario, utilizas las claves correspondientes entre corchetes `[]` o el método `.get()`."
   ]
  },
  {
   "cell_type": "code",
   "execution_count": 14,
   "metadata": {},
   "outputs": [
    {
     "name": "stdout",
     "output_type": "stream",
     "text": [
      "Juan\n",
      "25\n"
     ]
    }
   ],
   "source": [
    "# Acceder con corchetes []\n",
    "nombre = persona[\"nombre\"]\n",
    "print(nombre)  # Salida: Juan\n",
    "\n",
    "# Usando .get() para evitar errores si la clave no existe\n",
    "edad = persona.get(\"edad\")\n",
    "print(edad)  # Salida: 25"
   ]
  },
  {
   "cell_type": "markdown",
   "metadata": {},
   "source": [
    "### **Modificación de los Valores**\n",
    "\n",
    "Puedes modificar un valor en el diccionario asignando un nuevo valor a una clave existente."
   ]
  },
  {
   "cell_type": "code",
   "execution_count": 15,
   "metadata": {},
   "outputs": [
    {
     "name": "stdout",
     "output_type": "stream",
     "text": [
      "26\n"
     ]
    }
   ],
   "source": [
    "persona[\"edad\"] = 26  # Modificando el valor de la clave \"edad\"\n",
    "print(persona[\"edad\"])  # Salida: 26"
   ]
  },
  {
   "cell_type": "markdown",
   "metadata": {},
   "source": [
    "### **Agregar Nuevas Claves**\n",
    "\n",
    "Para agregar un nuevo par clave-valor al diccionario, solo debes asignar un valor a una nueva clave."
   ]
  },
  {
   "cell_type": "code",
   "execution_count": 85,
   "metadata": {},
   "outputs": [
    {
     "name": "stdout",
     "output_type": "stream",
     "text": [
      "{'nombre': 'Juan', 'edad': 25, 'ciudad': 'Madrid', 'ocupacion': 'Ingeniero'}\n"
     ]
    }
   ],
   "source": [
    "persona[\"ocupacion\"] = \"Ingeniero\"  # Agregando una nueva clave\n",
    "print(persona)"
   ]
  },
  {
   "cell_type": "markdown",
   "metadata": {},
   "source": [
    "### **Eliminar Claves**\n",
    "\n",
    "Puedes eliminar un par clave-valor de un diccionario usando el comando `del` o el método `.pop()`"
   ]
  },
  {
   "cell_type": "code",
   "execution_count": 17,
   "metadata": {},
   "outputs": [
    {
     "name": "stdout",
     "output_type": "stream",
     "text": [
      "{'nombre': 'Juan', 'edad': 26, 'ocupacion': 'Ingeniero'}\n",
      "Ingeniero\n",
      "{'nombre': 'Juan', 'edad': 26}\n"
     ]
    }
   ],
   "source": [
    "# Usando del\n",
    "del persona[\"ciudad\"]\n",
    "print(persona)  # Salida: {\"nombre\": \"Juan\", \"edad\": 26, \"ocupacion\": \"Ingeniero\"}\n",
    "\n",
    "# Usando pop() que también devuelve el valor eliminado\n",
    "ocupacion = persona.pop(\"ocupacion\")\n",
    "print(ocupacion)  # Salida: Ingeniero\n",
    "print(persona)  # Salida: {\"nombre\": \"Juan\", \"edad\": 26}"
   ]
  },
  {
   "cell_type": "markdown",
   "metadata": {},
   "source": [
    "### **Métodos Comunes de Diccionarios**\n",
    "\n",
    "Python ofrece varios métodos útiles para trabajar con diccionarios:\n",
    "\n",
    "-   **`.keys()`**: Devuelve una vista de todas las claves del diccionario."
   ]
  },
  {
   "cell_type": "code",
   "execution_count": 18,
   "metadata": {},
   "outputs": [
    {
     "name": "stdout",
     "output_type": "stream",
     "text": [
      "dict_keys(['nombre', 'edad'])\n"
     ]
    }
   ],
   "source": [
    "claves = persona.keys()\n",
    "print(claves) "
   ]
  },
  {
   "cell_type": "markdown",
   "metadata": {},
   "source": [
    "- **`.values()`**: Devuelve una vista de todos los valores del diccionario."
   ]
  },
  {
   "cell_type": "code",
   "execution_count": 19,
   "metadata": {},
   "outputs": [
    {
     "name": "stdout",
     "output_type": "stream",
     "text": [
      "dict_values(['Juan', 26])\n"
     ]
    }
   ],
   "source": [
    "valores = persona.values()\n",
    "print(valores) "
   ]
  },
  {
   "cell_type": "markdown",
   "metadata": {},
   "source": [
    "- **`.items()`**: Devuelve una vista de todos los pares clave-valor en el diccionario."
   ]
  },
  {
   "cell_type": "code",
   "execution_count": 20,
   "metadata": {},
   "outputs": [
    {
     "name": "stdout",
     "output_type": "stream",
     "text": [
      "dict_items([('nombre', 'Juan'), ('edad', 26)])\n"
     ]
    }
   ],
   "source": [
    "items = persona.items()\n",
    "print(items) "
   ]
  },
  {
   "cell_type": "markdown",
   "metadata": {},
   "source": [
    "- **`.clear()`**: Elimina todos los elementos del diccionario."
   ]
  },
  {
   "cell_type": "code",
   "execution_count": 21,
   "metadata": {},
   "outputs": [
    {
     "name": "stdout",
     "output_type": "stream",
     "text": [
      "{}\n"
     ]
    }
   ],
   "source": [
    "persona.clear()\n",
    "print(persona) "
   ]
  },
  {
   "cell_type": "markdown",
   "metadata": {},
   "source": [
    "### **Comprobación de Existencia de Claves**\n",
    "\n",
    "Puedes verificar si una clave está presente en el diccionario usando el operador `in`."
   ]
  },
  {
   "cell_type": "code",
   "execution_count": 86,
   "metadata": {},
   "outputs": [
    {
     "name": "stdout",
     "output_type": "stream",
     "text": [
      "La clave 'nombre' existe en el diccionario.\n"
     ]
    }
   ],
   "source": [
    "persona={\"nombre\":\"Juan\",\"edad\":25,\"ciudad\":\"La Paz\"}\n",
    "if \"nombre\" in persona:\n",
    "    print(\"La clave 'nombre' existe en el diccionario.\")\n",
    "else:\n",
    "    print(\"La clave 'nombre' no existe.\")\n"
   ]
  },
  {
   "cell_type": "markdown",
   "metadata": {},
   "source": [
    "### **Diccionarios Anidados**\n",
    "\n",
    "Los diccionarios pueden contener otros diccionarios como valores, lo que permite crear estructuras más complejas."
   ]
  },
  {
   "cell_type": "code",
   "execution_count": 87,
   "metadata": {},
   "outputs": [
    {
     "name": "stdout",
     "output_type": "stream",
     "text": [
      "Madrid\n"
     ]
    }
   ],
   "source": [
    "persona = {\n",
    "    \"nombre\": \"Juan\",\n",
    "    \"direccion\": {\n",
    "        \"calle\": \"Calle Falsa 123\",\n",
    "        \"ciudad\": \"Madrid\",\n",
    "        \"codigo_postal\": 28080\n",
    "    }\n",
    "}\n",
    "print(persona[\"direccion\"][\"ciudad\"]) "
   ]
  },
  {
   "cell_type": "markdown",
   "metadata": {},
   "source": [
    "### **Iterando sobre un Diccionario**\n",
    "\n",
    "Puedes iterar sobre las claves, los valores o los pares clave-valor de un diccionario usando un bucle `for`."
   ]
  },
  {
   "cell_type": "code",
   "execution_count": 24,
   "metadata": {},
   "outputs": [
    {
     "name": "stdout",
     "output_type": "stream",
     "text": [
      "nombre\n",
      "direccion\n"
     ]
    }
   ],
   "source": [
    "# Iterando sobre las claves\n",
    "for clave in persona:\n",
    "    print(clave) \n"
   ]
  },
  {
   "cell_type": "code",
   "execution_count": 25,
   "metadata": {},
   "outputs": [
    {
     "name": "stdout",
     "output_type": "stream",
     "text": [
      "Juan\n",
      "{'calle': 'Calle Falsa 123', 'ciudad': 'Madrid', 'codigo_postal': 28080}\n"
     ]
    }
   ],
   "source": [
    "\n",
    "# Iterando sobre los valores\n",
    "for valor in persona.values():\n",
    "    print(valor)  "
   ]
  },
  {
   "cell_type": "code",
   "execution_count": 26,
   "metadata": {},
   "outputs": [
    {
     "name": "stdout",
     "output_type": "stream",
     "text": [
      "nombre : Juan\n",
      "direccion : {'calle': 'Calle Falsa 123', 'ciudad': 'Madrid', 'codigo_postal': 28080}\n"
     ]
    }
   ],
   "source": [
    "\n",
    "# Iterando sobre los pares clave-valor\n",
    "for clave, valor in persona.items():\n",
    "    print(clave, \":\", valor)"
   ]
  },
  {
   "cell_type": "markdown",
   "metadata": {},
   "source": []
  }
 ],
 "metadata": {
  "kernelspec": {
   "display_name": "Python 3",
   "language": "python",
   "name": "python3"
  },
  "language_info": {
   "codemirror_mode": {
    "name": "ipython",
    "version": 3
   },
   "file_extension": ".py",
   "mimetype": "text/x-python",
   "name": "python",
   "nbconvert_exporter": "python",
   "pygments_lexer": "ipython3",
   "version": "3.11.4"
  }
 },
 "nbformat": 4,
 "nbformat_minor": 2
}
