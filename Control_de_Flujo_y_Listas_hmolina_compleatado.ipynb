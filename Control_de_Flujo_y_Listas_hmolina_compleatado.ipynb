{
 "cells": [
  {
   "cell_type": "markdown",
   "id": "ea41a001",
   "metadata": {},
   "source": [
    "# <img style=\"float: left; padding-right: 20px; height: 70px\" src=\"https://i.imgur.com/cMzxwTN.jpg\"> Herramientas Básicas de Visualización de Datos   \n",
    "\n",
    "\n",
    "# **Python: Control de Flujo y Listas**\n",
    "\n",
    "**Universidad Privada Boliviana**<br/>\n",
    "**Diplomado en Machine Learning y Ciencia de Datos**<br/>"
   ]
  },
  {
   "cell_type": "code",
   "execution_count": 3,
   "id": "27a24892",
   "metadata": {},
   "outputs": [
    {
     "name": "stdout",
     "output_type": "stream",
     "text": [
      "Esta es línea de código sin control\n",
      "Los valores de la variable son: 10 True\n"
     ]
    }
   ],
   "source": [
    "var1=10\n",
    "print(\"Esta es línea de código sin control\")\n",
    "var2= True\n",
    "print(\"Los valores de la variable son:\",var1,var2)"
   ]
  },
  {
   "cell_type": "markdown",
   "id": "754bff16",
   "metadata": {},
   "source": [
    "## **Condicionales en Python**"
   ]
  },
  {
   "cell_type": "markdown",
   "id": "27107a32",
   "metadata": {},
   "source": [
    "\n",
    "Los condicionales son estructuras que permiten que un programa tome decisiones basadas en condiciones específicas. En Python, se utilizan las palabras clave `if`, `elif` y `else`.\n",
    "\n",
    "- `if`: Para ejecutar un bloque si la condición es verdadera.\n",
    "- `elif`: Para agregar condiciones adicionales.\n",
    "- `else`: Para manejar el caso en que ninguna condición sea verdadera.\n",
    "\n",
    "\n",
    "\n",
    "### Sintaxis básica\n",
    "```python\n",
    "if condición:\n",
    "    # Bloque de código si la condición es verdadera\n",
    "elif otra_condición:\n",
    "    # Bloque de código si la otra condición es verdadera\n",
    "else:\n",
    "    # Bloque de código si ninguna condición es verdadera\n"
   ]
  },
  {
   "cell_type": "code",
   "execution_count": 5,
   "id": "48e05983",
   "metadata": {},
   "outputs": [
    {
     "name": "stdout",
     "output_type": "stream",
     "text": [
      "El número es mayor que 20\n"
     ]
    }
   ],
   "source": [
    "\n",
    "# Ejemplo de if-elif-else\n",
    "x = 30\n",
    "\n",
    "if x > 20:\n",
    "    print(\"El número es mayor que 20\")\n",
    "elif x == 20:\n",
    "    print(\"El número es igual a 20\")\n",
    "else:\n",
    "    print(\"El número es menor que 20\")\n"
   ]
  },
  {
   "cell_type": "code",
   "execution_count": 7,
   "id": "1c0c34f0",
   "metadata": {},
   "outputs": [
    {
     "name": "stdout",
     "output_type": "stream",
     "text": [
      "Es una persona mayor.\n"
     ]
    }
   ],
   "source": [
    "\n",
    "# Ejemplo de if anidado\n",
    "edad = 45\n",
    "\n",
    "if edad > 18:\n",
    "    if edad > 65:\n",
    "        print(\"Es una persona mayor.\")\n",
    "    else:\n",
    "        print(\"Es un adulto.\")\n",
    "else:\n",
    "    print(\"Es menor de edad.\")\n"
   ]
  },
  {
   "cell_type": "markdown",
   "id": "b6fb7441",
   "metadata": {},
   "source": [
    "### **Problema: Identificación de Números**\n",
    "\n",
    "**Descripción:** Escribe un programa que pida al usuario un número entero y haga lo siguiente:\n",
    "\n",
    "-   Si el número es positivo, imprimir \"Número positivo\".\n",
    "-   Si el número es negativo, imprimir \"Número negativo\".\n",
    "-   Si el número es igual a cero, imprimir \"Es el número cero\".\n",
    "\n",
    "**Sugerencia:** Recuerda usar las comparaciones `<`, `>`, y `==`."
   ]
  },
  {
   "cell_type": "code",
   "execution_count": 1,
   "id": "10dd39bb",
   "metadata": {},
   "outputs": [
    {
     "name": "stdout",
     "output_type": "stream",
     "text": [
      "El número 12 es positivo\n"
     ]
    }
   ],
   "source": [
    "num = int(input(\"Ingese un número: \"))\n",
    "if num > 0:\n",
    "    print(f\"El número {num} es positivo\")\n",
    "elif num< 0:\n",
    "    print(f\"El número {num} es negativo\")\n",
    "else :\n",
    "    print(f\"El número {num} es igual a cero\")\n",
    "    "
   ]
  },
  {
   "cell_type": "markdown",
   "id": "f5ecdcd8",
   "metadata": {},
   "source": [
    "### **Problema: Calculadora de Descuentos**\n",
    "\n",
    "**Descripción:** Diseña un programa que calcule el precio final de un producto después de aplicar un descuento según el monto:\n",
    "\n",
    "-   Si el monto es menor a 50, no se aplica descuento.\n",
    "-   Si el monto está entre 50 y 100, aplica un descuento del 10%.\n",
    "-   Si el monto es mayor a 100, aplica un descuento del 20%.\n",
    "\n",
    "El programa debe solicitar el precio del producto y mostrar el precio final después del descuento."
   ]
  },
  {
   "cell_type": "code",
   "execution_count": 17,
   "id": "941ffa9e",
   "metadata": {},
   "outputs": [
    {
     "name": "stdout",
     "output_type": "stream",
     "text": [
      "Se aplica un descuento de 10.0%\n",
      "El monto a pagar es : 45.9\n"
     ]
    }
   ],
   "source": [
    "monto= input(\"Ingrese el precio del producto: \")\n",
    "monto_int=int(monto)\n",
    "if monto_int < 50:\n",
    "    print(f\"No se aplica descuento a : {monto_int}\")\n",
    "elif monto_int > 50 and monto_int < 100:\n",
    "    porcentaje_descuento=0.1\n",
    "    monto_int_sin_descuento=monto_int*porcentaje_descuento\n",
    "    monto_int_descontado=monto_int - monto_int_sin_descuento\n",
    "    print(f\"Se aplica un descuento de {porcentaje_descuento*100}%\")\n",
    "    print(f\"El monto a pagar es : {monto_int_descontado}\")\n",
    "elif monto_int>100:\n",
    "    porcentaje_descuento = 0.2\n",
    "    monto_int_sin_descuento=monto_int*porcentaje_descuento\n",
    "    monto_int_descontado=monto_int*porcentaje_descuento\n",
    "    print(f\"Se aplica un descuento de {porcentaje_descuento*100}%\")\n",
    "    print(f\"El monto a pagar es: {monto_int_descontado}\")"
   ]
  },
  {
   "cell_type": "markdown",
   "id": "9238a9e3",
   "metadata": {},
   "source": [
    "## **Problema: Generación de Contraseña Segura**\n",
    "**Descripción:** Escribe un programa que pida al usuario una contraseña y evalúe su seguridad:\n",
    "\n",
    "-   Si la contraseña tiene menos de 6 caracteres, imprimir \"Contraseña muy débil\".\n",
    "-   Si tiene entre 6 y 8 caracteres, imprimir \"Contraseña débil\".\n",
    "-   Si tiene entre 9 y 12 caracteres, imprimir \"Contraseña segura\".\n",
    "-   Si tiene más de 12 caracteres, imprimir \"Contraseña muy segura\".\n",
    "\n",
    "**Sugerencia:** Usa la función `len()` para obtener la longitud de la contraseña."
   ]
  },
  {
   "cell_type": "code",
   "execution_count": 20,
   "id": "5943c448",
   "metadata": {},
   "outputs": [
    {
     "name": "stdout",
     "output_type": "stream",
     "text": [
      "Contraseña muy débil\n"
     ]
    }
   ],
   "source": [
    "password= input(\"Ingrese contraseña\")\n",
    "longitud=len(password)\n",
    "if longitud < 6:\n",
    "    print(\"Contraseña muy débil\")\n",
    "elif longitud > 6 and longitud <8:\n",
    "    print(\"Contraseña débil\")\n",
    "elif longitud > 9 and longitud < 12:\n",
    "    print(\"Contraseña segura\")\n",
    "elif longitud > 13 :\n",
    "    print(\"Contraseña muy segura\")"
   ]
  },
  {
   "cell_type": "markdown",
   "id": "c1e0377e",
   "metadata": {},
   "source": [
    "## **Listas en Python**"
   ]
  },
  {
   "cell_type": "markdown",
   "id": "6667b4e1",
   "metadata": {},
   "source": [
    "\n",
    "Las listas son estructuras de datos ordenadas que permiten almacenar elementos de diferentes tipos. Algunas características principales:\n",
    "\n",
    "- Son redimensionables.\n",
    "- Los elementos pueden ser modificados.\n",
    "- Contiene elementos de distintos tipos.\n",
    "\n",
    "### Creación de una lista\n"
   ]
  },
  {
   "cell_type": "code",
   "execution_count": 3,
   "id": "a32c5e93",
   "metadata": {},
   "outputs": [
    {
     "name": "stdout",
     "output_type": "stream",
     "text": [
      "Mi lista: [1, 2, 3, 4, 5]\n"
     ]
    }
   ],
   "source": [
    "\n",
    "# Crear una lista\n",
    "mi_lista = [1, 2, 3, 4, 5]\n",
    "print(\"Mi lista:\", mi_lista)\n"
   ]
  },
  {
   "cell_type": "code",
   "execution_count": 23,
   "id": "c353a7f2",
   "metadata": {},
   "outputs": [
    {
     "name": "stdout",
     "output_type": "stream",
     "text": [
      "3\n",
      "True\n"
     ]
    }
   ],
   "source": [
    "# listas son coleecion ordenadas\n",
    "mi_lista=[1,2,3,\"a\",True]\n",
    "\n",
    "print(mi_lista[2])\n",
    "print(mi_lista[-1])"
   ]
  },
  {
   "cell_type": "code",
   "execution_count": 35,
   "id": "76b0ce3b",
   "metadata": {},
   "outputs": [
    {
     "name": "stdout",
     "output_type": "stream",
     "text": [
      "limón\n",
      "mandarina\n",
      "['mandarina', 'pera']\n",
      "['pera', 'kiwi', 'plátano', 'sandía', 'limón']\n",
      "['manzana', 'pera', 'kiwi']\n"
     ]
    }
   ],
   "source": [
    "frutas = [\"mandarina\",\"manzana\", \"pera\",\"kiwi\", \"plátano\",\"sandía\",\"limón\"]\n",
    "print(frutas[-1])\n",
    "print(frutas[0])\n",
    "print(frutas[0:4:2])\n",
    "print(frutas[2:])\n",
    "print(frutas[1:4:1])"
   ]
  },
  {
   "cell_type": "code",
   "execution_count": 38,
   "id": "0ea99cb9",
   "metadata": {},
   "outputs": [
    {
     "name": "stdout",
     "output_type": "stream",
     "text": [
      "lista_1: []\n",
      "frutas: 7\n"
     ]
    }
   ],
   "source": [
    "# creación de una lista vacía\n",
    "lista_1=[]\n",
    "print(\"lista_1:\",lista_1)\n",
    "print(\"frutas:\",len(frutas))"
   ]
  },
  {
   "cell_type": "markdown",
   "id": "f47aad26",
   "metadata": {},
   "source": [
    "### **Métodos de listas**"
   ]
  },
  {
   "cell_type": "markdown",
   "id": "cfbb24d4",
   "metadata": {},
   "source": [
    "### Método `append` en listas\n",
    "\n",
    "El método `append` es una de las funciones más utilizadas en las listas de Python. Su propósito es agregar un elemento al **final** de la lista existente, extendiendo su longitud en una unidad.\n",
    "\n",
    "#### Sintaxis\n",
    "```python\n",
    "lista = [1,2,3]\n",
    "lista.append(elemento)\n",
    "```\n",
    "\n",
    "-   **`lista`**: Es la lista a la que se desea agregar el elemento.\n",
    "-   **`elemento`**: Es el valor que se añadirá al final de la lista. Este puede ser de cualquier tipo de dato (entero, cadena, flotante, otra lista, etc.).\n",
    "\n",
    "#### Características del método\n",
    "\n",
    "1.  **Modifica la lista original**: A diferencia de otros métodos, no devuelve una nueva lista, sino que actualiza la lista existente.\n",
    "2.  **Añade un solo elemento por vez**: Si se desea agregar múltiples elementos, es necesario hacerlo mediante un ciclo o utilizar otros métodos como `extend`.\n",
    "3.  **Admite tipos heterogéneos**: Puedes añadir cualquier tipo de dato, incluso objetos personalizados."
   ]
  },
  {
   "cell_type": "code",
   "execution_count": 4,
   "id": "2c7959e1",
   "metadata": {},
   "outputs": [
    {
     "name": "stdout",
     "output_type": "stream",
     "text": [
      "Después de append: [1, 2, 3, 4]\n"
     ]
    }
   ],
   "source": [
    "\n",
    "# Usando append\n",
    "mi_lista = [1, 2, 3]\n",
    "mi_lista.append(4)\n",
    "print(\"Después de append:\", mi_lista)\n"
   ]
  },
  {
   "cell_type": "markdown",
   "id": "b0b33753",
   "metadata": {},
   "source": [
    "### Método `count` en listas\n",
    "\n",
    "El método `count` en Python se utiliza para contar cuántas veces aparece un elemento específico en una lista. Es útil cuando necesitas analizar la frecuencia de elementos en una colección.\n",
    "\n",
    "#### Sintaxis\n",
    "```python\n",
    "lista.count(elemento)\n",
    "```\n",
    "\n",
    "-   **`lista`**: Es la lista en la que deseas buscar el elemento.\n",
    "-   **`elemento`**: Es el valor que se desea contar en la lista.\n",
    "\n",
    "#### Características del método\n",
    "\n",
    "1.  Devuelve un número entero que representa el **número de ocurrencias** del elemento en la lista.\n",
    "2.  Es sensible a mayúsculas y minúsculas en el caso de cadenas de texto.\n",
    "3.  Funciona con cualquier tipo de dato almacenado en la lista, incluyendo listas anidadas, pero no busca dentro de listas internas."
   ]
  },
  {
   "cell_type": "code",
   "execution_count": 39,
   "id": "efe6e5d2",
   "metadata": {},
   "outputs": [
    {
     "name": "stdout",
     "output_type": "stream",
     "text": [
      "3\n"
     ]
    }
   ],
   "source": [
    "# Contar elementos en una lista de números\n",
    "numeros = [1, 2, 3, 4, 2, 2, 5]\n",
    "print(numeros.count(2))  # Salida: 3\n"
   ]
  },
  {
   "cell_type": "code",
   "execution_count": 6,
   "id": "2d117141",
   "metadata": {},
   "outputs": [
    {
     "name": "stdout",
     "output_type": "stream",
     "text": [
      "2\n"
     ]
    }
   ],
   "source": [
    "\n",
    "# Contar elementos en una lista de cadenas\n",
    "palabras = [\"hola\", \"mundo\", \"hola\", \"python\"]\n",
    "print(palabras.count(\"hola\"))  # Salida: 2"
   ]
  },
  {
   "cell_type": "code",
   "execution_count": 41,
   "id": "cf0fc46e",
   "metadata": {},
   "outputs": [
    {
     "name": "stdout",
     "output_type": "stream",
     "text": [
      "el numero aparece menos de 2 veces en la lista\n"
     ]
    }
   ],
   "source": [
    "# Verificar si un número (ej. 2) aparece más de una vez en una lista\n",
    "numeros = [1, 2, 3, 4, 2, 5]\n",
    "ocurrencia=numeros.count(2)\n",
    "if ocurrencia >2:\n",
    "    print(\"el número 2 aparece más de una vez en la lista\")\n",
    "else:\n",
    "    print(\"el numero aparece menos de 2 veces en la lista\")"
   ]
  },
  {
   "cell_type": "markdown",
   "id": "fbcc1bbb",
   "metadata": {},
   "source": [
    "#### **Problema: Análisis de palabras en una frase**  \n",
    "Solicita al usuario que ingrese una frase y luego convierte la frase en una lista de palabras (usando el método `split`). Pide al usuario ingresar una palabra y utiliza `count` para determinar cuántas veces aparece esa palabra en la lista.\n",
    "```python\n",
    "Ingrese una frase: el sol brilla y el cielo es azul  \n",
    "Ingrese la palabra a buscar: el  \n",
    "```"
   ]
  },
  {
   "cell_type": "code",
   "execution_count": 2,
   "id": "24c92cb1",
   "metadata": {},
   "outputs": [
    {
     "name": "stdout",
     "output_type": "stream",
     "text": [
      "la ocurrencia de la palabra *la* en la frase *hola la la la jej* es: 3\n"
     ]
    }
   ],
   "source": [
    "frase= input(\"Ingrese una frase: \")\n",
    "lista_palabras=frase.split()\n",
    "palabra_buscada=input(\"Ingrese la palabra a buscar: \")\n",
    "ocurrencias=lista_palabras.count(palabra_buscada)\n",
    "print(f\"la ocurrencia de la palabra *{palabra_buscada}* en la frase *{frase}* es: {ocurrencias}\")"
   ]
  },
  {
   "cell_type": "markdown",
   "id": "c590c765",
   "metadata": {},
   "source": [
    "### **Método `index` en listas**\n",
    "\n",
    "El método `index` en Python se utiliza para encontrar la posición de la **primera aparición** de un elemento específico en una lista. Es útil cuando necesitas localizar la posición de un valor en una colección.\n",
    "\n",
    "#### Sintaxis\n",
    "```python\n",
    "# metodo index\n",
    "lista.index(elemento[, inicio[, fin]])\n",
    "```\n",
    "\n",
    "-   **`lista`**: Es la lista en la que se buscará el elemento.\n",
    "-   **`elemento`**: Es el valor cuyo índice deseas encontrar.\n",
    "-   **`inicio`** _(opcional)_: Especifica el índice inicial para la búsqueda.\n",
    "-   **`fin`** _(opcional)_: Especifica el índice final para la búsqueda (no se incluye en la búsqueda).\n",
    "\n",
    "#### Características del método\n",
    "\n",
    "1.  Devuelve el **índice** de la primera aparición del elemento.\n",
    "2.  Si el elemento no está presente en la lista, lanza una excepción `ValueError`.\n",
    "3.  Es sensible a mayúsculas y minúsculas en el caso de cadenas de texto.\n",
    "4.  Puedes restringir el rango de búsqueda mediante los parámetros opcionales `inicio` y `fin`.\n",
    "\n"
   ]
  },
  {
   "cell_type": "code",
   "execution_count": 8,
   "id": "992a19c2",
   "metadata": {},
   "outputs": [
    {
     "name": "stdout",
     "output_type": "stream",
     "text": [
      "1\n"
     ]
    }
   ],
   "source": [
    "# Buscar elementos en una lista\n",
    "numeros = [10, 20, 30, 40, 20, 50]\n",
    "print(numeros.index(20))  # Salida: 1 (primer índice del 20)"
   ]
  },
  {
   "cell_type": "code",
   "execution_count": 9,
   "id": "f15470c0",
   "metadata": {},
   "outputs": [
    {
     "name": "stdout",
     "output_type": "stream",
     "text": [
      "4\n"
     ]
    }
   ],
   "source": [
    "# Especificar un rango de búsqueda\n",
    "numeros = [10, 20, 30, 40, 20, 50]\n",
    "print(numeros.index(20, 2, 5))  # Salida: 4 (busca entre índices 2 y 4)\n"
   ]
  },
  {
   "cell_type": "code",
   "execution_count": 46,
   "id": "fbe7422d",
   "metadata": {},
   "outputs": [],
   "source": [
    "#print(numeros.index(100)) # en  este caso esto da error"
   ]
  },
  {
   "cell_type": "markdown",
   "id": "e1024418",
   "metadata": {},
   "source": [
    "#### Manejo de errores\n",
    "\n",
    "Si el elemento no se encuentra en la lista, Python lanzará un error. Para evitarlo, puedes usar un bloque `try-except`:"
   ]
  },
  {
   "cell_type": "code",
   "execution_count": 47,
   "id": "81894f6a",
   "metadata": {},
   "outputs": [
    {
     "name": "stdout",
     "output_type": "stream",
     "text": [
      "El elemento no está en la lista.\n"
     ]
    }
   ],
   "source": [
    "numeros = [10, 20, 30, 40]\n",
    "try:\n",
    "    print(numeros.index(50))  # El número 50 no está en la lista\n",
    "except ValueError:\n",
    "    print(\"El elemento no está en la lista.\")"
   ]
  },
  {
   "cell_type": "markdown",
   "id": "5f08905b",
   "metadata": {},
   "source": [
    "#### **Problema Registro dinámico de calificaciones**  \n",
    "Diseña un programa que permita a un profesor registrar las calificaciones de sus estudiantes. El programa debe:\n",
    "\n",
    "-   Permitir ingresar calificaciones de 4 evaluaciones y adjuntar a una lista usando `append`.\n",
    "-   Mostrar cuántos estudiantes obtuvieron una calificación específica usando `count`.  \n",
    "    **Entrada esperada:**"
   ]
  },
  {
   "cell_type": "code",
   "execution_count": 4,
   "id": "7469a7e5",
   "metadata": {},
   "outputs": [
    {
     "name": "stdout",
     "output_type": "stream",
     "text": [
      "['Mateo', 'Lucas', 'Pablo']\n",
      "Ingresar calificaciones para Mateo:\n",
      "Ingresar calificaciones para Lucas:\n",
      "Ingresar calificaciones para Pablo:\n",
      "\n",
      "Calificaciones registradas:\n",
      "Mateo: [76.0, 86.0, 68.0, 67.0]\n",
      "Lucas: [57.0, 76.0, 86.0, 86.0]\n",
      "Pablo: [86.0, 86.0, 67.0, 67.0]\n",
      "\n",
      "Número de estudiantes que obtuvieron la calificación 86.0: 5\n"
     ]
    }
   ],
   "source": [
    "lista_de_calificaciones=[]\n",
    "nombre_estudiantes=[]\n",
    "numero_estudiantes=int(input(\"numero de estudiantes\"))\n",
    "for _ in range(numero_estudiantes):\n",
    "    nombre_estudiantes.append(input(\"Nombre del estudiante: \"))\n",
    "print(nombre_estudiantes)\n",
    "\n",
    "for nombre in nombre_estudiantes:\n",
    "    calificaciones = []\n",
    "    print(f\"Ingresar calificaciones para {nombre}:\")\n",
    "    for i in range(4):  # 4 evaluaciones\n",
    "        calificacion = float(input(f\"Calificación {i+1} de {nombre}: \"))\n",
    "        calificaciones.append(calificacion)\n",
    "    lista_de_calificaciones.append(calificaciones)\n",
    "print(\"\\nCalificaciones registradas:\")\n",
    "for nombre, calificaciones in zip(nombre_estudiantes, lista_de_calificaciones):\n",
    "    print(f\"{nombre}: {calificaciones}\")\n",
    "\n",
    "calificacion_especifica = float(input(\"\\nIngrese la calificación específica a contar: \"))\n",
    "contador = 0\n",
    "for calificaciones in lista_de_calificaciones:\n",
    "    contador += calificaciones.count(calificacion_especifica)\n",
    "\n",
    "print(f\"\\nNúmero de estudiantes que obtuvieron la calificación {calificacion_especifica}: {contador}\")\n"
   ]
  },
  {
   "cell_type": "markdown",
   "id": "ca2afa8b",
   "metadata": {},
   "source": [
    "### **Método `reverse` en listas**\n",
    "\n",
    "El método `reverse` en Python se utiliza para invertir el orden de los elementos en una lista. Este cambio ocurre **en su lugar**, lo que significa que modifica directamente la lista original y no devuelve un nuevo objeto.\n",
    "\n",
    "#### Sintaxis\n",
    "```python\n",
    "lista.reverse()\n",
    "```\n",
    "-   **`lista`**: Es la lista que deseas invertir.\n",
    "\n",
    "#### Características del método\n",
    "\n",
    "1.  Invierte la lista original, modificándola directamente.\n",
    "2.  No devuelve un nuevo objeto ni una copia de la lista, devuelve `None`.\n",
    "3.  Es un método muy eficiente, ya que realiza la operación sin crear una nueva lista.\n",
    "4.  Funciona con cualquier tipo de datos almacenados en la lista.\n"
   ]
  },
  {
   "cell_type": "code",
   "execution_count": 11,
   "id": "6203cace",
   "metadata": {},
   "outputs": [
    {
     "name": "stdout",
     "output_type": "stream",
     "text": [
      "[5, 4, 3, 2, 1]\n"
     ]
    }
   ],
   "source": [
    "# Invertir una lista de números\n",
    "numeros = [1, 2, 3, 4, 5]\n",
    "numeros.reverse()\n",
    "print(numeros)"
   ]
  },
  {
   "cell_type": "code",
   "execution_count": 52,
   "id": "3eeb0f03",
   "metadata": {},
   "outputs": [
    {
     "name": "stdout",
     "output_type": "stream",
     "text": [
      "['cuatro', 'tres', 'dos', 'uno']\n"
     ]
    }
   ],
   "source": [
    "# Invertir una lista de palabras\n",
    "palabras = [\"uno\", \"dos\", \"tres\", \"cuatro\"]\n",
    "palabras.reverse()\n",
    "print(palabras) "
   ]
  },
  {
   "cell_type": "code",
   "execution_count": 56,
   "id": "a7051b5a",
   "metadata": {},
   "outputs": [
    {
     "name": "stdout",
     "output_type": "stream",
     "text": [
      "None\n",
      "[30, 20, 10]\n",
      "[10, 20, 30]\n"
     ]
    }
   ],
   "source": [
    "lista_1=[10,20,30]\n",
    "lista_2=lista_1.reverse()\n",
    "lista_3=lista_1[::-1]\n",
    "print(lista_2)\n",
    "print(lista_1)\n",
    "print(lista_3)"
   ]
  },
  {
   "cell_type": "markdown",
   "id": "92627856",
   "metadata": {},
   "source": [
    "### **Método `sort()` en Listas de Python**\n",
    "El método `sort()` es una función incorporada en Python que permite ordenar los elementos de una lista de manera ascendente o descendente. Este método modifica la lista original y no devuelve ningún valor, es decir, realiza la ordenación *in-place*.\n",
    "\n",
    "#### Sintaxis\n",
    "\n",
    "```python\n",
    "list.sort(reverse=False, key=None)\n",
    "```\n",
    "#### Parámetros\n",
    "\n",
    "-   **reverse** (opcional): Si se establece en `True`, la lista se ordenará en orden descendente. El valor predeterminado es `False`, lo que significa que la lista se ordenará en orden ascendente.\n",
    "-   **key** (opcional): Es una función que toma un solo argumento y devuelve un valor que se utilizará para la comparación de los elementos de la lista. El valor predeterminado es `None`, lo que significa que los elementos se ordena"
   ]
  },
  {
   "cell_type": "code",
   "execution_count": 13,
   "id": "2935658e",
   "metadata": {},
   "outputs": [
    {
     "name": "stdout",
     "output_type": "stream",
     "text": [
      "[1, 2, 4, 5, 9]\n"
     ]
    }
   ],
   "source": [
    "#Orden ascendente\n",
    "numbers = [4, 2, 9, 1, 5]\n",
    "numbers.sort()\n",
    "print(numbers)"
   ]
  },
  {
   "cell_type": "code",
   "execution_count": 14,
   "id": "feff6235",
   "metadata": {},
   "outputs": [
    {
     "name": "stdout",
     "output_type": "stream",
     "text": [
      "[9, 5, 4, 2, 1]\n"
     ]
    }
   ],
   "source": [
    "#Orden descendente\n",
    "numbers = [4, 2, 9, 1, 5]\n",
    "numbers.sort(reverse=True)\n",
    "print(numbers)  # Salida: [9, 5, 4, 2, 1]"
   ]
  },
  {
   "cell_type": "code",
   "execution_count": 58,
   "id": "6bba026f",
   "metadata": {},
   "outputs": [],
   "source": [
    "lista_2=[2,3,4,\"a\"]\n",
    "#lista_2.sort() # da error"
   ]
  },
  {
   "cell_type": "markdown",
   "id": "284bd926",
   "metadata": {},
   "source": [
    "### **Método `append()` en Listas de Python**\n",
    "\n",
    "El método `append()` agrega un elemento al final de la lista. Modifica la lista original y no devuelve ningún valor.\n",
    "\n",
    "#### Sintaxis\n",
    "\n",
    "```python\n",
    "lista.append(element)\n",
    "```\n",
    "#### Parámetros\n",
    "\n",
    "-   **element**: El elemento que se desea agregar al final de la lista. Puede ser cualquier tipo de objeto, incluyendo listas, cadenas, números, etc.\n",
    "\n",
    "#### Ejemplos\n",
    "\n",
    "-   Agregar un número al final de la lista:"
   ]
  },
  {
   "cell_type": "code",
   "execution_count": 15,
   "id": "8b50b121",
   "metadata": {},
   "outputs": [
    {
     "name": "stdout",
     "output_type": "stream",
     "text": [
      "[1, 2, 3, 4]\n"
     ]
    }
   ],
   "source": [
    "numbers = [1, 2, 3]\n",
    "numbers.append(4)\n",
    "print(numbers)"
   ]
  },
  {
   "cell_type": "code",
   "execution_count": 16,
   "id": "81877d51",
   "metadata": {},
   "outputs": [
    {
     "name": "stdout",
     "output_type": "stream",
     "text": [
      "['apple', 'banana', 'cherry']\n"
     ]
    }
   ],
   "source": [
    "words = ['apple', 'banana']\n",
    "words.append('cherry')\n",
    "print(words)"
   ]
  },
  {
   "cell_type": "code",
   "execution_count": 17,
   "id": "d95f41cc",
   "metadata": {},
   "outputs": [
    {
     "name": "stdout",
     "output_type": "stream",
     "text": [
      "[1, 2, 3, [4, 5]]\n"
     ]
    }
   ],
   "source": [
    "list1 = [1, 2, 3]\n",
    "list1.append([4, 5])\n",
    "print(list1)"
   ]
  },
  {
   "cell_type": "markdown",
   "id": "557bc45d",
   "metadata": {},
   "source": [
    "#### Consideraciones\n",
    "\n",
    "-   El método `append()` solo agrega un solo elemento al final de la lista. Si se necesita agregar varios elementos, se debe utilizar el método `extend()`.\n",
    "-   Si deseas agregar una lista dentro de otra lista, puedes usar `append()`."
   ]
  },
  {
   "cell_type": "markdown",
   "id": "37c6a925",
   "metadata": {},
   "source": [
    "### **Método `pop()` en Listas de Python**\n",
    "\n",
    "El método `pop()` se utiliza para eliminar y retornar un elemento de una lista. Por defecto, elimina el último elemento de la lista, pero también puede eliminar un elemento en una posición específica si se proporciona un índice.\n",
    "\n",
    "#### Parámetros\n",
    "\n",
    "- **index** (opcional): Es el índice del elemento que se desea eliminar. Si no se especifica, se eliminará el último elemento de la lista. El valor predeterminado es `-1`, lo que hace que se elimine el último elemento. Si se proporciona un índice fuera de rango, se generará un error `IndexError`.\n",
    "\n",
    "#### Valor de retorno\n",
    "\n",
    "El método `pop()` retorna el elemento que ha sido eliminado de la lista. Si la lista está vacía y se llama a `pop()`, se generará un error `IndexError`.\n"
   ]
  },
  {
   "cell_type": "markdown",
   "id": "fd07ce59",
   "metadata": {},
   "source": [
    "\n",
    "#### Ejemplos de uso\n",
    "\n",
    "- **Eliminar el último elemento de la lista**: Si no se especifica un índice, el método `pop()` eliminará y retornará el último elemento de la lista.\n",
    "  \n"
   ]
  },
  {
   "cell_type": "code",
   "execution_count": 18,
   "id": "0efe1fd6",
   "metadata": {},
   "outputs": [
    {
     "name": "stdout",
     "output_type": "stream",
     "text": [
      "3\n",
      "[1, 2]\n"
     ]
    }
   ],
   "source": [
    "numbers = [1, 2, 3]\n",
    "last_element = numbers.pop()\n",
    "print(last_element)  \n",
    "print(numbers) "
   ]
  },
  {
   "cell_type": "markdown",
   "id": "f4bb9594",
   "metadata": {},
   "source": [
    "- **Eliminar un elemento en una posición específica**: Si se pasa un índice como parámetro, el método eliminará el elemento en esa posición y lo retornará.\n"
   ]
  },
  {
   "cell_type": "code",
   "execution_count": 19,
   "id": "c85f2263",
   "metadata": {},
   "outputs": [
    {
     "name": "stdout",
     "output_type": "stream",
     "text": [
      "2\n",
      "[1, 3, 4]\n"
     ]
    }
   ],
   "source": [
    "numbers = [1, 2, 3, 4]\n",
    "second_element = numbers.pop(1)\n",
    "print(second_element)  \n",
    "print(numbers) "
   ]
  },
  {
   "cell_type": "code",
   "execution_count": null,
   "id": "43979305",
   "metadata": {},
   "outputs": [],
   "source": []
  },
  {
   "cell_type": "markdown",
   "id": "f0f35650",
   "metadata": {},
   "source": [
    "\n",
    "#### Consideraciones\n",
    "\n",
    "- El método `pop()` modifica la lista original, eliminando el elemento.\n",
    "- Si se intenta hacer un `pop()` en una lista vacía, se producirá un error `IndexError`."
   ]
  },
  {
   "cell_type": "markdown",
   "id": "f1132217",
   "metadata": {},
   "source": [
    "### Método `insert()` en Listas de Python\n",
    "​\n",
    "El método `insert()` se utiliza para agregar un elemento en una posición específica dentro de una lista. Este método permite especificar tanto el índice donde se debe insertar el elemento como el valor que se desea agregar.\n",
    "​\n",
    "#### Sintaxis\n",
    "​\n",
    "`list.insert(index, element)`\n",
    "​\n",
    "#### Parámetros\n",
    "​\n",
    "-   **index**: El índice en el que se debe insertar el nuevo elemento. Si el índice es mayor que la longitud de la lista, el elemento se agregará al final. Si el índice es negativo, contará desde el final de la lista.\n",
    "-   **element**: El elemento que se desea insertar en la lista. Puede ser cualquier tipo de objeto.\n",
    "​\n"
   ]
  },
  {
   "cell_type": "markdown",
   "id": "b5b5479b",
   "metadata": {},
   "source": [
    "#### Ejemplos de uso\n",
    "\n",
    "-   **Insertar un elemento al principio de la lista**:"
   ]
  },
  {
   "cell_type": "code",
   "execution_count": 20,
   "id": "600c7ed7",
   "metadata": {},
   "outputs": [
    {
     "name": "stdout",
     "output_type": "stream",
     "text": [
      "[1, 2, 3, 4]\n"
     ]
    }
   ],
   "source": [
    "numbers = [2, 3, 4]\n",
    "numbers.insert(0, 1)\n",
    "print(numbers)"
   ]
  },
  {
   "cell_type": "markdown",
   "id": "936928be",
   "metadata": {},
   "source": [
    "\n",
    "-   **Insertar un elemento en el medio de la lista**:\n",
    "​\n"
   ]
  },
  {
   "cell_type": "code",
   "execution_count": 21,
   "id": "d51eaca7",
   "metadata": {},
   "outputs": [
    {
     "name": "stdout",
     "output_type": "stream",
     "text": [
      "[1, 2, 3, 4]\n"
     ]
    }
   ],
   "source": [
    "numbers = [1, 2, 4]\n",
    "numbers.insert(2, 3)\n",
    "print(numbers) "
   ]
  },
  {
   "cell_type": "markdown",
   "id": "10aff48c",
   "metadata": {},
   "source": [
    "\n",
    "​\n",
    "-   **Insertar un elemento al final de la lista** (si el índice es mayor que la longitud de la lista):\n",
    "​\n"
   ]
  },
  {
   "cell_type": "code",
   "execution_count": 22,
   "id": "e75ddfda",
   "metadata": {},
   "outputs": [
    {
     "name": "stdout",
     "output_type": "stream",
     "text": [
      "[1, 2, 3, 4]\n"
     ]
    }
   ],
   "source": [
    "numbers = [1, 2, 3]\n",
    "numbers.insert(5, 4)  # El índice 5 es mayor que la longitud de la lista\n",
    "print(numbers)"
   ]
  },
  {
   "cell_type": "markdown",
   "id": "7ee66f5b",
   "metadata": {},
   "source": [
    "\n",
    "​\n",
    "#### Consideraciones\n",
    "​\n",
    "-   El método `insert()` modifica la lista original, agregando el nuevo elemento en la posición especificada.\n",
    "-   Si el índice es negativo, contará desde el final de la lista. Por ejemplo, un índice de `-1` insertaría el elemento antes del último."
   ]
  },
  {
   "cell_type": "code",
   "execution_count": 6,
   "id": "980f270b",
   "metadata": {},
   "outputs": [
    {
     "name": "stdout",
     "output_type": "stream",
     "text": [
      "[10, 20, 25, 30, 40, 50]\n"
     ]
    }
   ],
   "source": [
    "# Lista original\n",
    "numeros = [10, 20, 30, 40, 50]\n",
    "\n",
    "# Insertar el número 25 en la posición 2\n",
    "numeros.insert(2, 25)\n",
    "\n",
    "print(numeros) "
   ]
  }
 ],
 "metadata": {
  "kernelspec": {
   "display_name": "Python 3",
   "language": "python",
   "name": "python3"
  },
  "language_info": {
   "codemirror_mode": {
    "name": "ipython",
    "version": 3
   },
   "file_extension": ".py",
   "mimetype": "text/x-python",
   "name": "python",
   "nbconvert_exporter": "python",
   "pygments_lexer": "ipython3",
   "version": "3.11.4"
  }
 },
 "nbformat": 4,
 "nbformat_minor": 5
}
