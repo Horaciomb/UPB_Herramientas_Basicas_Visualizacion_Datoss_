{
 "cells": [
  {
   "cell_type": "markdown",
   "metadata": {},
   "source": [
    "# <img style=\"float: left; padding-right: 20px; height: 70px\" src=\"https://i.imgur.com/cMzxwTN.jpg\"> Herramientas Básicas de Visualización de Datos\n",
    "\n",
    "## Tutorial de listas\n",
    "\n",
    "**Universidad Privada Boliviana**<br/>\n",
    "**Diplomado en Machine Learning y Ciencia de Datos**<br/>\n",
    "## Python Lists\n"
   ]
  },
  {
   "cell_type": "markdown",
   "metadata": {},
   "source": [
    "Una de las ideas más importantes en python es que las cosas se comporten como una *lista de elementos*."
   ]
  },
  {
   "cell_type": "markdown",
   "metadata": {},
   "source": [
    "¡Una lista en Python es una secuencia de cualquier cosa!\n",
    "\n",
    "Las listas son mutables; puede insertar y eliminar elementos en cualquier momento."
   ]
  },
  {
   "cell_type": "markdown",
   "metadata": {},
   "source": [
    "**Creando una lista**"
   ]
  },
  {
   "cell_type": "code",
   "execution_count": 1,
   "metadata": {},
   "outputs": [
    {
     "name": "stdout",
     "output_type": "stream",
     "text": [
      "[]\n"
     ]
    }
   ],
   "source": [
    "# Puede crear una lista vacía usando corchetes\n",
    "empty_list = []\n",
    "print(empty_list)"
   ]
  },
  {
   "cell_type": "code",
   "execution_count": 2,
   "metadata": {},
   "outputs": [
    {
     "name": "stdout",
     "output_type": "stream",
     "text": [
      "[]\n"
     ]
    }
   ],
   "source": [
    "# O puede crear una lista vacía usando la función integrada `list()`\n",
    "empty_list_2 = list()\n",
    "print(empty_list_2)"
   ]
  },
  {
   "cell_type": "code",
   "execution_count": 3,
   "metadata": {},
   "outputs": [
    {
     "name": "stdout",
     "output_type": "stream",
     "text": [
      "Miercoles\n"
     ]
    }
   ],
   "source": [
    "# Puedes predefinir los elementos de una lista\n",
    "días_laborables = ['Lunes', 'Martes', 'Miercoles', 'Jueves', 'Viernes']\n",
    "print(días_laborables[2])"
   ]
  },
  {
   "cell_type": "markdown",
   "metadata": {},
   "source": [
    "Tenga en cuenta que las listas de Python están indexadas desde 0.\n",
    "\n",
    "El primer elemento obtiene el índice 0, el segundo elemento obtiene el índice 1 y así sucesivamente. Así `días_laborables[2]` nos da el tercer elemento."
   ]
  },
  {
   "cell_type": "markdown",
   "metadata": {},
   "source": [
    "## ¿Qué significa `mutable`?\n",
    "\n",
    "Las listas son *mutables*. Escuchará mucho este término. Significa que puede modificarlos sobre la marcha."
   ]
  },
  {
   "cell_type": "code",
   "execution_count": 4,
   "metadata": {},
   "outputs": [
    {
     "name": "stdout",
     "output_type": "stream",
     "text": [
      "[1, 8, 3, 4]\n"
     ]
    }
   ],
   "source": [
    "# Las listas son mutables (los elementos son cambiables)\n",
    "num_list = [1, 2, 3, 4]\n",
    "num_list[1] = 8 \n",
    "print(num_list)"
   ]
  },
  {
   "cell_type": "markdown",
   "metadata": {},
   "source": [
    "## ¿Qué es no mutable?\n",
    "\n",
    "Otras estructuras como `tuples` no son mutables."
   ]
  },
  {
   "cell_type": "code",
   "execution_count": 23,
   "metadata": {},
   "outputs": [
    {
     "name": "stdout",
     "output_type": "stream",
     "text": [
      "(1, 2, 3, 4)\n"
     ]
    }
   ],
   "source": [
    "# Las tuplas no son mutables (los elementos no se pueden cambiar)\n",
    "num_tuple = (1, 2, 3, 4)\n",
    "# num_tuple[1] = 8 \n",
    "print(num_tuple)"
   ]
  },
  {
   "cell_type": "markdown",
   "metadata": {},
   "source": [
    "## Indexación y división\n",
    "\n",
    "![](https://www.alphacodingskills.com/python/img/python-list.png)\n",
    "\n",
    "\n",
    "- Cualquier expresión entera se puede utilizar como índice.\n",
    "- Si un índice tiene un valor negativo, se cuenta desde atrás."
   ]
  },
  {
   "cell_type": "code",
   "execution_count": 6,
   "metadata": {},
   "outputs": [
    {
     "name": "stdout",
     "output_type": "stream",
     "text": [
      "['Lunes', 'Martes', 'Miercoles', 'Jueves']\n",
      "['Lunes', 'Martes', 'Miercoles', 'Jueves', 'Viernes']\n"
     ]
    }
   ],
   "source": [
    "# Usemos nuestra lista de días de la semana de antes\n",
    "días_laborables = ['Lunes', 'Martes', 'Miercoles', 'Jueves', 'Viernes']\n",
    "print(días_laborables[0:4])\n",
    "print(días_laborables[0:5])"
   ]
  },
  {
   "cell_type": "markdown",
   "metadata": {},
   "source": [
    "Puede obtener porciones de listas"
   ]
  },
  {
   "cell_type": "code",
   "execution_count": 7,
   "metadata": {},
   "outputs": [
    {
     "data": {
      "text/plain": [
       "['Lunes', 'Martes', 'Miercoles']"
      ]
     },
     "execution_count": 7,
     "metadata": {},
     "output_type": "execute_result"
    }
   ],
   "source": [
    "días_laborables[0:3] # from 0, dont include whats at index 3"
   ]
  },
  {
   "cell_type": "code",
   "execution_count": 8,
   "metadata": {},
   "outputs": [
    {
     "data": {
      "text/plain": [
       "['Lunes', 'Martes', 'Miercoles', 'Jueves']"
      ]
     },
     "execution_count": 8,
     "metadata": {},
     "output_type": "execute_result"
    }
   ],
   "source": [
    "días_laborables[-5:-1]"
   ]
  },
  {
   "cell_type": "code",
   "execution_count": 9,
   "metadata": {},
   "outputs": [
    {
     "name": "stdout",
     "output_type": "stream",
     "text": [
      "[['Lunes', 'Martes', 'Miercoles', 'Jueves', 'Viernes'], ['Sabado', 'Domingo']]\n"
     ]
    }
   ],
   "source": [
    "# Una lista puede tener otra lista, o cualquier otra cosa como su elemento\n",
    "fin_de_semana= ['Sabado','Domingo']\n",
    "dias = [días_laborables,fin_de_semana]\n",
    "print(dias)"
   ]
  },
  {
   "cell_type": "markdown",
   "metadata": {},
   "source": [
    "## ¿Y si queremos concatenar dos listas?\n",
    "\n",
    "Salida deseada: días = `['Lunes', 'Martes', 'Miércoles', 'Jueves', 'Viernes', 'Sábado', 'Domingo']`"
   ]
  },
  {
   "cell_type": "code",
   "execution_count": 10,
   "metadata": {},
   "outputs": [
    {
     "name": "stdout",
     "output_type": "stream",
     "text": [
      "['Lunes', 'Martes', 'Miercoles', 'Jueves', 'Viernes', 'Sabado', 'Domingo']\n"
     ]
    }
   ],
   "source": [
    "# Operaciones de lista\n",
    "# '+' para concatenación\n",
    "dias = días_laborables+fin_de_semana\n",
    "print(dias)"
   ]
  },
  {
   "cell_type": "markdown",
   "metadata": {},
   "source": [
    "## ¿Multiplicación de listas?\n",
    "\n",
    "A diferencia de los números enteros o flotantes, cuando una lista se multiplica por un número entero n, la lista dada se concatena n veces.\n",
    "\n",
    "```python\n",
    "new_list = ['Hello']\n",
    "multi_list = 3*new_list\n",
    "print(multi_list)\n",
    ">>>['Hello', 'Hello', 'Hello']\n",
    "\n",
    "```\n"
   ]
  },
  {
   "cell_type": "code",
   "execution_count": 11,
   "metadata": {},
   "outputs": [
    {
     "name": "stdout",
     "output_type": "stream",
     "text": [
      "['Hello', 'Hello', 'Hello']\n"
     ]
    }
   ],
   "source": [
    "# List multiplication\n",
    "solo_list = ['Hello']\n",
    "multi_list = 3*solo_list\n",
    "print(multi_list)"
   ]
  },
  {
   "cell_type": "markdown",
   "metadata": {},
   "source": [
    "## Comprobación de pertenencia\n",
    "\n",
    "A veces queremos saber si un elemento dado está en una lista.\n",
    "Podemos hacer eso con la instrucción `in`"
   ]
  },
  {
   "cell_type": "code",
   "execution_count": 12,
   "metadata": {},
   "outputs": [
    {
     "name": "stdout",
     "output_type": "stream",
     "text": [
      "True\n",
      "False\n"
     ]
    }
   ],
   "source": [
    "#Membresía (usando el operador 'in')\n",
    "print('Lunes' in dias)\n",
    "print('abril' in dias)\n",
    "\n",
    "\n"
   ]
  },
  {
   "cell_type": "markdown",
   "metadata": {},
   "source": [
    "## Operaciones en listas\n",
    "\n",
    "Las listas admiten muchos métodos, lo que las hace fáciles de usar.\n",
    "El más popular es `append()`.\n",
    "Los otros comúnmente utilizados son:\n",
    "\n",
    "`extend()`\n",
    "\n",
    "`insert()`\n",
    "\n",
    "\n",
    "### Listas crecientes"
   ]
  },
  {
   "cell_type": "code",
   "execution_count": 13,
   "metadata": {},
   "outputs": [
    {
     "name": "stdout",
     "output_type": "stream",
     "text": [
      "['a', 'b', 'c', 'd']\n"
     ]
    }
   ],
   "source": [
    "# MÉTODOS DE CULTIVO\n",
    "# append(x) - Agrega un nuevo elemento 'x' al final de la lista\n",
    "alist = ['a', 'b', 'c'] \n",
    "alist.append('d') \n",
    "print(alist)"
   ]
  },
  {
   "cell_type": "code",
   "execution_count": 14,
   "metadata": {},
   "outputs": [],
   "source": [
    "list_no = [1, 2, 3, 4]"
   ]
  },
  {
   "cell_type": "code",
   "execution_count": 15,
   "metadata": {},
   "outputs": [
    {
     "name": "stdout",
     "output_type": "stream",
     "text": [
      "['a', 'b', 'c', 'd', 1, 2, 3, 4]\n"
     ]
    }
   ],
   "source": [
    "# extend(list) - Agrega una lista a otra lista\n",
    "alist.extend(list_no)\n",
    "print(alist)"
   ]
  },
  {
   "cell_type": "code",
   "execution_count": 16,
   "metadata": {},
   "outputs": [
    {
     "name": "stdout",
     "output_type": "stream",
     "text": [
      "['a', 'b', 'c', 'd', 'e', 1, 2, 3, 4]\n"
     ]
    }
   ],
   "source": [
    "#insert(i, x) - inserta un nuevo elemento 'x' en el índice especificado 'i'\n",
    "alist.insert(4,'e')\n",
    "print(alist)"
   ]
  },
  {
   "cell_type": "markdown",
   "metadata": {},
   "source": [
    "### Búsqueda y clasificación\n",
    "\n",
    "A veces queremos saber el índice de un elemento dado en una lista.\n",
    "Para eso podemos usar la función incorporada `index()`"
   ]
  },
  {
   "cell_type": "code",
   "execution_count": 17,
   "metadata": {},
   "outputs": [
    {
     "data": {
      "text/plain": [
       "4"
      ]
     },
     "execution_count": 17,
     "metadata": {},
     "output_type": "execute_result"
    }
   ],
   "source": [
    "# Métodos de búsqueda\n",
    "# index(x) - devuelve el valor de índice de 'x' en la lista\n",
    "días = ['Lunes', 'Martes', 'Miercoles', 'Jueves', 'Viernes', 'Sabado', 'Domingo']\n",
    "dias.index('Viernes')"
   ]
  },
  {
   "cell_type": "code",
   "execution_count": 18,
   "metadata": {},
   "outputs": [
    {
     "name": "stdout",
     "output_type": "stream",
     "text": [
      "['Lunes', 'Martes', 'Miercoles', 'Jueves', 'Viernes', 'Sabado', 'Domingo', 'lunes', 'lunes', 'lunes']\n"
     ]
    }
   ],
   "source": [
    "# Aumentemos la cuenta del lunes en días\n",
    "dias = dias + ['lunes','lunes','lunes']\n",
    "print(dias)\n"
   ]
  },
  {
   "cell_type": "code",
   "execution_count": 19,
   "metadata": {},
   "outputs": [
    {
     "name": "stdout",
     "output_type": "stream",
     "text": [
      "1\n"
     ]
    }
   ],
   "source": [
    "# count(x) - devuelve el número de ocurrencias de 'x' en la lista, por ejemplo\n",
    "print(dias.count('Lunes'))\n"
   ]
  },
  {
   "cell_type": "code",
   "execution_count": 20,
   "metadata": {},
   "outputs": [
    {
     "data": {
      "text/plain": [
       "[1, 2, 3, 4, 7, 9]"
      ]
     },
     "execution_count": 20,
     "metadata": {},
     "output_type": "execute_result"
    }
   ],
   "source": [
    "# MÉTODOS DE CLASIFICACIÓN\n",
    "# sort() - Ordena una lista 'en su lugar'. Orden predeterminado: orden ascendente\n",
    "num = [4, 2, 7, 3, 9, 1] \n",
    "num.sort()\n",
    "num"
   ]
  },
  {
   "cell_type": "code",
   "execution_count": 21,
   "metadata": {},
   "outputs": [
    {
     "ename": "NameError",
     "evalue": "name 'a' is not defined",
     "output_type": "error",
     "traceback": [
      "\u001b[1;31m---------------------------------------------------------------------------\u001b[0m",
      "\u001b[1;31mNameError\u001b[0m                                 Traceback (most recent call last)",
      "Cell \u001b[1;32mIn[21], line 7\u001b[0m\n\u001b[0;32m      5\u001b[0m \u001b[38;5;66;03m# ^^ cambiar la lista en memoria\u001b[39;00m\n\u001b[0;32m      6\u001b[0m num\n\u001b[1;32m----> 7\u001b[0m \u001b[38;5;28mprint\u001b[39m(\u001b[43ma\u001b[49m)\n",
      "\u001b[1;31mNameError\u001b[0m: name 'a' is not defined"
     ]
    }
   ],
   "source": [
    "# To change the order of sorting, use the keyword 'reverse' as an argument to sort()\n",
    "num = [4, 2, 7, 3, 9, 1] \n",
    "# num.sort es una metodo que no retorna una lista\n",
    "num.sort(reverse = True)\n",
    "# ^^ cambiar la lista en memoria\n",
    "num\n",
    "print(a)"
   ]
  },
  {
   "cell_type": "markdown",
   "metadata": {},
   "source": [
    "### Función 'sorted'\n",
    "\n",
    "Esta es una poderosa función incorporada que puede usar para ordenar listas. Veremos más de esto más adelante."
   ]
  },
  {
   "cell_type": "code",
   "execution_count": 24,
   "metadata": {},
   "outputs": [
    {
     "name": "stdout",
     "output_type": "stream",
     "text": [
      "[2, 4, 6]\n",
      "12\n"
     ]
    }
   ],
   "source": [
    "# sorted(list) - devuelve la 'lista' ordenada, pero no reemplaza el orden en la lista original\n",
    "num = [ 4, 6, 2]\n",
    "a = sorted(num) \n",
    "print(a)\n",
    "\n",
    "b= sum(num)\n",
    "print(b)"
   ]
  },
  {
   "cell_type": "markdown",
   "metadata": {},
   "source": [
    "### Cambiar y acortar\n",
    "\n",
    "Puede cambiar cualquier lista cambiando individualmente un elemento. También hay otras cosas que puedes hacer..."
   ]
  },
  {
   "cell_type": "code",
   "execution_count": null,
   "metadata": {},
   "outputs": [],
   "source": [
    "# Invertir una lista\n",
    "\n",
    "# reversed(list) - devuelve el reverso de 'lista' como iterador, por ejemplo:\n",
    "\n",
    "L = list(range(1,5))\n",
    "print(L)\n",
    "print(list(reversed(L)))"
   ]
  },
  {
   "cell_type": "code",
   "execution_count": null,
   "metadata": {},
   "outputs": [],
   "source": [
    "# MÉTODOS DE CONtracción\n",
    "# remove(x) - elimina el elemento 'x' de la lista\n",
    "num = [4, 7, 2, 6, 3, 9] \n",
    "num.remove(2)\n",
    "num"
   ]
  },
  {
   "cell_type": "code",
   "execution_count": null,
   "metadata": {},
   "outputs": [],
   "source": [
    "# pop(i) - elimina y devuelve el elemento en la posición de índice 'i'\n",
    "num = [4, 7, 2, 6, 3, 9] \n",
    "num.pop(3)\n",
    "num"
   ]
  },
  {
   "cell_type": "code",
   "execution_count": null,
   "metadata": {},
   "outputs": [],
   "source": [
    "# pop() - elimina el último elemento de la lista\n",
    "num = [4, 7, 2, 6, 3, 9] \n",
    "num.pop()\n",
    "num"
   ]
  },
  {
   "cell_type": "markdown",
   "metadata": {},
   "source": [
    "## Función incorporada `range()`\n",
    "Hay una clase de objetos en Python que no son listas sino que, como las listas, tienen una existencia secuencial. No queremos generarlos hasta que los necesitemos porque son fáciles de generar y, de lo contrario, consumirían memoria. Un ejemplo es el\n",
    "objeto creado por la función `range(inicio, parada)` que solo le da números secuenciales desde el inicio hasta el 1 antes de detenerse. Para generar estos números, podemos pasarlos a la función `lista`"
   ]
  },
  {
   "cell_type": "code",
   "execution_count": null,
   "metadata": {},
   "outputs": [],
   "source": [
    "num_list = list(range(1,10)) \n",
    "print(num_list) "
   ]
  }
 ],
 "metadata": {
  "kernelspec": {
   "display_name": "Python 3",
   "language": "python",
   "name": "python3"
  },
  "language_info": {
   "codemirror_mode": {
    "name": "ipython",
    "version": 3
   },
   "file_extension": ".py",
   "mimetype": "text/x-python",
   "name": "python",
   "nbconvert_exporter": "python",
   "pygments_lexer": "ipython3",
   "version": "3.11.4"
  }
 },
 "nbformat": 4,
 "nbformat_minor": 4
}
