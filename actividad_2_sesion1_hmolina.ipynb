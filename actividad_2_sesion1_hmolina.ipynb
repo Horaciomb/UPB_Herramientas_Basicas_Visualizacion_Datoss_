{
 "cells": [
  {
   "attachments": {},
   "cell_type": "markdown",
   "metadata": {},
   "source": [
    "# <img style=\"float: left; padding-right: 20px; height: 70px\" src=\"https://i.imgur.com/cMzxwTN.jpg\"> Herramientas Básicas de Visualización de Datos\n",
    "\n",
    "## Actividad `II` Sesion 1: Manejo de variables en python\n",
    "\n",
    "**Universidad Privada Boliviana**<br/>\n",
    "**Diplomado en Machine Learning y Ciencia de Datos**<br/>\n"
   ]
  },
  {
   "cell_type": "markdown",
   "metadata": {},
   "source": [
    "## Python como Calculadora de Ahorros 💰\n",
    "¡El nuevo trabajo de ciencia de datos le ha dejado mucho dinero para invertir! \n",
    "\n",
    "Usemos python para ver lo que puedes ganar invirtiendo en un banco.\n"
   ]
  },
  {
   "cell_type": "markdown",
   "metadata": {},
   "source": [
    "\n",
    "El objetivo del ejercicio es construir una calculadora de ahorro simple usando python.\n",
    "\n",
    "## Instrucciones:\n",
    "\n",
    "- Siga el notebook para llenar los espacios en blanco y construya una calculadora de ahorro simple.\n",
    "    \n",
    "- Combine diferentes operadores aritméticos.\n",
    "    \n",
    "- Imprima los resultados utilizando variables, operadores y sentencias condicionales de Python.\n",
    "    \n",
    "\n",
    "## Sugerencias:\n",
    "\n",
    "**Fórmulas para Interés Simple:**\n",
    "\n",
    "$S.I. =P×R×T$\n",
    "\n",
    "$Monto = P+(P×R×T)$\n",
    " \n",
    "\n",
    "\n",
    "Monto = Monto incluyendo interés final \n",
    "\n",
    "S.I =Interés simple \n",
    "\n",
    "P= Importe principal \n",
    "\n",
    "R= Tasa de interés \n",
    "\n",
    "T= Número de años\n"
   ]
  },
  {
   "cell_type": "code",
   "execution_count": 1,
   "metadata": {},
   "outputs": [],
   "source": [
    "# Suponga que le sobran $1000 de su primer cheque de pago\n",
    "# Crear una variable 'ahorros' para reflejar lo mismo\n",
    "# (por ejemplo, ahorros = 1000)\n",
    "# Tu código aquí\n",
    "ahorros = 1000"
   ]
  },
  {
   "attachments": {},
   "cell_type": "markdown",
   "metadata": {},
   "source": [
    "### ⏸ ¿Cuál es el `tipo` de la variable `ahorros`?\n",
    "\n",
    "\n",
    "#### A. float\n",
    "#### B. str\n",
    "#### C. int\n",
    "#### D. tuple"
   ]
  },
  {
   "cell_type": "code",
   "execution_count": 3,
   "metadata": {},
   "outputs": [],
   "source": [
    "\n",
    "# Envíe una opción de respuesta como una string\n",
    "# (ej. si elige la opción C, ponga 'C')\n",
    "respuesta = 'C' # pero podria ser float si tiene decimales pero en este caso es un entero"
   ]
  },
  {
   "cell_type": "code",
   "execution_count": 6,
   "metadata": {},
   "outputs": [],
   "source": [
    "# Su banco está ofreciendo 7.01%\n",
    "# (Interés Simple, por año)\n",
    "# Asignar los valores numéricos solamente (sin el %)\n",
    "# p.ej. si la tasa de interés es 7.01%, asigne el valor como 7.01/100\n",
    "\n",
    "interest_rate = 7.01/100\n",
    "\n"
   ]
  },
  {
   "cell_type": "code",
   "execution_count": 14,
   "metadata": {},
   "outputs": [
    {
     "name": "stdout",
     "output_type": "stream",
     "text": [
      "El interés total ganado por una inversión de 2 años es $1140.20\n",
      "para este calculo se tomo en cuenta un ahorro inicial de $1000\n",
      "con una tasa de interes de 7.01% anual\n"
     ]
    }
   ],
   "source": [
    "# Veamos cuánto ganaría después de 2 años\n",
    "num_years = 2\n",
    "# Ahorros totales = Monto de capital + (Monto de capital x Tasa de interés x Número de años)\n",
    "# Sugerencia: consulte la descripción del ejercicio para ver la fórmula\n",
    "# Usando los nombres de las variables asignadas, imprima la nueva cantidad\n",
    "#Encuentra el interés ganado después de un número dado de años\n",
    "interes_simple=ahorros*interest_rate*num_years\n",
    "ahorros_totales=ahorros+interes_simple\n",
    "\n",
    "nuevo_monto = ahorros_totales\n",
    "print(f'El interés total ganado por una inversión de {num_years} años es ${(nuevo_monto):.2f}')\n",
    "print(f\"para este calculo se tomo en cuenta un ahorro inicial de ${ahorros}\") \n",
    "print(f\"con una tasa de interes de {interest_rate*100}% anual\")"
   ]
  },
  {
   "cell_type": "markdown",
   "metadata": {},
   "source": [
    "## Sugerencias:\n",
    "\n",
    "**Fórmulas para Interés Simple:**\n",
    "\n",
    "$S.I. =P×R×T$\n",
    "\n",
    "$Monto = P+(P×R×T)$\n",
    " \n",
    "\n",
    "\n",
    "Monto = Monto incluyendo interés final \n",
    "\n",
    "S.I =Interés simple \n",
    "\n",
    "P= Importe principal \n",
    "\n",
    "R= Tasa de interés \n",
    "\n",
    "T= Número de años"
   ]
  }
 ],
 "metadata": {
  "kernelspec": {
   "display_name": "Python 3",
   "language": "python",
   "name": "python3"
  },
  "language_info": {
   "codemirror_mode": {
    "name": "ipython",
    "version": 3
   },
   "file_extension": ".py",
   "mimetype": "text/x-python",
   "name": "python",
   "nbconvert_exporter": "python",
   "pygments_lexer": "ipython3",
   "version": "3.11.4"
  },
  "orig_nbformat": 4
 },
 "nbformat": 4,
 "nbformat_minor": 2
}
