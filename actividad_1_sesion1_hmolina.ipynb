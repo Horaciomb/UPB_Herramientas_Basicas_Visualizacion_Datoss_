{
 "cells": [
  {
   "cell_type": "markdown",
   "metadata": {},
   "source": [
    "# <img style=\"float: left; padding-right: 20px; height: 70px\" src=\"https://i.imgur.com/cMzxwTN.jpg\"> Herramientas Básicas de Visualización de Datos\n",
    "\n",
    "## Actividad `I` Sesion 1: Manejo de variables en python\n",
    "\n",
    "**Universidad Privada Boliviana**<br/>\n",
    "**Diplomado en Machine Learning y Ciencia de Datos**<br/>\n"
   ]
  },
  {
   "cell_type": "markdown",
   "metadata": {},
   "source": [
    "## Ejercicio: Planificador Pizzas 🍕\n",
    "\n",
    "Estás organizando una fiesta y quieres calcular cuántas pizzas necesitas pedir en función del número de invitados, su apetito y los tamaños de pizza disponibles. Construyamos un programa en Python para ayudarte con esta tarea.\n",
    "\n",
    "## Instrucciones:\n",
    "\n",
    "1.  Define una variable `num_invitados` y asígnale un valor apropiado basado en el número de invitados que esperas. Utiliza un número entero para esta variable.\n"
   ]
  },
  {
   "cell_type": "code",
   "execution_count": 21,
   "metadata": {},
   "outputs": [],
   "source": [
    "# tu codigo aca...\n",
    "num_invitados=9\n"
   ]
  },
  {
   "cell_type": "markdown",
   "metadata": {},
   "source": [
    "    \n",
    "2.  Define una variable `rebanadas_por_invitado` y asígnale un valor apropiado basado en la cantidad promedio de rebanadas que cada invitado podría consumir. Esto puede ser un número decimal o entero."
   ]
  },
  {
   "cell_type": "code",
   "execution_count": 22,
   "metadata": {},
   "outputs": [],
   "source": [
    "# Tu codigo aca\n",
    "rebanadas_por_invitado=2.5"
   ]
  },
  {
   "cell_type": "markdown",
   "metadata": {},
   "source": [
    "3.  Calcula el total de rebanadas de pizza necesarias utilizando la fórmula:\n",
    "    \n",
    "    ```\n",
    "    total_rebanadas = num_invitados * rebanadas_por_invitado\n",
    "    \n",
    "    ```\n",
    "\n",
    "    \n"
   ]
  },
  {
   "cell_type": "code",
   "execution_count": 23,
   "metadata": {},
   "outputs": [
    {
     "data": {
      "text/plain": [
       "22.5"
      ]
     },
     "execution_count": 23,
     "metadata": {},
     "output_type": "execute_result"
    }
   ],
   "source": [
    "# Tu codigo aca\n",
    "total_rebandadas=num_invitados*rebanadas_por_invitado\n",
    "total_rebandadas"
   ]
  },
  {
   "cell_type": "markdown",
   "metadata": {},
   "source": [
    "    \n",
    "4.  Ahora, necesitas determinar la cantidad de pizzas requeridas para satisfacer a todos. Cada pizza tiene un número fijo de rebanadas, que definirás en una variable `rebanadas_por_pizza`. Elige un valor adecuado para esta variable por ejemplo 12 rebanadas en un pizza."
   ]
  },
  {
   "cell_type": "code",
   "execution_count": 24,
   "metadata": {},
   "outputs": [],
   "source": [
    "# Tu codigo aca\n",
    "rebanadas_por_pizza=8"
   ]
  },
  {
   "cell_type": "markdown",
   "metadata": {},
   "source": [
    "5.  Calcula la cantidad de pizzas necesarias utilizando la fórmula:\n",
    "    \n",
    "    ```\n",
    "    num_pizzas = total_rebanadas // rebanadas_por_pizza + 1\n",
    "    \n",
    "    ```\n",
    "    \n",
    "    Nota: El operador `//` realiza una división entera, descartando el residuo.\n",
    "    \n"
   ]
  },
  {
   "cell_type": "code",
   "execution_count": 25,
   "metadata": {},
   "outputs": [
    {
     "data": {
      "text/plain": [
       "3.0"
      ]
     },
     "execution_count": 25,
     "metadata": {},
     "output_type": "execute_result"
    }
   ],
   "source": [
    "# Tu codigo aca\n",
    "num_pizzas = total_rebandadas // rebanadas_por_pizza +1\n",
    "num_pizzas"
   ]
  },
  {
   "cell_type": "markdown",
   "metadata": {},
   "source": [
    "6.  Para hacer la fiesta de pizza más interesante, decides ofrecer una variedad de sabores. Define tres variables `sabor1`, `sabor2` y `sabor3`, y asígnales tus tres sabores de pizza favoritos como cadenas de texto. Por ejemplo `sabor1 = 'pepperoni'`\n"
   ]
  },
  {
   "cell_type": "code",
   "execution_count": 26,
   "metadata": {},
   "outputs": [],
   "source": [
    "# tu codigo aca\n",
    "sabor1 = \"Carbonara\"\n",
    "sabor2 = \"Margarita\"\n",
    "sabor3 = \"Fugazza\"\n",
    "\n"
   ]
  },
  {
   "cell_type": "markdown",
   "metadata": {},
   "source": [
    "    \n",
    "7.  Crea otra variable `num_sabores` y asígnale el valor 3.\n"
   ]
  },
  {
   "cell_type": "code",
   "execution_count": 27,
   "metadata": {},
   "outputs": [],
   "source": [
    "# tu codigo aca\n",
    "num_sabores=3"
   ]
  },
  {
   "cell_type": "markdown",
   "metadata": {},
   "source": [
    "\n",
    "    \n",
    "8.  Ahora, calcula el número promedio de pizzas por sabor dividiendo el total de pizzas entre la cantidad de sabores disponibles. Asigna este valor a la variable `pizzas_por_sabor` utilizando el operador `/`.\n"
   ]
  },
  {
   "cell_type": "code",
   "execution_count": 28,
   "metadata": {},
   "outputs": [
    {
     "data": {
      "text/plain": [
       "1.0"
      ]
     },
     "execution_count": 28,
     "metadata": {},
     "output_type": "execute_result"
    }
   ],
   "source": [
    "# tu codigo aca\n",
    "pizzas_porsabor=num_pizzas/num_sabores\n",
    "pizzas_porsabor"
   ]
  },
  {
   "cell_type": "markdown",
   "metadata": {},
   "source": [
    "\n",
    "    \n",
    "9.  Finalmente, imprime los resultados finales utilizando mensajes apropiados. Muestra los valores de `num_invitados`, `rebanadas_por_invitado`, `total_rebanadas`, `num_pizzas`, `sabor1`, `sabor2`, `sabor3`, `num_sabores` y `pizzas_por_sabor`.\n",
    "    \n"
   ]
  },
  {
   "cell_type": "code",
   "execution_count": 29,
   "metadata": {},
   "outputs": [
    {
     "name": "stdout",
     "output_type": "stream",
     "text": [
      "Hoy tendremos 9 invitados para la cena\n",
      "Se espera entregar 2.5 rebanadas de pizza por cada invitado\n",
      "siendo un total de 22.5 rabanadas de pizza para los invitados\n",
      "compraremos 3 pizzas para la noche\n",
      "pediremos los sabores Carbonara, Margarita y Fugazza un total de 3 sabores\n",
      "así que habra 1 pizzas por sabor\n"
     ]
    }
   ],
   "source": [
    "# tu codigo aca\n",
    "print(f\"Hoy tendremos {num_invitados} invitados para la cena\")\n",
    "print(f\"Se espera entregar {rebanadas_por_invitado} rebanadas de pizza por cada invitado\")\n",
    "print(f\"siendo un total de {total_rebandadas} rabanadas de pizza para los invitados\")\n",
    "print(f\"compraremos {int(num_pizzas)} pizzas para la noche\")\n",
    "print(f\"pediremos los sabores {sabor1}, {sabor2} y {sabor3} un total de {num_sabores} sabores\")\n",
    "print(f\"así que habra {int(pizzas_porsabor)} pizzas por sabor\")\n"
   ]
  },
  {
   "cell_type": "markdown",
   "metadata": {},
   "source": [
    "\n",
    "## Sugerencias:\n",
    "\n",
    "-   Recuerda utilizar nombres de variables apropiados y proporcionar mensajes de salida claros.\n",
    "-   El número de invitados y la cantidad promedio de rebanadas por invitado pueden ser números enteros o decimales, según tu preferencia.\n",
    "\n",
    "Tu tarea es completar los espacios en blanco y finalizar el programa de acuerdo con las instrucciones. ¡Disfruta planificando tu fiesta ! 🎉🍕"
   ]
  }
 ],
 "metadata": {
  "kernelspec": {
   "display_name": "Python 3",
   "language": "python",
   "name": "python3"
  },
  "language_info": {
   "codemirror_mode": {
    "name": "ipython",
    "version": 3
   },
   "file_extension": ".py",
   "mimetype": "text/x-python",
   "name": "python",
   "nbconvert_exporter": "python",
   "pygments_lexer": "ipython3",
   "version": "3.11.4"
  },
  "orig_nbformat": 4
 },
 "nbformat": 4,
 "nbformat_minor": 2
}
