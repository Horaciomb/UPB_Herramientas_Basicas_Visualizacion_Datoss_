{
 "cells": [
  {
   "cell_type": "markdown",
   "metadata": {},
   "source": [
    "# <img style=\"float: left; padding-right: 20px; height: 70px\" src=\"https://i.imgur.com/cMzxwTN.jpg\"> Herramientas Básicas de Visualización de Datos   \n",
    "\n",
    "## Actividad `I` , sesion IV\n",
    "\n",
    "\n",
    "**Universidad Privada Boliviana**<br/>\n",
    "**Diplomado en Machine Learning y Ciencia de Datos**<br/>"
   ]
  },
  {
   "cell_type": "markdown",
   "metadata": {
    "id": "iFLqckSE298b"
   },
   "source": [
    "## Funciones\n",
    "\n",
    "## Importar datos y echar un vistazo"
   ]
  },
  {
   "cell_type": "code",
   "execution_count": 14,
   "metadata": {
    "colab": {
     "base_uri": "https://localhost:8080/",
     "height": 35
    },
    "executionInfo": {
     "elapsed": 258,
     "status": "ok",
     "timestamp": 1687248080592,
     "user": {
      "displayName": "Hugo Condori",
      "userId": "18075994999005632946"
     },
     "user_tz": 240
    },
    "id": "LIIq4xJL298e",
    "outputId": "4c42c0b1-3d2f-4373-9638-6857eea4ba11"
   },
   "outputs": [
    {
     "name": "stdout",
     "output_type": "stream",
     "text": [
      "[71, 87, 21, 18, 32, 72, 75, 43, 56, 25]\n",
      "[5, 81, 46, 17, 20, 7, 3, 51, 43, 3]\n"
     ]
    },
    {
     "data": {
      "text/plain": [
       "55.0"
      ]
     },
     "execution_count": 14,
     "metadata": {},
     "output_type": "execute_result"
    }
   ],
   "source": [
    "data1 = [71, 87, 21, 18, 32, 72, 75, 43, 56, 25, 90, 68, 32, 17, 19, 30, 38, 83, 94, 57, 25, 25, 51, 53, 90, 35, 71, 53, 93, 24, 34, 16, 38, 96, 23, 46, 76, 52, 92, 78, 22, 46, 68, 99, 28, 45, 53, 66, 84, 13, 22, 37, 24, 83, 92, 81, 34, 91, 18, 76, 17, 87, 94, 96, 56, 69, 27, 94, 30, 88, 85, 34, 67, 72, 64, 95, 77, 43, 66, 31, 20, 79, 77, 34, 87, 43, 86, 36, 75, 28, 98, 12, 10, 20, 30, 52, 81, 89, 61, 55, 73, 46, 33, 98, 70, 20, 51, 93, 33, 52, 94, 46, 83, 43, 73, 80, 94, 19, 23, 41, 21, 36, 71, 62, 52, 25, 87, 15, 52, 76, 42, 10]\n",
    "data2 = [5, 81, 46, 17, 20, 7, 3, 51, 43, 3, 42, 18, 1, 9, 15, 21, 5, 31, 66, 3, 61, 19, 6, 17, 16, 28, 1, 17, 8, 34, 15, 5, 12, 45, 7, 25, 7, 5, 2, 8, 18, 26, 44, 8, 4, 10, 72, 20, 30, 40, 34, 6, 14, 30, 17, 49, 4, 2, 15, 4, 20, 23, 8, 10, 22, 1, 54, 1, 15, 19, 5, 14, 27, 35, 11, 18, 24, 3, 6, 8, 22, 27, 17, 0, 23, 7, 7, 5, 11, 64, 29, 17, 21, 9, 3, 33, 6, 3, 14, 13, 17, 34, 8, 36, 3, 53, 5, 29, 11, 31, 31, 3, 27, 53, 7, 15, 3, 11, 19, 5, 25, 2, 4, 23, 21, 12, 27, 37, 4, 41, 23, 28]\n",
    "\n",
    "#Imprimir 10 entradas de data1 y data2\n",
    "print(data1[:10])\n",
    "print(data2[:10])"
   ]
  },
  {
   "cell_type": "markdown",
   "metadata": {
    "id": "6thdZC-x298f"
   },
   "source": [
    "## Estandarizar los datos:\n",
    "1. Calcular su Media $\\mu = (\\frac{\\Sigma(x_i)}{n})$\n",
    "2. Calculate su Desviación Estándar $(\\frac{\\Sigma(x_i^2)}{n} - \\mu^2)^{1/2}$.\n",
    "3. Para cada elemento realice lo siguiente:\n",
    "\n",
    "    $z_i = \\frac{x_i - \\mu}{\\sigma}$"
   ]
  },
  {
   "cell_type": "code",
   "execution_count": 61,
   "metadata": {},
   "outputs": [],
   "source": [
    "# Funciones auxiliares\n",
    "def calcular_media(data:list)->float:\n",
    "    return sum(data)/len(data)\n",
    "def calcular_desviacion_estandar(data:list, mean:float)->float:\n",
    "    return (sum(x**2 for x in data) / len(data) - mean**2)**0.5"
   ]
  },
  {
   "cell_type": "code",
   "execution_count": 63,
   "metadata": {
    "id": "BQ0osOLG298f"
   },
   "outputs": [
    {
     "name": "stdout",
     "output_type": "stream",
     "text": [
      "Los primeros 10 numeros al cuadrado son: [5041, 7569, 441, 324, 1024, 5184, 5625, 1849, 3136, 625]\n",
      "La media es 55.0\n",
      "La desviación estándar es 26.84833948931169\n",
      "Los primeros 10 elementos estandarizados son: [0.6, 1.19, -1.27, -1.38, -0.86, 0.63, 0.74, -0.45, 0.04, -1.12]\n"
     ]
    }
   ],
   "source": [
    "### edTest(test_std) ###\n",
    "#Usar list comprehension para encontrar el cuadrado cada elemento de la lista data1\n",
    "data_sq1 =[x**2 for x in data1]\n",
    "print(f\"Los primeros 10 numeros al cuadrado son: {data_sq1[:10]}\")\n",
    "#Calcule la media y la desviación estándar usando la fórmula provista en la celda marcada arriba\n",
    "\n",
    "mean1 = calcular_media(data1)\n",
    "print(f\"La media es {mean1}\")\n",
    "\n",
    "std1 = calcular_desviacion_estandar(data1, mean1)\n",
    "print(f\"La desviación estándar es {std1}\")\n",
    "\n",
    "#Estandarizar los datos usando list comprehension y mostrar 10 elementos\n",
    "std_data = [round((x - mean1) / std1, 2) for x in data1]\n",
    "print(f'Los primeros 10 elementos estandarizados son: {std_data[:10]}')"
   ]
  },
  {
   "cell_type": "markdown",
   "metadata": {
    "id": "PFSk9mh8298g"
   },
   "source": [
    "### De manera similar estandarizar data2"
   ]
  },
  {
   "cell_type": "code",
   "execution_count": 64,
   "metadata": {
    "id": "ehukSuAH298g"
   },
   "outputs": [
    {
     "name": "stdout",
     "output_type": "stream",
     "text": [
      "Los primeros 10 elementos elevados al cuadrado son: [25, 6561, 2116, 289, 400, 49, 9, 2601, 1849, 9]\n",
      "La media es 19.507575757575758\n",
      "La desviación estándar es 16.548137408748037\n",
      "Los primeros 10 elementos estandarizados son: [-0.88, 3.72, 1.6, -0.15, 0.03, -0.76, -1.0, 1.9, 1.42, -1.0]\n"
     ]
    }
   ],
   "source": [
    "#Usar list comprehension para elevar al cuadrado cada elemento de la lista data2\n",
    "data_2_sq = [x**2 for x in data2]\n",
    "print(f\"Los primeros 10 elementos elevados al cuadrado son: {data_2_sq[:10]}\")\n",
    "\n",
    "#Calcular la media y la desviación estándar\n",
    "mean2=calcular_media(data2)\n",
    "print(f\"La media es {mean2}\")\n",
    "std2=calcular_desviacion_estandar(data2,mean2)\n",
    "print(f\"La desviación estándar es {std2}\")\n",
    "\n",
    "#Estandarizar datos e imprimir 10 elementos\n",
    "std_data2=[round((x - mean2) / std2, 2) for x in data2]\n",
    "print(f\"Los primeros 10 elementos estandarizados son: {std_data2[:10]}\")"
   ]
  },
  {
   "cell_type": "markdown",
   "metadata": {
    "id": "SmzJaTTZ298h"
   },
   "source": [
    "## Escribir una función\n",
    "Copiar y pegar manualmente el código para procesar todos los diferentes conjuntos de datos sería muy tedioso y también reduce la legibilidad del código, lo que aumenta las posibilidades de pequeños errores.\n",
    "\n",
    "Es por eso que declararemos una función para que haga el trabajo por nosotros. Cada vez que queremos estandarizar datos, todo lo que tenemos que hacer es simplemente llamar a la función."
   ]
  },
  {
   "cell_type": "code",
   "execution_count": 55,
   "metadata": {
    "id": "ZkJEM-j3298h"
   },
   "outputs": [],
   "source": [
    "### edTest(test_func) ###\n",
    "#Defina una función que calcule la media y la desviación estándar de los datos de entrada y devuelva datos estandarizados\n",
    "def standardizar(lista: list) -> list:\n",
    "    data_sq = [x**2 for x in lista]\n",
    "    mean = sum(lista) / len(lista)\n",
    "    std = (sum(data_sq) / len(lista) - mean**2)**0.5\n",
    "    return [(x - mean) / std for x in lista]\n"
   ]
  },
  {
   "cell_type": "code",
   "execution_count": 56,
   "metadata": {
    "id": "FN0NLNNp298i"
   },
   "outputs": [
    {
     "name": "stdout",
     "output_type": "stream",
     "text": [
      "[0.5959400210344328, 1.1918800420688656, -1.2663725446981695, -1.3781112986421258, -0.8566637802369971, 0.6331862723490848, 0.7449250262930409, -0.4469550157758245, 0.03724625131465205, -1.1173875394395614]\n"
     ]
    }
   ],
   "source": [
    "#Llame a la función de estandarización en data1 y mostrar 10 elementos\n",
    "data1_std = standardizar(data1)\n",
    "print(data1_std[:10])"
   ]
  },
  {
   "cell_type": "code",
   "execution_count": 57,
   "metadata": {
    "id": "8EOjNsak298i"
   },
   "outputs": [
    {
     "name": "stdout",
     "output_type": "stream",
     "text": [
      "[-0.8766893457088679, 3.7159725426208254, 1.6009308835216247, -0.15153220544628476, 0.02975707961936104, -0.7558298223317708, -0.9975488690859652, 1.9030796919643675, 1.4196415984559787, -0.9975488690859652]\n"
     ]
    }
   ],
   "source": [
    "#Llame a la función de estandarización en data2 y mostrar 10 elementos\n",
    "data2_std = standardizar(data2)\n",
    "print(data2_std[:10])"
   ]
  },
  {
   "cell_type": "markdown",
   "metadata": {
    "id": "4RgDtddF298i"
   },
   "source": [
    "## Función de desestandarización\n",
    "A menudo, en la ciencia de datos, realizamos manipulaciones en el conjunto de datos estandarizados (porque generalmente es más fácil) y luego lo volvemos a convertir a la escala original desestandarizando.\n",
    "Entonces, escribamos una función para recuperar los datos mediante la desestandarización."
   ]
  },
  {
   "cell_type": "markdown",
   "metadata": {
    "id": "keFkcxQE298j"
   },
   "source": [
    "## Función para desestandarizar\n",
    "Necesitará los valores `media` y `std` originales para desestandarizar. Realice lo siguiente en cada elemento:\n",
    "\n",
    "$x_i = z_i . \\sigma + \\mu$"
   ]
  },
  {
   "cell_type": "code",
   "execution_count": 58,
   "metadata": {
    "id": "ma8X5S6g298j"
   },
   "outputs": [],
   "source": [
    "### edTest(test_de) ###\n",
    "# Escriba una función que tome datos, media y desviación estándardar como entrada\n",
    "# y devuelve datos no estandarizados\n",
    "# Asegúrate de usar la media y std correctos para\n",
    "# data1 y data2 calculados antes\n",
    "def destandardize(mean,std,data):\n",
    "  return [(x*std+mean) for x in data]"
   ]
  },
  {
   "cell_type": "code",
   "execution_count": 59,
   "metadata": {
    "id": "w0XWos_E298j"
   },
   "outputs": [
    {
     "name": "stdout",
     "output_type": "stream",
     "text": [
      "[71.0, 87.0, 21.0, 18.0, 32.0, 72.0, 75.0, 43.0, 56.0, 25.0]\n",
      "[71, 87, 21, 18, 32, 72, 75, 43, 56, 25]\n"
     ]
    }
   ],
   "source": [
    "### edTest(test_de1) ###\n",
    "#Usa la media y std de data1 calculado antes y desestandarizar data_std1\n",
    "data_de1 = destandardize(calcular_media(data1),calcular_desviacion_estandar(data1,calcular_media(data1)),data1_std)\n",
    "print(data_de1[:10])\n",
    "print(data1[:10])"
   ]
  },
  {
   "cell_type": "code",
   "execution_count": 66,
   "metadata": {
    "id": "Nd8Usrx1298j"
   },
   "outputs": [
    {
     "name": "stdout",
     "output_type": "stream",
     "text": [
      "[5.0, 81.0, 46.0, 17.0, 20.0, 7.0, 3.0, 51.0, 43.0, 3.0]\n",
      "[5, 81, 46, 17, 20, 7, 3, 51, 43, 3]\n"
     ]
    }
   ],
   "source": [
    "### edTest(test_de2) ###\n",
    "#Usa la media y std de data2 calculado antes y desestandarizar data_std2\n",
    "\n",
    "data_de2 = destandardize(calcular_media(data2),calcular_desviacion_estandar(data2,calcular_media(data2)),data2_std)\n",
    "print(data_de2[:10])\n",
    "print(data2[:10])"
   ]
  }
 ],
 "metadata": {
  "colab": {
   "provenance": []
  },
  "kernelspec": {
   "display_name": "Python 3",
   "language": "python",
   "name": "python3"
  },
  "language_info": {
   "codemirror_mode": {
    "name": "ipython",
    "version": 3
   },
   "file_extension": ".py",
   "mimetype": "text/x-python",
   "name": "python",
   "nbconvert_exporter": "python",
   "pygments_lexer": "ipython3",
   "version": "3.11.4"
  }
 },
 "nbformat": 4,
 "nbformat_minor": 0
}
