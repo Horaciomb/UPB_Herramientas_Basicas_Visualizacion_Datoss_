{
 "cells": [
  {
   "cell_type": "markdown",
   "metadata": {},
   "source": [
    "# **Sesión 4. Sintaxis pythónico y funciones**\n",
    "## Sintaxis pythónico, Introducción a List Comprehension en Python,\n",
    "\n",
    "En esta sección, aprenderemos sobre **List Comprehension**, una herramienta poderosa y concisa de Python que permite crear listas de manera eficiente y con un estilo claro y pythonico. \n",
    "\n",
    "### ¿Qué es List Comprehension?\n",
    "\n",
    "Es una forma compacta de generar listas en una sola línea de código. Sustituye bucles `for` tradicionales y hace que el código sea más legible y elegante.\n",
    "\n",
    "### Sintaxis básica:\n",
    "\n",
    "```python\n",
    "[expression for item in iterable]\n",
    "```\n",
    "\n",
    "- **`expression`**: Lo que se evaluará o transformará para cada elemento.\n",
    "- **`item`**: El elemento actual del iterable.\n",
    "- **`iterable`**: Una lista, rango, o cualquier objeto que se pueda iterar.\n"
   ]
  },
  {
   "cell_type": "markdown",
   "metadata": {},
   "source": [
    "\n",
    "### Ejemplo:\n",
    "\n",
    "Crear una lista de números elevados al cuadrado:\n",
    "   ```python\n",
    "   squares = [x**2 for x in range(5)]\n",
    "   print(squares)  # Output: [0, 1, 4, 9, 16]\n",
    "   ```\n"
   ]
  },
  {
   "cell_type": "code",
   "execution_count": 12,
   "metadata": {},
   "outputs": [
    {
     "name": "stdout",
     "output_type": "stream",
     "text": [
      "[6, 14, 18]\n",
      "[3, 7, 9, 3, 7, 9]\n"
     ]
    }
   ],
   "source": [
    "# Encontrar el doble de cada elemento de una lista\n",
    "A=[3,7,9]\n",
    "B=[6,14,18]\n",
    "C=[x*2 for x in A]\n",
    "print(C)\n",
    "\n",
    "print(2*A)"
   ]
  },
  {
   "cell_type": "code",
   "execution_count": 13,
   "metadata": {},
   "outputs": [
    {
     "name": "stdout",
     "output_type": "stream",
     "text": [
      "[6, 14, 18]\n"
     ]
    }
   ],
   "source": [
    "B2 =[]\n",
    "for elemento in A:\n",
    "    A2=2*elemento\n",
    "    B2.append(A2)\n",
    "print(B2)"
   ]
  },
  {
   "cell_type": "code",
   "execution_count": 16,
   "metadata": {},
   "outputs": [
    {
     "name": "stdout",
     "output_type": "stream",
     "text": [
      "[6, 14, 18]\n"
     ]
    }
   ],
   "source": [
    "B3=[x*2 for x in A]\n",
    "print(B3)"
   ]
  },
  {
   "cell_type": "code",
   "execution_count": 15,
   "metadata": {},
   "outputs": [
    {
     "name": "stdout",
     "output_type": "stream",
     "text": [
      "A elevado al cuadrado es [9, 49, 81]\n"
     ]
    }
   ],
   "source": [
    "# Elevado al cuadrado\n",
    "A2=[x**2 for x in A]\n",
    "print(f\"A elevado al cuadrado es {A2}\")"
   ]
  },
  {
   "cell_type": "markdown",
   "metadata": {},
   "source": [
    "Generar una lista con los caracteres de una palabra:\n",
    "   ```python\n",
    "   chars = [char for char in \"Python\"]\n",
    "   ```"
   ]
  },
  {
   "cell_type": "code",
   "execution_count": 19,
   "metadata": {},
   "outputs": [
    {
     "name": "stdout",
     "output_type": "stream",
     "text": [
      "['P', 'y', 't', 'h', 'o', 'n']\n"
     ]
    }
   ],
   "source": [
    "palabra=\"Python\"\n",
    "char1=[]\n",
    "for letra in palabra:\n",
    "    char1.append(letra)\n",
    "print(char1)"
   ]
  },
  {
   "cell_type": "code",
   "execution_count": 18,
   "metadata": {},
   "outputs": [
    {
     "data": {
      "text/plain": [
       "['P', 'y', 't', 'h', 'o', 'n']"
      ]
     },
     "execution_count": 18,
     "metadata": {},
     "output_type": "execute_result"
    }
   ],
   "source": [
    "[char for char in \"Python\" ]"
   ]
  },
  {
   "cell_type": "markdown",
   "metadata": {},
   "source": [
    "### **Problema: Suma Acumulativa**\n",
    "\n",
    "Dada una lista de números, escribe un programa que calcule la suma acumulativa de los elementos.\n",
    "\n",
    "**Entrada:**  \n",
    "`[10, 20, 30, 40]`\n",
    "\n",
    "**Requerimiento:**  \n",
    "La nueva lista debe contener los valores acumulativos. Por ejemplo, la salida para la entrada proporcionada debe ser `[10, 30, 60, 100]`. Utiliza **List Comprehension** con `sum()`.\n",
    "\n",
    "**Salida:**  \n",
    "`[10, 30, 60, 100]`\n",
    "\n",
    "---\n"
   ]
  },
  {
   "cell_type": "code",
   "execution_count": 33,
   "metadata": {},
   "outputs": [
    {
     "name": "stdout",
     "output_type": "stream",
     "text": [
      "[10, 30, 60, 100]\n"
     ]
    }
   ],
   "source": [
    "lista_numeros1=[10,20,30,40]\n",
    "suma_acumulativa = [sum(lista_numeros1[:i+1]) for i in range(len(lista_numeros1))]\n",
    "\n",
    "# Salida\n",
    "print(suma_acumulativa)"
   ]
  },
  {
   "cell_type": "code",
   "execution_count": 47,
   "metadata": {},
   "outputs": [
    {
     "name": "stdout",
     "output_type": "stream",
     "text": [
      "10\n",
      "30\n",
      "60\n",
      "100\n"
     ]
    }
   ],
   "source": [
    "lista_numeros=lista_numeros1.copy()\n",
    "lista_acumulativa=[]\n",
    "for elemento in range(len(lista_numeros)):\n",
    "    suma_acum=sum(lista_numeros[:elemento+1])\n",
    "    print(suma_acum)\n",
    "    "
   ]
  },
  {
   "cell_type": "code",
   "execution_count": 48,
   "metadata": {},
   "outputs": [
    {
     "name": "stdout",
     "output_type": "stream",
     "text": [
      "[10, 30, 60, 100]\n"
     ]
    }
   ],
   "source": [
    "lista_acum2=[sum(lista_numeros[:elemento+1]) for elemento in range(len(lista_numeros))]\n",
    "print(lista_acum2)"
   ]
  },
  {
   "cell_type": "markdown",
   "metadata": {},
   "source": [
    "### **Problema: Distribución de Porcentajes**\n",
    "\n",
    "Dada una lista de conteos de observaciones por categoría, escribe un programa que calcule el porcentaje correspondiente para cada categoría.\n",
    "\n",
    "**Entrada:**  \n",
    "`counts = [30, 50, 20]`\n",
    "\n",
    "**Requerimiento:**  \n",
    "Utiliza **List Comprehension** para generar una lista de porcentajes basados en el total de conteos.\n",
    "\n",
    "**Salida:**  \n",
    "`[30.0, 50.0, 20.0]`\n",
    "\n",
    "---"
   ]
  },
  {
   "cell_type": "code",
   "execution_count": 50,
   "metadata": {},
   "outputs": [
    {
     "name": "stdout",
     "output_type": "stream",
     "text": [
      "[30.0, 50.0, 20.0]\n"
     ]
    }
   ],
   "source": [
    "counts=[30,50,20]\n",
    "result=[float(elemento) for elemento in counts]\n",
    "print(result)"
   ]
  },
  {
   "cell_type": "markdown",
   "metadata": {},
   "source": [
    "### **Problema: Normalizar Valores para Preprocesamiento**\n",
    "\n",
    "Dada una lista de características, escribe un programa que normalice estos valores al rango [0, 1], utilizando la siguiente fórmula de normalización:\n",
    "\n",
    "$$\n",
    "x_{\\text{norm}} = \\frac{x - \\min(X)}{\\max(X) - \\min(X)}\n",
    "$$\n",
    "\n",
    "**Entrada:**  \n",
    "`features = [0.5, 1.5, 2.5, 3.5, 4.5]`\n",
    "\n",
    "**Requerimiento:**  \n",
    "Usa **List Comprehension** para normalizar los valores de la lista.\n",
    "\n",
    "**Salida:**  \n",
    "`[0.0, 0.25, 0.5, 0.75, 1.0]`\n",
    "\n",
    "---"
   ]
  },
  {
   "cell_type": "code",
   "execution_count": 59,
   "metadata": {},
   "outputs": [
    {
     "data": {
      "text/plain": [
       "[0.0, 0.25, 0.5, 0.75, 1.0]"
      ]
     },
     "execution_count": 59,
     "metadata": {},
     "output_type": "execute_result"
    }
   ],
   "source": [
    "features=[0.5,1.5,2.5,3.5,4.5]\n",
    "\n",
    "normalized_features = [(x - min(features)) / (max(features) - min(features)) for x in features]\n",
    "normalized_features\n"
   ]
  },
  {
   "cell_type": "markdown",
   "metadata": {},
   "source": [
    "## **List Comprehension con Condicionales (if)**\n",
    "\n",
    "En esta sección, vamos a explorar cómo usar condicionales dentro de las expresiones de **List Comprehension**. Al agregar un condicional `if` a una **List Comprehension**, podemos filtrar elementos según una condición específica antes de que se agreguen a la lista resultante.\n",
    "\n",
    "#### Sintaxis Básica:\n",
    "``` python\n",
    "[expresión for item in iterable if condición]\n",
    "```"
   ]
  },
  {
   "cell_type": "markdown",
   "metadata": {},
   "source": [
    "En esta sintaxis:\n",
    "- **expresión**: Es la operación o transformación que se aplica a cada elemento que cumple con la condición.\n",
    "- **item**: Es el elemento actual del iterable (por ejemplo, una lista o un rango).\n",
    "- **condición**: Es el filtro que se aplica para incluir el elemento en la lista resultante.\n",
    "\n",
    "### Ejemplo 1: Filtrar Elementos Pares\n",
    "\n",
    "Supongamos que tienes una lista de números y deseas obtener una lista que contenga solo los números pares.\n",
    "\n",
    "En este ejemplo, usamos un condicional `if` para filtrar solo los números que son divisibles por 2, es decir, los números pares.\n"
   ]
  },
  {
   "cell_type": "code",
   "execution_count": 1,
   "metadata": {},
   "outputs": [
    {
     "name": "stdout",
     "output_type": "stream",
     "text": [
      "[2, 4, 6, 8, 10]\n"
     ]
    }
   ],
   "source": [
    "numeros = [1, 2, 3, 4, 5, 6, 7, 8, 9, 10] \n",
    "pares = [num for num in numeros if num % 2 == 0] \n",
    "print(pares)"
   ]
  },
  {
   "cell_type": "markdown",
   "metadata": {},
   "source": [
    "### **Problemas con List Comprehension y Condicionales**\n",
    "\n",
    "#### **Problema: Filtrar Elementos impares**\n",
    "\n",
    "Dada una lista de números enteros, escribe un programa que devuelva una nueva lista que contenga solo los números impares utilizando **List Comprehension** con un condicional.\n",
    "\n",
    "**Entrada:**  \n",
    "`[1, 2, 3, 4, 5, 6, 7, 8, 9, 10]`\n",
    "\n",
    "**Requerimiento:**  \n",
    "Usa un condicional `if` dentro de la **List Comprehension** para filtrar los números impares.\n",
    "\n",
    "**Salida:**  \n",
    "`[1, 3, 5, 7, 9]`\n",
    "\n",
    "---\n"
   ]
  },
  {
   "cell_type": "code",
   "execution_count": 61,
   "metadata": {},
   "outputs": [
    {
     "name": "stdout",
     "output_type": "stream",
     "text": [
      "[1, 3, 5, 7, 9]\n"
     ]
    }
   ],
   "source": [
    "entrada=[1,2,3,4,5,6,7,8,9,10]\n",
    "salida=[num for num in entrada if num%2!=0]\n",
    "print(salida)"
   ]
  },
  {
   "cell_type": "code",
   "execution_count": 63,
   "metadata": {},
   "outputs": [
    {
     "name": "stdout",
     "output_type": "stream",
     "text": [
      "[1, 3, 5, 7, 9]\n"
     ]
    }
   ],
   "source": [
    "salida2=[]\n",
    "for elemento in entrada:\n",
    "    if elemento%2!=0:\n",
    "        salida2.append(elemento)\n",
    "print(salida2)"
   ]
  },
  {
   "cell_type": "markdown",
   "metadata": {},
   "source": [
    "\n",
    "#### **Problema: Obtener Múltiplos de 3**\n",
    "\n",
    "Dada una lista de números, escribe un programa que devuelva una nueva lista con los números que son múltiplos de 3.\n",
    "\n",
    "**Entrada:**  \n",
    "`[1, 2, 3, 4, 5, 6, 7, 8, 9, 10]`\n",
    "\n",
    "**Requerimiento:**  \n",
    "Usa un condicional `if` dentro de la **List Comprehension** para obtener solo los múltiplos de 3.\n",
    "\n",
    "**Salida:**  \n",
    "`[3, 6, 9]`\n",
    "\n",
    "---\n"
   ]
  },
  {
   "cell_type": "code",
   "execution_count": 66,
   "metadata": {},
   "outputs": [
    {
     "name": "stdout",
     "output_type": "stream",
     "text": [
      "[3, 6, 9]\n"
     ]
    }
   ],
   "source": [
    "entrada=[1,2,3,4,5,6,7,8,9,10]\n",
    "salida=[num for num in entrada if num%3==0]\n",
    "print(salida)"
   ]
  },
  {
   "cell_type": "markdown",
   "metadata": {},
   "source": [
    "\n",
    "#### **Problema: Filtrar Nombres Largos**\n",
    "\n",
    "Dada una lista de nombres, escribe un programa que devuelva una nueva lista con los nombres que tengan más de 4 caracteres.\n",
    "\n",
    "**Entrada:**  \n",
    "`[\"Ana\", \"Carlos\", \"María\", \"José\", \"Juan\"]`\n",
    "\n",
    "**Requerimiento:**  \n",
    "Usa un condicional `if` dentro de la **List Comprehension** para filtrar los nombres que tengan más de 4 caracteres.\n",
    "\n",
    "**Salida:**  \n",
    "`['Carlos', 'María']`\n",
    "\n",
    "---\n"
   ]
  },
  {
   "cell_type": "code",
   "execution_count": 67,
   "metadata": {},
   "outputs": [
    {
     "name": "stdout",
     "output_type": "stream",
     "text": [
      "['Carlos', 'María']\n"
     ]
    }
   ],
   "source": [
    "entrada=[\"Ana\",\"Carlos\",\"María\",\"José\",\"Juan\"]\n",
    "salida=[nombre for nombre in entrada if len(nombre)>4]\n",
    "print(salida)"
   ]
  },
  {
   "cell_type": "markdown",
   "metadata": {},
   "source": [
    "#### **Problema: Obtener Cuadrados de Números Mayores que 5**\n",
    "\n",
    "Dada una lista de números, escribe un programa que devuelva una nueva lista con los cuadrados de los números que sean mayores que 5.\n",
    "\n",
    "**Entrada:**  \n",
    "`[1, 2, 3, 4, 5, 6, 7, 8]`\n",
    "\n",
    "**Requerimiento:**  \n",
    "Usa **List Comprehension** con un condicional `if` para obtener los cuadrados de los números mayores que 5.\n",
    "\n",
    "**Salida:**  \n",
    "`[36, 49, 64]`\n",
    "\n",
    "---\n"
   ]
  },
  {
   "cell_type": "code",
   "execution_count": 70,
   "metadata": {},
   "outputs": [
    {
     "name": "stdout",
     "output_type": "stream",
     "text": [
      "[36, 49, 64]\n"
     ]
    }
   ],
   "source": [
    "entrada=[1,2,3,4,5,6,7,8]\n",
    "salida=[num **2 for num in entrada if num>5]\n",
    "print(salida)"
   ]
  },
  {
   "cell_type": "markdown",
   "metadata": {},
   "source": [
    "#### **Problema: Obtener los Nombres que Comienzan con 'M'**\n",
    "\n",
    "Dada una lista de nombres, escribe un programa que devuelva una nueva lista con los nombres que comienzan con la letra 'M'.\n",
    "\n",
    "**Entrada:**  \n",
    "`[\"María\", \"Pedro\", \"Miguel\", \"Juan\", \"Marta\"]`\n",
    "\n",
    "**Requerimiento:**  \n",
    "Usa **List Comprehension** con un condicional `if` para obtener los nombres que comienzan con la letra 'M'.\n",
    "\n",
    "**Salida:**  \n",
    "`['María', 'Miguel', 'Marta']`\n",
    "\n",
    "---\n"
   ]
  },
  {
   "cell_type": "code",
   "execution_count": 71,
   "metadata": {},
   "outputs": [
    {
     "name": "stdout",
     "output_type": "stream",
     "text": [
      "['María', 'Miguel', 'Marta']\n"
     ]
    }
   ],
   "source": [
    "entrada=[\"María\",\"Pedro\",\"Miguel\",\"Juan\",\"Marta\"]\n",
    "salida =[nombre for nombre in entrada if nombre.startswith(\"M\")]\n",
    "print(salida)"
   ]
  },
  {
   "cell_type": "markdown",
   "metadata": {},
   "source": [
    "## **List Comprehension con Condicionales (if-else)**\n",
    "\n",
    "En esta sección, exploraremos cómo usar **List Comprehension** con condicionales `if` y `else` para realizar transformaciones más complejas en los elementos de una lista. Esto permite realizar una operación diferente según si el elemento cumple o no con una condición.\n",
    "\n",
    "#### Sintaxis Básica:\n",
    "``` python\n",
    "[expresión_if_true if condición else expresión_if_false for item in iterable]\n",
    "```\n",
    "\n",
    "En esta sintaxis:\n",
    "- **expresión_if_true**: Es la operación o transformación que se aplica si la condición se cumple.\n",
    "- **condición**: Es la prueba condicional que se evalúa para cada elemento.\n",
    "- **expresión_if_false**: Es la operación que se aplica si la condición no se cumple.\n",
    "\n",
    "--- \n"
   ]
  },
  {
   "cell_type": "markdown",
   "metadata": {},
   "source": [
    "\n",
    "### Ejemplo: Determinar si un Número es Par o Impar\n",
    "\n",
    "Supongamos que tienes una lista de números y deseas crear una lista en la que cada número sea reemplazado por la palabra `\"Par\"` si es un número par, y por la palabra `\"Impar\"` si es impar.\n",
    "\n"
   ]
  },
  {
   "cell_type": "code",
   "execution_count": 2,
   "metadata": {},
   "outputs": [
    {
     "name": "stdout",
     "output_type": "stream",
     "text": [
      "['Impar', 'Par', 'Impar', 'Par', 'Impar', 'Par', 'Impar', 'Par', 'Impar', 'Par']\n"
     ]
    }
   ],
   "source": [
    "\n",
    "numeros = [1, 2, 3, 4, 5, 6, 7, 8, 9, 10] \n",
    "resultado = [\"Par\" if num % 2 == 0 else \"Impar\" for num in numeros] \n",
    "print(resultado)\n",
    "\n"
   ]
  },
  {
   "cell_type": "markdown",
   "metadata": {},
   "source": [
    "\n",
    "\n",
    "### Ejemplo: Reemplazar Valores Según Condición\n",
    "\n",
    "Supongamos que tienes una lista de números y deseas crear una nueva lista donde los números mayores a 5 se mantengan iguales, pero los menores o iguales a 5 se reemplacen por el valor `\"Menor que o igual a 5\"`.\n"
   ]
  },
  {
   "cell_type": "code",
   "execution_count": 3,
   "metadata": {},
   "outputs": [
    {
     "name": "stdout",
     "output_type": "stream",
     "text": [
      "['Menor que o igual a 5', 'Menor que o igual a 5', 'Menor que o igual a 5', 'Menor que o igual a 5', 'Menor que o igual a 5', 6, 7, 8, 9]\n"
     ]
    }
   ],
   "source": [
    "\n",
    "numeros = [1, 2, 3, 4, 5, 6, 7, 8, 9] \n",
    "resultado = [num if num > 5 else \"Menor que o igual a 5\" for num in numeros] \n",
    "print(resultado)\n",
    "\n"
   ]
  },
  {
   "cell_type": "markdown",
   "metadata": {},
   "source": [
    "\n",
    "\n",
    "---\n",
    "\n",
    "### Ejemplo: Ajustar el Precio de Productos\n",
    "\n",
    "Imagina que tienes una lista de precios de productos, y deseas aplicar un descuento del 10% solo a aquellos productos cuyo precio sea mayor a 100. Para los productos cuyo precio sea menor o igual a 100, se mantendrá el precio original.\n"
   ]
  },
  {
   "cell_type": "code",
   "execution_count": 1,
   "metadata": {},
   "outputs": [
    {
     "name": "stdout",
     "output_type": "stream",
     "text": [
      "[50, 108.0, 180.0, 75, 30, 135.0]\n"
     ]
    }
   ],
   "source": [
    "precios = [50, 120, 200, 75, 30, 150] \n",
    "precios_ajustados = [precio * (1-0.1) if precio > 100 else precio for precio in precios] \n",
    "print(precios_ajustados)\n",
    "\n"
   ]
  },
  {
   "cell_type": "markdown",
   "metadata": {},
   "source": [
    "\n",
    "---\n",
    "\n",
    "### Ejemplo: Etiquetar Elementos según Rango de Edad\n",
    "\n",
    "Dada una lista de edades, escribe un programa que devuelva una nueva lista con la etiqueta `\"Adulto\"` para las edades mayores o iguales a 18, y `\"Menor de edad\"` para las edades menores a 18.\n",
    "\n"
   ]
  },
  {
   "cell_type": "code",
   "execution_count": 5,
   "metadata": {},
   "outputs": [
    {
     "name": "stdout",
     "output_type": "stream",
     "text": [
      "['Menor de edad', 'Menor de edad', 'Adulto', 'Adulto', 'Menor de edad', 'Menor de edad', 'Adulto']\n"
     ]
    }
   ],
   "source": [
    "edades = [12, 17, 18, 21, 14, 16, 25] \n",
    "etiquetas = [\"Adulto\" if edad >= 18 else \"Menor de edad\" for edad in edades] \n",
    "print(etiquetas)\n"
   ]
  },
  {
   "cell_type": "markdown",
   "metadata": {},
   "source": [
    "\n",
    "---\n",
    "\n",
    "### Ejemplo: Calificar Notas de Estudiantes\n",
    "\n",
    "Imagina que tienes una lista de notas de estudiantes, y deseas calificarlas como `\"Aprobado\"` o `\"Reprobado\"` dependiendo de si la nota es mayor o igual a 60.\n"
   ]
  },
  {
   "cell_type": "code",
   "execution_count": 6,
   "metadata": {},
   "outputs": [
    {
     "name": "stdout",
     "output_type": "stream",
     "text": [
      "['Aprobado', 'Reprobado', 'Aprobado', 'Reprobado', 'Aprobado', 'Reprobado']\n"
     ]
    }
   ],
   "source": [
    "notas = [85, 45, 78, 55, 92, 33] \n",
    "calificaciones = [\"Aprobado\" if nota >= 60 else \"Reprobado\" for nota in notas] \n",
    "print(calificaciones)\n"
   ]
  },
  {
   "cell_type": "markdown",
   "metadata": {},
   "source": [
    "---\n",
    "\n",
    "### Ejemplo: Categorizar Edad para Diferentes Grupos\n",
    "\n",
    "Dada una lista de edades, escribe un programa que clasifique a las personas en las categorías `\"Infantil\"`, `\"Joven\"`, y `\"Adulto\"`. Los rangos son: menores de 13 años son `\"Infantil\"`, entre 13 y 25 son `\"Joven\"`, y mayores de 25 son `\"Adulto\"`.\n",
    "\n"
   ]
  },
  {
   "cell_type": "code",
   "execution_count": 7,
   "metadata": {},
   "outputs": [
    {
     "name": "stdout",
     "output_type": "stream",
     "text": [
      "['Infantil', 'Joven', 'Adulto', 'Infantil', 'Joven', 'Adulto']\n"
     ]
    }
   ],
   "source": [
    "edades = [12, 16, 30, 9, 24, 26] \n",
    "categorias = [\"Infantil\" if edad < 13 else \"Joven\" if edad <= 25 else \"Adulto\" for edad in edades] \n",
    "print(categorias)\n"
   ]
  },
  {
   "cell_type": "markdown",
   "metadata": {},
   "source": [
    "## **Comprehension con Diccionarios**\n",
    "\n",
    "Además de las listas, **List Comprehension** puede ser utilizada para crear **diccionarios** de manera más eficiente y concisa. La estructura básica para la creación de diccionarios mediante list comprehension sigue una sintaxis muy similar a la de listas, pero incluye una clave y un valor asociados.\n",
    "\n",
    "#### Sintaxis Básica:\n",
    "```python \n",
    "{clave: valor for item in iterable}\n",
    "```\n",
    "\n",
    "Donde:\n",
    "- **clave** es el valor que se usará como clave en el diccionario.\n",
    "- **valor** es el valor asociado a esa clave.\n",
    "\n"
   ]
  },
  {
   "cell_type": "markdown",
   "metadata": {},
   "source": [
    "### Ejemplo: Crear un Diccionario de Nombres y Longitudes\n",
    "\n",
    "Supón que tienes una lista de nombres y deseas crear un diccionario donde cada nombre sea una clave y su longitud (número de caracteres) sea el valor correspondiente.\n"
   ]
  },
  {
   "cell_type": "code",
   "execution_count": 73,
   "metadata": {},
   "outputs": [
    {
     "name": "stdout",
     "output_type": "stream",
     "text": [
      "{'Ana': 3, 'Carlos': 6, 'María': 5, 'José': 4, 'Juan': 4}\n"
     ]
    }
   ],
   "source": [
    "nombres=[\"Ana\",\"Carlos\",\"María\",\"José\",\"Juan\"]\n",
    "my_dict={nombre:len(nombre) for nombre in nombres}\n",
    "print(my_dict)"
   ]
  },
  {
   "cell_type": "markdown",
   "metadata": {},
   "source": [
    "### Ejemplo: Crear un Diccionario con Pares Clave-Valor Condicional\n",
    "\n",
    "Supongamos que tienes una lista de números y deseas crear un diccionario solo con los números pares, donde la clave sea el número y el valor sea `\"Par\"`.\n"
   ]
  },
  {
   "cell_type": "code",
   "execution_count": 92,
   "metadata": {},
   "outputs": [
    {
     "name": "stdout",
     "output_type": "stream",
     "text": [
      "{1: 'Impar', 2: 'Par', 3: 'Impar', 4: 'Par', 5: 'Impar', 6: 'Par', 7: 'Impar', 8: 'Par', 9: 'Impar', 10: 'Par'}\n"
     ]
    }
   ],
   "source": [
    "lista_de_numeros=list(range(1,11))\n",
    "diccionario = {num: \"Par\" if num % 2 == 0 else \"Impar\" for num in lista_de_numeros}\n",
    "print(diccionario)"
   ]
  },
  {
   "cell_type": "markdown",
   "metadata": {},
   "source": [
    "---\n",
    "\n",
    "### Ejemplo: Crear un Diccionario de Valores y su Frecuencia\n",
    "\n",
    "Supón que tienes una lista de palabras y deseas contar cuántas veces aparece cada palabra en la lista, almacenando las palabras como claves y las frecuencias como valores.\n"
   ]
  },
  {
   "cell_type": "code",
   "execution_count": 89,
   "metadata": {},
   "outputs": [
    {
     "data": {
      "text/plain": [
       "{'pera': 1, 'manzana': 3, 'banana': 2}"
      ]
     },
     "execution_count": 89,
     "metadata": {},
     "output_type": "execute_result"
    }
   ],
   "source": [
    "lista_de_palabaras = [\"manzana\", \"banana\", \"manzana\", \"pera\", \"banana\", \"manzana\"]\n",
    "frecuencias = {palabra: lista_de_palabaras.count(palabra) for palabra in set(lista_de_palabaras)}\n",
    "frecuencias"
   ]
  },
  {
   "cell_type": "markdown",
   "metadata": {},
   "source": [
    "### **Problema: Modificación de un Diccionario con Modelos**\n",
    "\n",
    "Dado un diccionario que contiene nombres de modelos y sus respectivos valores en formato decimal, escribe un programa que realice dos tareas:\n",
    "\n",
    "1. Cambie los valores en el diccionario a su equivalente en porcentaje (multiplicando por 100).\n",
    "2. Modifique las claves del diccionario para que sigan el formato `\"modelo_i\"`, donde `i` es el número que sigue a cada modelo original (por ejemplo, `\"m1\"` se convertirá en `\"modelo_1\"`).\n",
    "\n",
    "**Entrada:**  \n",
    "``` python\n",
    "dict1 = {\"m1\":0.7, \"m2\":0.4, \"m3\":0.8, \"m4\":0.85, \"m5\":0.5}\n",
    "```\n",
    "\n",
    "**Requerimiento:**  \n",
    "El programa debe crear un nuevo diccionario `dict2` en el que las claves sean `\"modelo_1\"`, `\"modelo_2\"`, etc., y los valores sean los correspondientes porcentajes.\n",
    "\n",
    "**Salida Esperada:**  \n",
    "El diccionario resultante debe tener el siguiente formato:\n",
    "``` python\n",
    "{ \"modelo_1\": 70.0, \"modelo_2\": 40.0, \"modelo_3\": 80.0, \"modelo_4\": 85.0, \"modelo_5\": 50.0 }\n",
    "```"
   ]
  },
  {
   "cell_type": "code",
   "execution_count": 106,
   "metadata": {},
   "outputs": [
    {
     "name": "stdout",
     "output_type": "stream",
     "text": [
      "{'modelo_1': 70.0, 'modelo_2': 40.0, 'modelo_3': 80.0, 'modelo_4': 85.0, 'modelo_5': 50.0}\n"
     ]
    }
   ],
   "source": [
    "dict1 = {\"m1\":0.7, \"m2\":0.4, \"m3\":0.8, \"m4\":0.85, \"m5\":0.5}\n",
    "salida={f\"modelo_{elemento[0][1]}\":elemento[1]*100 for elemento in dict1.items()}\n",
    "print(salida)\n"
   ]
  },
  {
   "cell_type": "markdown",
   "metadata": {},
   "source": [
    "## **Funciones en Python**\n",
    "\n",
    "Las **funciones** son bloques de código que se agrupan bajo un mismo nombre y se pueden reutilizar en diferentes partes de un programa. Las funciones pueden aceptar entradas (argumentos) y devolver resultados (valores de retorno).\n",
    "\n",
    "### **Definición de una Función**\n",
    "\n",
    "Para definir una función en Python, utilizamos la palabra clave `def`, seguida del nombre de la función, paréntesis con los parámetros (si los tiene) y dos puntos. El código dentro de la función se debe indentar.\n",
    "\n",
    "**Sintaxis básica:**\n",
    "``` python\n",
    "def nombre_funcion(parámetros): \n",
    "    # código de la función \n",
    "    return valor\n",
    "```"
   ]
  },
  {
   "cell_type": "markdown",
   "metadata": {},
   "source": [
    "#### Ejemplo 1: Función Simple\n",
    "\n",
    "Una función simple que imprime un saludo:"
   ]
  },
  {
   "cell_type": "code",
   "execution_count": 4,
   "metadata": {},
   "outputs": [
    {
     "name": "stdout",
     "output_type": "stream",
     "text": [
      "Hola Tonotos :D\n"
     ]
    }
   ],
   "source": [
    "def saludar(nombre:str)->str:\n",
    "    print(f\"Hola {nombre} :D\")\n",
    "    \n",
    "saludar(\"Tonotos\")"
   ]
  },
  {
   "cell_type": "markdown",
   "metadata": {},
   "source": [
    "---\n",
    "\n",
    "#### Ejemplo 2: Función con Parámetros\n",
    "\n",
    "Una función que recibe parámetros y los usa para realizar una operación. Por ejemplo convertir una lista de resultados de precisiones relativas a porcentaje\n"
   ]
  },
  {
   "cell_type": "code",
   "execution_count": 114,
   "metadata": {},
   "outputs": [
    {
     "data": {
      "text/plain": [
       "[20.0, 30.0, 40.0, 50.0]"
      ]
     },
     "execution_count": 114,
     "metadata": {},
     "output_type": "execute_result"
    }
   ],
   "source": [
    "def convertir_porcentaje(valor:list)->list:\n",
    "    return [elemento*100 for elemento in valor]\n",
    "\n",
    "lista=[0.2,0.3,0.4,0.5]\n",
    "convertir_porcentaje(lista)"
   ]
  },
  {
   "cell_type": "markdown",
   "metadata": {},
   "source": [
    "### **Funciones con Valores Predeterminados**\n",
    "\n",
    "En Python, puedes asignar valores predeterminados a los parámetros de una función. Si el usuario no proporciona un valor, se utilizará el valor predeterminado.\n",
    "\n",
    "#### Ejemplo 3: Función con Valor Predeterminado\n"
   ]
  },
  {
   "cell_type": "code",
   "execution_count": 115,
   "metadata": {},
   "outputs": [
    {
     "name": "stdout",
     "output_type": "stream",
     "text": [
      "¡Hola, Invitado!\n",
      "¡Hola, Juan!\n"
     ]
    }
   ],
   "source": [
    "def saludar(nombre=\"Invitado\"):\n",
    "    print(f\"¡Hola, {nombre}!\")\n",
    "\n",
    "saludar()\n",
    "saludar(\"Juan\")"
   ]
  },
  {
   "cell_type": "markdown",
   "metadata": {},
   "source": [
    "---\n",
    "\n",
    "### **Funciones con Múltiples Retornos**\n",
    "\n",
    "Las funciones pueden devolver más de un valor. Para esto, se utiliza una tupla, lista o cualquier otra estructura que contenga múltiples elementos.\n",
    "\n",
    "#### Ejemplo 4: Función con Múltiples Retornos"
   ]
  },
  {
   "cell_type": "code",
   "execution_count": 120,
   "metadata": {},
   "outputs": [
    {
     "data": {
      "text/plain": [
       "(15, 5)"
      ]
     },
     "execution_count": 120,
     "metadata": {},
     "output_type": "execute_result"
    }
   ],
   "source": [
    "def suma_resta(a=10,b=8):\n",
    "    suma=a+b\n",
    "    resta=a-b\n",
    "    return suma,resta\n",
    "suma_resta(10,5)"
   ]
  },
  {
   "cell_type": "markdown",
   "metadata": {},
   "source": [
    "### **Problema 2: Función para Normalizar un Conjunto de Datos**\n",
    "\n",
    "En Machine Learning, la normalización de datos es crucial para asegurar que todas las características tengan la misma escala. Crea una función que normalice un conjunto de datos para que los valores estén entre 0 y 1. Usa la fórmula de normalización:  \n",
    "$$\n",
    "\\text{Valor Normalizado} = \\frac{\\text{Valor Actual} - \\text{Mínimo}}{\\text{Máximo} - \\text{Mínimo}}\n",
    "$$\n",
    "\n",
    "**Entrada:**  \n",
    "`[15, 35, 50, 100, 75]`\n",
    "\n",
    "**Requerimiento:**  \n",
    "La función debe devolver una lista de los datos normalizados.\n"
   ]
  },
  {
   "cell_type": "code",
   "execution_count": 125,
   "metadata": {},
   "outputs": [
    {
     "data": {
      "text/plain": [
       "[0.0, 0.23529411764705882, 0.4117647058823529, 1.0, 0.7058823529411765]"
      ]
     },
     "execution_count": 125,
     "metadata": {},
     "output_type": "execute_result"
    }
   ],
   "source": [
    "def normalizador(conjunto:list)->list:\n",
    "    return [(x - min(conjunto)) / (max(conjunto) - min(conjunto)) for x in conjunto]\n",
    "\n",
    "normalizador([15,35,50,100,75])"
   ]
  },
  {
   "cell_type": "markdown",
   "metadata": {},
   "source": [
    "\n",
    "### **Problema : Función para Calcular la Precisión de un Modelo de Clasificación**\n",
    "\n",
    "En la optimización de modelos,  la precisión es una métrica importante. Escribe una función que reciba dos listas: las etiquetas predichas por un modelo y las etiquetas reales. La función debe devolver la precisión del modelo, que se calcula como:\n",
    "$$\n",
    "\\text{Precisión} = \\frac{\\text{Número de predicciones correctas}}{\\text{Número total de predicciones}}\n",
    "$$\n",
    "\n",
    "**Entrada:**  \n",
    "```\n",
    "Etiquetas reales:     [1, 0, 1, 1, 0, 1]  \n",
    "Etiquetas predichas:  [1, 0, 1, 0, 0, 1]\n",
    "```\n",
    "**Requerimiento:**  \n",
    "La función debe calcular la precisión comparando las etiquetas predichas con las reales.\n",
    "\n"
   ]
  },
  {
   "cell_type": "code",
   "execution_count": 127,
   "metadata": {},
   "outputs": [
    {
     "data": {
      "text/plain": [
       "0.8333333333333334"
      ]
     },
     "execution_count": 127,
     "metadata": {},
     "output_type": "execute_result"
    }
   ],
   "source": [
    "def calcular_precision(etiquetas_reales:list,etiquetas_predichas:list)->float:\n",
    "    correctas=0\n",
    "    for real,predicha in zip(etiquetas_reales,etiquetas_predichas):\n",
    "        if real==predicha:\n",
    "            correctas+=1\n",
    "    return correctas/len(etiquetas_reales)\n",
    "\n",
    "etiquetas_reales=     [1, 0, 1, 1, 0, 1] \n",
    "etiquetas_predichas=[1, 0, 1, 0, 0, 1]\n",
    "calcular_precision(etiquetas_reales,etiquetas_predichas)"
   ]
  },
  {
   "cell_type": "markdown",
   "metadata": {},
   "source": []
  }
 ],
 "metadata": {
  "kernelspec": {
   "display_name": "Python 3",
   "language": "python",
   "name": "python3"
  },
  "language_info": {
   "codemirror_mode": {
    "name": "ipython",
    "version": 3
   },
   "file_extension": ".py",
   "mimetype": "text/x-python",
   "name": "python",
   "nbconvert_exporter": "python",
   "pygments_lexer": "ipython3",
   "version": "3.11.4"
  }
 },
 "nbformat": 4,
 "nbformat_minor": 2
}
