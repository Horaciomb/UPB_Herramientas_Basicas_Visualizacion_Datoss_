{
  "cells": [
    {
      "cell_type": "markdown",
      "id": "ea41a001",
      "metadata": {
        "id": "ea41a001"
      },
      "source": [
        "# <img style=\"float: left; padding-right: 20px; height: 70px\" src=\"https://i.imgur.com/cMzxwTN.jpg\"> Herramientas Básicas de Visualización de Datos   \n",
        "\n",
        "\n",
        "# **Python: Control de Flujo y Listas**\n",
        "\n",
        "**Universidad Privada Boliviana**<br/>\n",
        "**Diplomado en Machine Learning y Ciencia de Datos**<br/>"
      ]
    },
    {
      "cell_type": "code",
      "source": [
        "var1 = 10\n",
        "print(\"esta es una linea de codigo sin control\")\n",
        "var2 = True\n",
        "print(\"los valores de las variables son: \",var1, var2)"
      ],
      "metadata": {
        "colab": {
          "base_uri": "https://localhost:8080/"
        },
        "id": "1FSgwaXSq1eP",
        "outputId": "52776cf6-69e3-4714-96d1-0a9b3ed26c92"
      },
      "id": "1FSgwaXSq1eP",
      "execution_count": 1,
      "outputs": [
        {
          "output_type": "stream",
          "name": "stdout",
          "text": [
            "esta es una linea de codigo sin control\n",
            "los valores de las variables son:  10 True\n"
          ]
        }
      ]
    },
    {
      "cell_type": "markdown",
      "id": "754bff16",
      "metadata": {
        "id": "754bff16"
      },
      "source": [
        "## **Condicionales en Python**"
      ]
    },
    {
      "cell_type": "markdown",
      "id": "27107a32",
      "metadata": {
        "id": "27107a32"
      },
      "source": [
        "\n",
        "Los condicionales son estructuras que permiten que un programa tome decisiones basadas en condiciones específicas. En Python, se utilizan las palabras clave `if`, `elif` y `else`.\n",
        "\n",
        "- `if`: Para ejecutar un bloque si la condición es verdadera.\n",
        "- `elif`: Para agregar condiciones adicionales.\n",
        "- `else`: Para manejar el caso en que ninguna condición sea verdadera.\n",
        "\n",
        "\n",
        "\n",
        "### Sintaxis básica\n",
        "```python\n",
        "if condición:\n",
        "    # Bloque de código si la condición es verdadera\n",
        "elif otra_condición:\n",
        "    # Bloque de código si la otra condición es verdadera\n",
        "else:\n",
        "    # Bloque de código si ninguna condición es verdadera\n"
      ]
    },
    {
      "cell_type": "code",
      "execution_count": 6,
      "id": "48e05983",
      "metadata": {
        "colab": {
          "base_uri": "https://localhost:8080/"
        },
        "id": "48e05983",
        "outputId": "f5975811-35a4-4cbd-c259-7924501e63a6"
      },
      "outputs": [
        {
          "output_type": "stream",
          "name": "stdout",
          "text": [
            "El número es mayor que 20\n",
            "otra linea\n",
            "el resto del codigo\n"
          ]
        }
      ],
      "source": [
        "\n",
        "# Ejemplo de if-elif-else\n",
        "x = 30\n",
        "\n",
        "if x > 20: # Condicion: x>20? => True\n",
        "    print(\"El número es mayor que 20\")\n",
        "    print(\"otra linea\")\n",
        "elif x == 20:\n",
        "    print(\"El número es igual a 20\")\n",
        "else:\n",
        "    print(\"El número es menor que 20\")\n",
        "\n",
        "print(\"el resto del codigo\")"
      ]
    },
    {
      "cell_type": "code",
      "execution_count": 9,
      "id": "1c0c34f0",
      "metadata": {
        "colab": {
          "base_uri": "https://localhost:8080/"
        },
        "id": "1c0c34f0",
        "outputId": "029b8371-14d8-469d-ce92-e2d8f1ddd660"
      },
      "outputs": [
        {
          "output_type": "stream",
          "name": "stdout",
          "text": [
            "Es una persona mayor.\n"
          ]
        }
      ],
      "source": [
        "\n",
        "# Ejemplo de if anidado\n",
        "edad = 66\n",
        "\n",
        "if edad > 18:\n",
        "   if edad > 65:\n",
        "        print(\"Es una persona mayor.\")\n",
        "   else:\n",
        "        print(\"Es un adulto.\")\n",
        "else:\n",
        "    print(\"Es menor de edad.\")\n"
      ]
    },
    {
      "cell_type": "markdown",
      "id": "b6fb7441",
      "metadata": {
        "id": "b6fb7441"
      },
      "source": [
        "### **Problema: Identificación de Números**\n",
        "\n",
        "**Descripción:** Escribe un programa que pida al usuario un número entero y haga lo siguiente:\n",
        "\n",
        "-   Si el número es positivo, imprimir \"Número positivo\".\n",
        "-   Si el número es negativo, imprimir \"Número negativo\".\n",
        "-   Si el número es igual a cero, imprimir \"Es el número cero\".\n",
        "\n",
        "**Sugerencia:** Recuerda usar las comparaciones `<`, `>`, y `==`."
      ]
    },
    {
      "cell_type": "code",
      "execution_count": 17,
      "id": "10dd39bb",
      "metadata": {
        "colab": {
          "base_uri": "https://localhost:8080/"
        },
        "id": "10dd39bb",
        "outputId": "28d43b7d-9ae9-4a9f-89bd-709af30582b7"
      },
      "outputs": [
        {
          "output_type": "stream",
          "name": "stdout",
          "text": [
            "Ingrese un numero: 0\n",
            "<class 'str'>\n",
            "<class 'int'>\n",
            "El numero es cero\n"
          ]
        }
      ],
      "source": [
        "dato = input(\"Ingrese un numero: \")\n",
        "print(type(dato))\n",
        "dato = int(dato)\n",
        "print(type(dato))\n",
        "if dato > 0:\n",
        "    print(\"El numero es positivo\")\n",
        "elif dato < 0:\n",
        "    print(\"El numero es negativo\")\n",
        "else:\n",
        "    print(\"El numero es cero\")"
      ]
    },
    {
      "cell_type": "markdown",
      "id": "f5ecdcd8",
      "metadata": {
        "id": "f5ecdcd8"
      },
      "source": [
        "### **Problema: Calculadora de Descuentos**\n",
        "\n",
        "**Descripción:** Diseña un programa que calcule el precio final de un producto después de aplicar un descuento según el monto:\n",
        "\n",
        "-   Si el monto es menor a 50, no se aplica descuento.\n",
        "-   Si el monto está entre 50 y 100, aplica un descuento del 10%.\n",
        "-   Si el monto es mayor a 100, aplica un descuento del 20%.\n",
        "\n",
        "El programa debe solicitar el precio del producto y mostrar el precio final después del descuento."
      ]
    },
    {
      "cell_type": "code",
      "execution_count": 20,
      "id": "941ffa9e",
      "metadata": {
        "colab": {
          "base_uri": "https://localhost:8080/"
        },
        "id": "941ffa9e",
        "outputId": "46772edd-90f8-4b51-b819-0803aa449ad4"
      },
      "outputs": [
        {
          "output_type": "stream",
          "name": "stdout",
          "text": [
            "Ingresar el precio del producto200\n",
            "Se aplica un descuento del 20%\n",
            "El precio final es:  160.0\n"
          ]
        }
      ],
      "source": [
        "dato = input(\"Ingresar el precio del producto\")\n",
        "dato = float(dato)\n",
        "if dato < 50:\n",
        "    print(\"No se aplica descuento\")\n",
        "    print(\"El precio final es: \", dato)\n",
        "elif dato >= 50 and dato <= 100:\n",
        "    print(\"Se aplica un descuento del 10%\")\n",
        "    print(\"El precio final es: \", dato * 0.9)\n",
        "else:\n",
        "    print(\"Se aplica un descuento del 20%\")\n",
        "    print(\"El precio final es: \", dato * 0.8)\n"
      ]
    },
    {
      "cell_type": "markdown",
      "id": "9238a9e3",
      "metadata": {
        "id": "9238a9e3"
      },
      "source": [
        "## **Problema: Generación de Contraseña Segura**\n",
        "**Descripción:** Escribe un programa que pida al usuario una contraseña y evalúe su seguridad:\n",
        "\n",
        "-   Si la contraseña tiene menos de 6 caracteres, imprimir \"Contraseña muy débil\".\n",
        "-   Si tiene entre 6 y 8 caracteres, imprimir \"Contraseña débil\".\n",
        "-   Si tiene entre 9 y 12 caracteres, imprimir \"Contraseña segura\".\n",
        "-   Si tiene más de 12 caracteres, imprimir \"Contraseña muy segura\".\n",
        "\n",
        "**Sugerencia:** Usa la función `len()` para obtener la longitud de la contraseña."
      ]
    },
    {
      "cell_type": "code",
      "execution_count": 24,
      "id": "5943c448",
      "metadata": {
        "colab": {
          "base_uri": "https://localhost:8080/"
        },
        "id": "5943c448",
        "outputId": "1f70562d-6d54-4791-fda6-29d09f0cc026"
      },
      "outputs": [
        {
          "output_type": "stream",
          "name": "stdout",
          "text": [
            "7\n",
            "Contraseña débil\n"
          ]
        }
      ],
      "source": [
        "password = \"1234567\"\n",
        "print(len(password))\n",
        "if len(password) < 6:\n",
        "    print(\"Contraseña muy débil\")\n",
        "elif len(password) >= 6 and len(password) <= 8:\n",
        "    print(\"Contraseña débil\")\n",
        "elif len(password) >= 9 and len(password) <= 12:\n",
        "    print(\"Contraseña segura\")\n",
        "else:\n",
        "    print(\"Contraseña muy segura\")"
      ]
    },
    {
      "cell_type": "markdown",
      "id": "c1e0377e",
      "metadata": {
        "id": "c1e0377e"
      },
      "source": [
        "## **Listas en Python**"
      ]
    },
    {
      "cell_type": "markdown",
      "id": "6667b4e1",
      "metadata": {
        "id": "6667b4e1"
      },
      "source": [
        "\n",
        "Las listas son estructuras de datos ordenadas que permiten almacenar elementos de diferentes tipos. Algunas características principales:\n",
        "\n",
        "- Son redimensionables.\n",
        "- Los elementos pueden ser modificados.\n",
        "- Contiene elementos de distinto tipo\n",
        "\n",
        "### Creación de una lista\n"
      ]
    },
    {
      "cell_type": "code",
      "execution_count": 25,
      "id": "a32c5e93",
      "metadata": {
        "colab": {
          "base_uri": "https://localhost:8080/"
        },
        "id": "a32c5e93",
        "outputId": "63d597fc-3583-4208-e4bc-6d65ba1f6d31"
      },
      "outputs": [
        {
          "output_type": "stream",
          "name": "stdout",
          "text": [
            "Mi lista: [1, 2, 3, 4, 5]\n"
          ]
        }
      ],
      "source": [
        "\n",
        "# Crear una lista\n",
        "mi_lista = [1, 2, 3, 4, 5]\n",
        "print(\"Mi lista:\", mi_lista)\n"
      ]
    },
    {
      "cell_type": "code",
      "source": [
        "# Son redimensionables\n",
        "mi_lista.append(6)\n",
        "print(\"Mi lista:\", mi_lista)"
      ],
      "metadata": {
        "colab": {
          "base_uri": "https://localhost:8080/"
        },
        "id": "QY9K2URt2sRB",
        "outputId": "a7e6a0bd-2d75-42a1-cab6-cdacdf52a5ab"
      },
      "id": "QY9K2URt2sRB",
      "execution_count": 26,
      "outputs": [
        {
          "output_type": "stream",
          "name": "stdout",
          "text": [
            "Mi lista: [1, 2, 3, 4, 5, 6]\n"
          ]
        }
      ]
    },
    {
      "cell_type": "code",
      "source": [
        "# listas son colecciones ordenadas\n",
        "#          0  1  2  3     4\n",
        "mi_lista = [1,2, 3, \"a\", True]\n",
        "#         -5 -4 -3  -2  -1\n",
        "print(mi_lista[4])\n",
        "print(mi_lista[-2])"
      ],
      "metadata": {
        "colab": {
          "base_uri": "https://localhost:8080/"
        },
        "id": "b_D_Ph_12543",
        "outputId": "fdc40de9-1561-4639-dc88-091b9b06f5ca"
      },
      "id": "b_D_Ph_12543",
      "execution_count": 29,
      "outputs": [
        {
          "output_type": "stream",
          "name": "stdout",
          "text": [
            "True\n",
            "a\n"
          ]
        }
      ]
    },
    {
      "cell_type": "code",
      "source": [
        "frutas = ['mandarina', 'manzana', 'pera', 'plátano', 'kiwi', 'manzana', 'plátano']\n",
        "print(frutas[-1])"
      ],
      "metadata": {
        "colab": {
          "base_uri": "https://localhost:8080/"
        },
        "id": "ig9LO6md4J8c",
        "outputId": "70ccbff4-431c-4ec8-b232-d11138c7d20c"
      },
      "id": "ig9LO6md4J8c",
      "execution_count": 30,
      "outputs": [
        {
          "output_type": "stream",
          "name": "stdout",
          "text": [
            "plátano\n"
          ]
        }
      ]
    },
    {
      "cell_type": "code",
      "source": [
        "print(frutas[0])"
      ],
      "metadata": {
        "colab": {
          "base_uri": "https://localhost:8080/"
        },
        "id": "m-LDCClC4QjP",
        "outputId": "554f8166-5669-4f50-bf44-440f97dafd04"
      },
      "id": "m-LDCClC4QjP",
      "execution_count": 31,
      "outputs": [
        {
          "output_type": "stream",
          "name": "stdout",
          "text": [
            "mandarina\n"
          ]
        }
      ]
    },
    {
      "cell_type": "code",
      "source": [
        "print(frutas[0:4:1])"
      ],
      "metadata": {
        "colab": {
          "base_uri": "https://localhost:8080/"
        },
        "id": "Rz2G-z9D4Vdh",
        "outputId": "edd7e5d6-1a81-4c72-e6bb-7852eb452447"
      },
      "id": "Rz2G-z9D4Vdh",
      "execution_count": 34,
      "outputs": [
        {
          "output_type": "stream",
          "name": "stdout",
          "text": [
            "['mandarina', 'manzana', 'pera', 'plátano']\n"
          ]
        }
      ]
    },
    {
      "cell_type": "code",
      "source": [
        "print(frutas[-1:-5:-1])"
      ],
      "metadata": {
        "colab": {
          "base_uri": "https://localhost:8080/"
        },
        "id": "p6Sc6qKT4-Zb",
        "outputId": "2d49f256-70e0-493d-cd7a-8bb163a82cda"
      },
      "id": "p6Sc6qKT4-Zb",
      "execution_count": 36,
      "outputs": [
        {
          "output_type": "stream",
          "name": "stdout",
          "text": [
            "['plátano', 'manzana', 'kiwi', 'plátano']\n"
          ]
        }
      ]
    },
    {
      "cell_type": "code",
      "source": [
        "# creacion de una lista vacia\n",
        "lista_1 = []\n",
        "print(\"lista_1:\", lista_1)"
      ],
      "metadata": {
        "colab": {
          "base_uri": "https://localhost:8080/"
        },
        "id": "blaGmyvp5lBU",
        "outputId": "fa656878-c46e-48e4-e15d-2e4a2bddfc6b"
      },
      "id": "blaGmyvp5lBU",
      "execution_count": 37,
      "outputs": [
        {
          "output_type": "stream",
          "name": "stdout",
          "text": [
            "lista_1: []\n"
          ]
        }
      ]
    },
    {
      "cell_type": "markdown",
      "id": "f47aad26",
      "metadata": {
        "id": "f47aad26"
      },
      "source": [
        "### **Métodos de listas**"
      ]
    },
    {
      "cell_type": "markdown",
      "id": "cfbb24d4",
      "metadata": {
        "id": "cfbb24d4"
      },
      "source": [
        "### Método `append` en listas\n",
        "\n",
        "El método `append` es una de las funciones más utilizadas en las listas de Python. Su propósito es agregar un elemento al **final** de la lista existente, extendiendo su longitud en una unidad.\n",
        "\n",
        "#### Sintaxis\n",
        "```python\n",
        "lista = [1,2,3]\n",
        "lista.append(elemento)\n",
        "```\n",
        "\n",
        "-   **`lista`**: Es la lista a la que se desea agregar el elemento.\n",
        "-   **`elemento`**: Es el valor que se añadirá al final de la lista. Este puede ser de cualquier tipo de dato (entero, cadena, flotante, otra lista, etc.).\n",
        "\n",
        "#### Características del método\n",
        "\n",
        "1.  **Modifica la lista original**: A diferencia de otros métodos, no devuelve una nueva lista, sino que actualiza la lista existente.\n",
        "2.  **Añade un solo elemento por vez**: Si se desea agregar múltiples elementos, es necesario hacerlo mediante un ciclo o utilizar otros métodos como `extend`.\n",
        "3.  **Admite tipos heterogéneos**: Puedes añadir cualquier tipo de dato, incluso objetos personalizados."
      ]
    },
    {
      "cell_type": "code",
      "execution_count": null,
      "id": "2c7959e1",
      "metadata": {
        "id": "2c7959e1"
      },
      "outputs": [],
      "source": [
        "\n",
        "# Usando append\n",
        "mi_lista = [1, 2, 3]\n",
        "mi_lista.append(4)\n",
        "print(\"Después de append:\", mi_lista)\n"
      ]
    },
    {
      "cell_type": "markdown",
      "id": "b0b33753",
      "metadata": {
        "id": "b0b33753"
      },
      "source": [
        "### Método `count` en listas\n",
        "\n",
        "El método `count` en Python se utiliza para contar cuántas veces aparece un elemento específico en una lista. Es útil cuando necesitas analizar la frecuencia de elementos en una colección.\n",
        "\n",
        "#### Sintaxis\n",
        "```python\n",
        "lista.count(elemento)\n",
        "```\n",
        "\n",
        "-   **`lista`**: Es la lista en la que deseas buscar el elemento.\n",
        "-   **`elemento`**: Es el valor que se desea contar en la lista.\n",
        "\n",
        "#### Características del método\n",
        "\n",
        "1.  Devuelve un número entero que representa el **número de ocurrencias** del elemento en la lista.\n",
        "2.  Es sensible a mayúsculas y minúsculas en el caso de cadenas de texto.\n",
        "3.  Funciona con cualquier tipo de dato almacenado en la lista, incluyendo listas anidadas, pero no busca dentro de listas internas."
      ]
    },
    {
      "cell_type": "code",
      "execution_count": 38,
      "id": "efe6e5d2",
      "metadata": {
        "colab": {
          "base_uri": "https://localhost:8080/"
        },
        "id": "efe6e5d2",
        "outputId": "57d18ef5-9e07-48b4-b2dd-69c53cc1ba66"
      },
      "outputs": [
        {
          "output_type": "stream",
          "name": "stdout",
          "text": [
            "3\n"
          ]
        }
      ],
      "source": [
        "# Contar elementos en una lista de números\n",
        "numeros = [1, 2, 3, 4, 2, 2, 5]\n",
        "print(numeros.count(2))  # Salida: 3\n"
      ]
    },
    {
      "cell_type": "code",
      "execution_count": 39,
      "id": "2d117141",
      "metadata": {
        "colab": {
          "base_uri": "https://localhost:8080/"
        },
        "id": "2d117141",
        "outputId": "222152c1-e412-454b-ffcd-8ea0cfe23bb2"
      },
      "outputs": [
        {
          "output_type": "stream",
          "name": "stdout",
          "text": [
            "2\n"
          ]
        }
      ],
      "source": [
        "\n",
        "# Contar elementos en una lista de cadenas\n",
        "palabras = [\"hola\", \"mundo\", \"hola\", \"python\"]\n",
        "print(palabras.count(\"hola\"))  # Salida: 2"
      ]
    },
    {
      "cell_type": "code",
      "execution_count": 40,
      "id": "cf0fc46e",
      "metadata": {
        "colab": {
          "base_uri": "https://localhost:8080/"
        },
        "id": "cf0fc46e",
        "outputId": "019838d8-e6f7-4b12-b93e-39377f5115e7"
      },
      "outputs": [
        {
          "output_type": "stream",
          "name": "stdout",
          "text": [
            "El número 2 aparece más de una vez en la lista.\n"
          ]
        }
      ],
      "source": [
        "# Verificar si un número (ej. 2) aparece más de una vez en una lista\n",
        "numeros = [1, 2, 3, 4, 2, 5]\n",
        "ocurrencias = numeros.count(2)\n",
        "if ocurrencias > 1:\n",
        "    print(\"El número 2 aparece más de una vez en la lista.\")\n",
        "else:\n",
        "    print(\"El número 2 no aparece más de una vez en la lista.\")\n"
      ]
    },
    {
      "cell_type": "markdown",
      "id": "fbcc1bbb",
      "metadata": {
        "id": "fbcc1bbb"
      },
      "source": [
        "#### **Problema: Análisis de palabras en una frase**  \n",
        "Solicita al usuario que ingrese una frase y luego convierte la frase en una lista de palabras (usando el método `split`). Pide al usuario ingresar una palabra y utiliza `count` para determinar cuántas veces aparece esa palabra en la lista.\n",
        "```python\n",
        "Ingrese una frase: el sol brilla y el cielo es azul  \n",
        "Ingrese la palabra a buscar: el  \n",
        "```"
      ]
    },
    {
      "cell_type": "code",
      "execution_count": 42,
      "id": "24c92cb1",
      "metadata": {
        "colab": {
          "base_uri": "https://localhost:8080/"
        },
        "id": "24c92cb1",
        "outputId": "28377802-25a2-4044-9c43-e7c4c9d6d272"
      },
      "outputs": [
        {
          "output_type": "stream",
          "name": "stdout",
          "text": [
            "Ingrese una frase: el sol brilla y el cielo es azul\n",
            "['el', 'sol', 'brilla', 'y', 'el', 'cielo', 'es', 'azul']\n",
            "Ingrese la palabra a buscar: y\n",
            "1\n"
          ]
        }
      ],
      "source": [
        "frase = input(\"Ingrese una frase: \")\n",
        "lista_palabras = frase.split() # .split convierte la frase en una lista de palabras\n",
        "print(lista_palabras)\n",
        "palabra_buscada = input(\"Ingrese la palabra a buscar: \")\n",
        "ocurrencias = lista_palabras.count(palabra_buscada)\n",
        "print(ocurrencias)"
      ]
    },
    {
      "cell_type": "markdown",
      "id": "c590c765",
      "metadata": {
        "id": "c590c765"
      },
      "source": [
        "### **Método `index` en listas**\n",
        "\n",
        "El método `index` en Python se utiliza para encontrar la posición de la **primera aparición** de un elemento específico en una lista. Es útil cuando necesitas localizar la posición de un valor en una colección.\n",
        "\n",
        "#### Sintaxis\n",
        "```python\n",
        "# metodo index\n",
        "lista.index(elemento[, inicio[, fin]])\n",
        "```\n",
        "\n",
        "-   **`lista`**: Es la lista en la que se buscará el elemento.\n",
        "-   **`elemento`**: Es el valor cuyo índice deseas encontrar.\n",
        "-   **`inicio`** _(opcional)_: Especifica el índice inicial para la búsqueda.\n",
        "-   **`fin`** _(opcional)_: Especifica el índice final para la búsqueda (no se incluye en la búsqueda).\n",
        "\n",
        "#### Características del método\n",
        "\n",
        "1.  Devuelve el **índice** de la primera aparición del elemento.\n",
        "2.  Si el elemento no está presente en la lista, lanza una excepción `ValueError`.\n",
        "3.  Es sensible a mayúsculas y minúsculas en el caso de cadenas de texto.\n",
        "4.  Puedes restringir el rango de búsqueda mediante los parámetros opcionales `inicio` y `fin`.\n",
        "\n"
      ]
    },
    {
      "cell_type": "code",
      "execution_count": 43,
      "id": "992a19c2",
      "metadata": {
        "colab": {
          "base_uri": "https://localhost:8080/"
        },
        "id": "992a19c2",
        "outputId": "c962110e-6dbd-4956-aaa7-227b8ba5db71"
      },
      "outputs": [
        {
          "output_type": "stream",
          "name": "stdout",
          "text": [
            "1\n"
          ]
        }
      ],
      "source": [
        "# Buscar elementos en una lista\n",
        "numeros = [10, 20, 30, 40, 20, 50]\n",
        "print(numeros.index(20))  # Salida: 1 (primer índice del 20)"
      ]
    },
    {
      "cell_type": "code",
      "execution_count": 44,
      "id": "f15470c0",
      "metadata": {
        "colab": {
          "base_uri": "https://localhost:8080/"
        },
        "id": "f15470c0",
        "outputId": "876de429-c3d5-4b64-e943-f5269e56addb"
      },
      "outputs": [
        {
          "output_type": "stream",
          "name": "stdout",
          "text": [
            "4\n"
          ]
        }
      ],
      "source": [
        "# Especificar un rango de búsqueda\n",
        "#          0    1   2  3   4   5\n",
        "numeros = [10, 20, 30, 40, 20, 50]\n",
        "print(numeros.index(20, 2, 5))  # Salida: 4 (busca entre índices 2 y 4)\n"
      ]
    },
    {
      "cell_type": "code",
      "source": [
        "print(numeros.index(100))"
      ],
      "metadata": {
        "colab": {
          "base_uri": "https://localhost:8080/",
          "height": 141
        },
        "id": "BuRvmh0u9R0u",
        "outputId": "8b88aa95-bf40-41a3-f112-675abd6fd6ac"
      },
      "id": "BuRvmh0u9R0u",
      "execution_count": 45,
      "outputs": [
        {
          "output_type": "error",
          "ename": "ValueError",
          "evalue": "100 is not in list",
          "traceback": [
            "\u001b[0;31m---------------------------------------------------------------------------\u001b[0m",
            "\u001b[0;31mValueError\u001b[0m                                Traceback (most recent call last)",
            "\u001b[0;32m<ipython-input-45-2cfe03a4d47c>\u001b[0m in \u001b[0;36m<cell line: 0>\u001b[0;34m()\u001b[0m\n\u001b[0;32m----> 1\u001b[0;31m \u001b[0mprint\u001b[0m\u001b[0;34m(\u001b[0m\u001b[0mnumeros\u001b[0m\u001b[0;34m.\u001b[0m\u001b[0mindex\u001b[0m\u001b[0;34m(\u001b[0m\u001b[0;36m100\u001b[0m\u001b[0;34m)\u001b[0m\u001b[0;34m)\u001b[0m\u001b[0;34m\u001b[0m\u001b[0;34m\u001b[0m\u001b[0m\n\u001b[0m",
            "\u001b[0;31mValueError\u001b[0m: 100 is not in list"
          ]
        }
      ]
    },
    {
      "cell_type": "markdown",
      "id": "e1024418",
      "metadata": {
        "id": "e1024418"
      },
      "source": [
        "#### Manejo de errores\n",
        "\n",
        "Si el elemento no se encuentra en la lista, Python lanzará un error. Para evitarlo, puedes usar un bloque `try-except`:"
      ]
    },
    {
      "cell_type": "code",
      "execution_count": 46,
      "id": "81894f6a",
      "metadata": {
        "colab": {
          "base_uri": "https://localhost:8080/"
        },
        "id": "81894f6a",
        "outputId": "c9ac1572-c868-460e-9c86-b55fc00e3176"
      },
      "outputs": [
        {
          "output_type": "stream",
          "name": "stdout",
          "text": [
            "El elemento no está en la lista.\n"
          ]
        }
      ],
      "source": [
        "numeros = [10, 20, 30, 40]\n",
        "try:\n",
        "    print(numeros.index(50))  # El número 50 no está en la lista\n",
        "except ValueError:\n",
        "    print(\"El elemento no está en la lista.\")"
      ]
    },
    {
      "cell_type": "markdown",
      "id": "5f08905b",
      "metadata": {
        "id": "5f08905b"
      },
      "source": [
        "#### **Problema Registro dinámico de calificaciones**  \n",
        "Diseña un programa que permita a un profesor registrar las calificaciones de sus estudiantes. El programa debe:\n",
        "\n",
        "-   Permitir ingresar calificaciones de 4 evaluaciones y adjuntar a una lista usando `append`.\n",
        "-   Mostrar cuántos estudiantes obtuvieron una calificación específica usando `count`.  \n",
        "    **Entrada esperada:**"
      ]
    },
    {
      "cell_type": "code",
      "source": [
        "lista_calif = []\n",
        "dato = int(input(\"ingresar calif 1:\"))\n",
        "lista_calif.append(dato)\n",
        "dato = int(input(\"ingresar calif 2:\"))\n",
        "lista_calif.append(dato)\n",
        "dato = int(input(\"ingresar calif 3:\"))\n",
        "lista_calif.append(dato)\n",
        "dato = int(input(\"ingresar calif 4:\"))\n",
        "lista_calif.append(dato)\n",
        "calif_esp= 100\n",
        "print(lista_calif.count(calif_esp))"
      ],
      "metadata": {
        "colab": {
          "base_uri": "https://localhost:8080/"
        },
        "id": "LsSiG4iP93rm",
        "outputId": "440492a4-d77f-42ad-8975-57a8f2cb0333"
      },
      "id": "LsSiG4iP93rm",
      "execution_count": 47,
      "outputs": [
        {
          "output_type": "stream",
          "name": "stdout",
          "text": [
            "ingresar calif 1:100\n",
            "ingresar calif 2:100\n",
            "ingresar calif 3:95\n",
            "ingresar calif 4:30\n",
            "2\n"
          ]
        }
      ]
    },
    {
      "cell_type": "markdown",
      "id": "ca2afa8b",
      "metadata": {
        "id": "ca2afa8b"
      },
      "source": [
        "### **Método `reverse` en listas**\n",
        "\n",
        "El método `reverse` en Python se utiliza para invertir el orden de los elementos en una lista. Este cambio ocurre **en su lugar**, lo que significa que modifica directamente la lista original y no devuelve un nuevo objeto.\n",
        "\n",
        "#### Sintaxis\n",
        "```python\n",
        "lista.reverse()\n",
        "```\n",
        "-   **`lista`**: Es la lista que deseas invertir.\n",
        "\n",
        "#### Características del método\n",
        "\n",
        "1.  Invierte la lista original, modificándola directamente.\n",
        "2.  No devuelve un nuevo objeto ni una copia de la lista, devuelve `None`.\n",
        "3.  Es un método muy eficiente, ya que realiza la operación sin crear una nueva lista.\n",
        "4.  Funciona con cualquier tipo de datos almacenados en la lista.\n"
      ]
    },
    {
      "cell_type": "code",
      "execution_count": 48,
      "id": "6203cace",
      "metadata": {
        "colab": {
          "base_uri": "https://localhost:8080/"
        },
        "id": "6203cace",
        "outputId": "6a1a7c34-24e7-4a0e-b950-cba3e084b401"
      },
      "outputs": [
        {
          "output_type": "stream",
          "name": "stdout",
          "text": [
            "[5, 4, 3, 2, 1]\n"
          ]
        }
      ],
      "source": [
        "# Invertir una lista de números\n",
        "numeros = [1, 2, 3, 4, 5]\n",
        "numeros.reverse()\n",
        "print(numeros)"
      ]
    },
    {
      "cell_type": "code",
      "execution_count": 49,
      "id": "3eeb0f03",
      "metadata": {
        "colab": {
          "base_uri": "https://localhost:8080/"
        },
        "id": "3eeb0f03",
        "outputId": "fd6e1f9e-7442-46a1-f12c-444ae6a7cb1a"
      },
      "outputs": [
        {
          "output_type": "stream",
          "name": "stdout",
          "text": [
            "['cuatro', 'tres', 'dos', 'uno']\n"
          ]
        }
      ],
      "source": [
        "# Invertir una lista de palabras\n",
        "palabras = [\"uno\", \"dos\", \"tres\", \"cuatro\"]\n",
        "palabras.reverse()\n",
        "print(palabras)"
      ]
    },
    {
      "cell_type": "code",
      "source": [
        "lista_1 = [10,20,30]\n",
        "# lista_2 = lista_1.reverse()\n",
        "lista_3 = lista_1[ : :-1]\n",
        "# print(lista_2)\n",
        "print(lista_1)\n",
        "print(lista_3)"
      ],
      "metadata": {
        "colab": {
          "base_uri": "https://localhost:8080/"
        },
        "id": "fzc1Knxp_vjJ",
        "outputId": "47f8245b-8491-43e1-b9f3-8c7ce2561d5f"
      },
      "id": "fzc1Knxp_vjJ",
      "execution_count": 54,
      "outputs": [
        {
          "output_type": "stream",
          "name": "stdout",
          "text": [
            "[10, 20, 30]\n",
            "[30, 20, 10]\n"
          ]
        }
      ]
    },
    {
      "cell_type": "markdown",
      "id": "92627856",
      "metadata": {
        "id": "92627856"
      },
      "source": [
        "### **Método `sort()` en Listas de Python**\n",
        "El método `sort()` es una función incorporada en Python que permite ordenar los elementos de una lista de manera ascendente o descendente. Este método modifica la lista original y no devuelve ningún valor, es decir, realiza la ordenación *in-place*.\n",
        "\n",
        "#### Sintaxis\n",
        "\n",
        "```python\n",
        "list.sort(reverse=False, key=None)\n",
        "```\n",
        "#### Parámetros\n",
        "\n",
        "-   **reverse** (opcional): Si se establece en `True`, la lista se ordenará en orden descendente. El valor predeterminado es `False`, lo que significa que la lista se ordenará en orden ascendente.\n",
        "-   **key** (opcional): Es una función que toma un solo argumento y devuelve un valor que se utilizará para la comparación de los elementos de la lista. El valor predeterminado es `None`, lo que significa que los elementos se ordena"
      ]
    },
    {
      "cell_type": "code",
      "execution_count": 55,
      "id": "2935658e",
      "metadata": {
        "colab": {
          "base_uri": "https://localhost:8080/"
        },
        "id": "2935658e",
        "outputId": "5e88f601-e020-403c-98ce-12db121f0f21"
      },
      "outputs": [
        {
          "output_type": "stream",
          "name": "stdout",
          "text": [
            "[1, 2, 4, 5, 9]\n"
          ]
        }
      ],
      "source": [
        "#Orden ascendente\n",
        "numbers = [4, 2, 9, 1, 5]\n",
        "numbers.sort()\n",
        "print(numbers)"
      ]
    },
    {
      "cell_type": "code",
      "execution_count": 56,
      "id": "feff6235",
      "metadata": {
        "colab": {
          "base_uri": "https://localhost:8080/"
        },
        "id": "feff6235",
        "outputId": "6d919eaf-0f7f-4139-d218-da84436a49f9"
      },
      "outputs": [
        {
          "output_type": "stream",
          "name": "stdout",
          "text": [
            "[9, 5, 4, 2, 1]\n"
          ]
        }
      ],
      "source": [
        "#Orden descendente\n",
        "numbers = [4, 2, 9, 1, 5]\n",
        "numbers.sort(reverse=True)\n",
        "print(numbers)  # Salida: [9, 5, 4, 2, 1]"
      ]
    },
    {
      "cell_type": "code",
      "source": [
        "lista_2 = [2,3,4,\"a\"]\n",
        "lista_2.sort()"
      ],
      "metadata": {
        "colab": {
          "base_uri": "https://localhost:8080/",
          "height": 159
        },
        "id": "8s9OQidiBKo0",
        "outputId": "cb7da446-695c-45e8-b366-c56f63ce8e19"
      },
      "id": "8s9OQidiBKo0",
      "execution_count": 57,
      "outputs": [
        {
          "output_type": "error",
          "ename": "TypeError",
          "evalue": "'<' not supported between instances of 'str' and 'int'",
          "traceback": [
            "\u001b[0;31m---------------------------------------------------------------------------\u001b[0m",
            "\u001b[0;31mTypeError\u001b[0m                                 Traceback (most recent call last)",
            "\u001b[0;32m<ipython-input-57-e07092ac5aa9>\u001b[0m in \u001b[0;36m<cell line: 0>\u001b[0;34m()\u001b[0m\n\u001b[1;32m      1\u001b[0m \u001b[0mlista_2\u001b[0m \u001b[0;34m=\u001b[0m \u001b[0;34m[\u001b[0m\u001b[0;36m2\u001b[0m\u001b[0;34m,\u001b[0m\u001b[0;36m3\u001b[0m\u001b[0;34m,\u001b[0m\u001b[0;36m4\u001b[0m\u001b[0;34m,\u001b[0m\u001b[0;34m\"a\"\u001b[0m\u001b[0;34m]\u001b[0m\u001b[0;34m\u001b[0m\u001b[0;34m\u001b[0m\u001b[0m\n\u001b[0;32m----> 2\u001b[0;31m \u001b[0mlista_2\u001b[0m\u001b[0;34m.\u001b[0m\u001b[0msort\u001b[0m\u001b[0;34m(\u001b[0m\u001b[0;34m)\u001b[0m\u001b[0;34m\u001b[0m\u001b[0;34m\u001b[0m\u001b[0m\n\u001b[0m",
            "\u001b[0;31mTypeError\u001b[0m: '<' not supported between instances of 'str' and 'int'"
          ]
        }
      ]
    },
    {
      "cell_type": "markdown",
      "id": "284bd926",
      "metadata": {
        "id": "284bd926"
      },
      "source": [
        "### **Método `append()` en Listas de Python**\n",
        "\n",
        "El método `append()` agrega un elemento al final de la lista. Modifica la lista original y no devuelve ningún valor.\n",
        "\n",
        "#### Sintaxis\n",
        "\n",
        "```python\n",
        "lista.append(element)\n",
        "```\n",
        "#### Parámetros\n",
        "\n",
        "-   **element**: El elemento que se desea agregar al final de la lista. Puede ser cualquier tipo de objeto, incluyendo listas, cadenas, números, etc.\n",
        "\n",
        "#### Ejemplos\n",
        "\n",
        "-   Agregar un número al final de la lista:"
      ]
    },
    {
      "cell_type": "code",
      "execution_count": 58,
      "id": "8b50b121",
      "metadata": {
        "colab": {
          "base_uri": "https://localhost:8080/"
        },
        "id": "8b50b121",
        "outputId": "6387eb2d-7c79-469e-edd2-5ac61d411636"
      },
      "outputs": [
        {
          "output_type": "stream",
          "name": "stdout",
          "text": [
            "[1, 2, 3, 4]\n"
          ]
        }
      ],
      "source": [
        "numbers = [1, 2, 3]\n",
        "numbers.append(4)\n",
        "print(numbers)"
      ]
    },
    {
      "cell_type": "code",
      "execution_count": 59,
      "id": "81877d51",
      "metadata": {
        "colab": {
          "base_uri": "https://localhost:8080/"
        },
        "id": "81877d51",
        "outputId": "4117b37f-e9ae-4fd6-e098-0682bbaf6f4a"
      },
      "outputs": [
        {
          "output_type": "stream",
          "name": "stdout",
          "text": [
            "['apple', 'banana', 'cherry']\n"
          ]
        }
      ],
      "source": [
        "words = ['apple', 'banana']\n",
        "words.append('cherry')\n",
        "print(words)"
      ]
    },
    {
      "cell_type": "code",
      "execution_count": 60,
      "id": "d95f41cc",
      "metadata": {
        "colab": {
          "base_uri": "https://localhost:8080/"
        },
        "id": "d95f41cc",
        "outputId": "1bdbf042-bd6a-4eb5-8ca7-ec4a9304af10"
      },
      "outputs": [
        {
          "output_type": "stream",
          "name": "stdout",
          "text": [
            "[1, 2, 3, [4, 5]]\n"
          ]
        }
      ],
      "source": [
        "list1 = [1, 2, 3]\n",
        "list1.append([4, 5])\n",
        "print(list1)"
      ]
    },
    {
      "cell_type": "markdown",
      "id": "557bc45d",
      "metadata": {
        "id": "557bc45d"
      },
      "source": [
        "#### Consideraciones\n",
        "\n",
        "-   El método `append()` solo agrega un solo elemento al final de la lista. Si se necesita agregar varios elementos, se debe utilizar el método `extend()`.\n",
        "-   Si deseas agregar una lista dentro de otra lista, puedes usar `append()`."
      ]
    },
    {
      "cell_type": "markdown",
      "id": "37c6a925",
      "metadata": {
        "id": "37c6a925"
      },
      "source": [
        "### **Método `pop()` en Listas de Python**\n",
        "\n",
        "El método `pop()` se utiliza para eliminar y retornar un elemento de una lista. Por defecto, elimina el último elemento de la lista, pero también puede eliminar un elemento en una posición específica si se proporciona un índice.\n",
        "\n",
        "#### Parámetros\n",
        "\n",
        "- **index** (opcional): Es el índice del elemento que se desea eliminar. Si no se especifica, se eliminará el último elemento de la lista. El valor predeterminado es `-1`, lo que hace que se elimine el último elemento. Si se proporciona un índice fuera de rango, se generará un error `IndexError`.\n",
        "\n",
        "#### Valor de retorno\n",
        "\n",
        "El método `pop()` retorna el elemento que ha sido eliminado de la lista. Si la lista está vacía y se llama a `pop()`, se generará un error `IndexError`.\n"
      ]
    },
    {
      "cell_type": "markdown",
      "id": "fd07ce59",
      "metadata": {
        "id": "fd07ce59"
      },
      "source": [
        "\n",
        "#### Ejemplos de uso\n",
        "\n",
        "- **Eliminar el último elemento de la lista**: Si no se especifica un índice, el método `pop()` eliminará y retornará el último elemento de la lista.\n",
        "  \n"
      ]
    },
    {
      "cell_type": "code",
      "execution_count": 61,
      "id": "0efe1fd6",
      "metadata": {
        "colab": {
          "base_uri": "https://localhost:8080/"
        },
        "id": "0efe1fd6",
        "outputId": "04d4f4e0-11a7-4bc9-8a97-0078fd28baee"
      },
      "outputs": [
        {
          "output_type": "stream",
          "name": "stdout",
          "text": [
            "3\n",
            "[1, 2]\n"
          ]
        }
      ],
      "source": [
        "numbers = [1, 2, 3]\n",
        "last_element = numbers.pop()\n",
        "print(last_element)\n",
        "print(numbers)"
      ]
    },
    {
      "cell_type": "markdown",
      "id": "f4bb9594",
      "metadata": {
        "id": "f4bb9594"
      },
      "source": [
        "- **Eliminar un elemento en una posición específica**: Si se pasa un índice como parámetro, el método eliminará el elemento en esa posición y lo retornará.\n"
      ]
    },
    {
      "cell_type": "code",
      "execution_count": 62,
      "id": "c85f2263",
      "metadata": {
        "colab": {
          "base_uri": "https://localhost:8080/"
        },
        "id": "c85f2263",
        "outputId": "36853e6b-bc44-4c19-cec9-318bf07d4e3f"
      },
      "outputs": [
        {
          "output_type": "stream",
          "name": "stdout",
          "text": [
            "2\n",
            "[1, 3, 4]\n"
          ]
        }
      ],
      "source": [
        "numbers = [1, 2, 3, 4]\n",
        "second_element = numbers.pop(1)\n",
        "print(second_element)\n",
        "print(numbers)"
      ]
    },
    {
      "cell_type": "markdown",
      "id": "f0f35650",
      "metadata": {
        "id": "f0f35650"
      },
      "source": [
        "\n",
        "#### Consideraciones\n",
        "\n",
        "- El método `pop()` modifica la lista original, eliminando el elemento.\n",
        "- Si se intenta hacer un `pop()` en una lista vacía, se producirá un error `IndexError`."
      ]
    },
    {
      "cell_type": "markdown",
      "id": "f1132217",
      "metadata": {
        "id": "f1132217"
      },
      "source": [
        "### Método `insert()` en Listas de Python\n",
        "​\n",
        "El método `insert()` se utiliza para agregar un elemento en una posición específica dentro de una lista. Este método permite especificar tanto el índice donde se debe insertar el elemento como el valor que se desea agregar.\n",
        "​\n",
        "#### Sintaxis\n",
        "​\n",
        "`list.insert(index, element)`\n",
        "​\n",
        "#### Parámetros\n",
        "​\n",
        "-   **index**: El índice en el que se debe insertar el nuevo elemento. Si el índice es mayor que la longitud de la lista, el elemento se agregará al final. Si el índice es negativo, contará desde el final de la lista.\n",
        "-   **element**: El elemento que se desea insertar en la lista. Puede ser cualquier tipo de objeto.\n",
        "​\n"
      ]
    },
    {
      "cell_type": "markdown",
      "id": "b5b5479b",
      "metadata": {
        "id": "b5b5479b"
      },
      "source": [
        "#### Ejemplos de uso\n",
        "\n",
        "-   **Insertar un elemento al principio de la lista**:"
      ]
    },
    {
      "cell_type": "code",
      "execution_count": 63,
      "id": "600c7ed7",
      "metadata": {
        "colab": {
          "base_uri": "https://localhost:8080/"
        },
        "id": "600c7ed7",
        "outputId": "5e0ff5b7-457d-4251-ed98-4dfb9da3ab05"
      },
      "outputs": [
        {
          "output_type": "stream",
          "name": "stdout",
          "text": [
            "[1, 2, 3, 4]\n"
          ]
        }
      ],
      "source": [
        "numbers = [2, 3, 4]\n",
        "numbers.insert(0, 1)\n",
        "print(numbers)"
      ]
    },
    {
      "cell_type": "markdown",
      "id": "936928be",
      "metadata": {
        "id": "936928be"
      },
      "source": [
        "\n",
        "-   **Insertar un elemento en el medio de la lista**:\n",
        "​\n"
      ]
    },
    {
      "cell_type": "code",
      "execution_count": 64,
      "id": "d51eaca7",
      "metadata": {
        "colab": {
          "base_uri": "https://localhost:8080/"
        },
        "id": "d51eaca7",
        "outputId": "9e849d00-2413-4117-f020-2696c90b12fc"
      },
      "outputs": [
        {
          "output_type": "stream",
          "name": "stdout",
          "text": [
            "[1, 2, 3, 4]\n"
          ]
        }
      ],
      "source": [
        "numbers = [1, 2, 4]\n",
        "numbers.insert(2, 3)\n",
        "print(numbers)"
      ]
    },
    {
      "cell_type": "markdown",
      "id": "10aff48c",
      "metadata": {
        "id": "10aff48c"
      },
      "source": [
        "\n",
        "​\n",
        "-   **Insertar un elemento al final de la lista** (si el índice es mayor que la longitud de la lista):\n",
        "​\n"
      ]
    },
    {
      "cell_type": "code",
      "execution_count": 65,
      "id": "e75ddfda",
      "metadata": {
        "colab": {
          "base_uri": "https://localhost:8080/"
        },
        "id": "e75ddfda",
        "outputId": "4200dafb-7dd6-4538-e96e-23bf5b823b46"
      },
      "outputs": [
        {
          "output_type": "stream",
          "name": "stdout",
          "text": [
            "[1, 2, 3, 4]\n"
          ]
        }
      ],
      "source": [
        "numbers = [1, 2, 3]\n",
        "numbers.insert(5, 4)  # El índice 5 es mayor que la longitud de la lista\n",
        "print(numbers)"
      ]
    },
    {
      "cell_type": "markdown",
      "id": "7ee66f5b",
      "metadata": {
        "id": "7ee66f5b"
      },
      "source": [
        "\n",
        "​\n",
        "#### Consideraciones\n",
        "​\n",
        "-   El método `insert()` modifica la lista original, agregando el nuevo elemento en la posición especificada.\n",
        "-   Si el índice es negativo, contará desde el final de la lista. Por ejemplo, un índice de `-1` insertaría el elemento antes del último."
      ]
    },
    {
      "cell_type": "code",
      "execution_count": null,
      "id": "b662848a",
      "metadata": {
        "id": "b662848a"
      },
      "outputs": [],
      "source": []
    }
  ],
  "metadata": {
    "kernelspec": {
      "display_name": "Python 3",
      "language": "python",
      "name": "python3"
    },
    "language_info": {
      "codemirror_mode": {
        "name": "ipython",
        "version": 3
      },
      "file_extension": ".py",
      "mimetype": "text/x-python",
      "name": "python",
      "nbconvert_exporter": "python",
      "pygments_lexer": "ipython3",
      "version": "3.12.7"
    },
    "colab": {
      "provenance": []
    }
  },
  "nbformat": 4,
  "nbformat_minor": 5
}