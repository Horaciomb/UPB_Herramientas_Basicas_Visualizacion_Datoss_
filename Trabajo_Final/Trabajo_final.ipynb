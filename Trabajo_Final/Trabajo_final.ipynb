{
 "cells": [
  {
   "cell_type": "markdown",
   "metadata": {},
   "source": [
    "# <img style=\"float: left; padding-right: 20px; height: 70px\" src=\"https://i.imgur.com/cMzxwTN.jpg\"> Herramientas basicas de visualización de datos \n",
    "\n",
    "\n",
    "## **Trabajo final**\n",
    "\n",
    "\n",
    "**Universidad Privada Boliviana**<br/>\n",
    "**Diplomado en Machine Learning y Ciencia de Datos**<br/>\n"
   ]
  },
  {
   "cell_type": "markdown",
   "metadata": {},
   "source": [
    "## 🎵 Quiz de Spotify\n",
    "Responde las preguntas a continuación utilizando el conjunto de datos `spotify_artists.csv` proporcionado.\n",
    "\n",
    "NOTA: Todas las respuestas deben basarse en el conjunto de datos proporcionado."
   ]
  },
  {
   "cell_type": "code",
   "execution_count": 77,
   "metadata": {},
   "outputs": [],
   "source": [
    "#importa la biblioteca pandas\n",
    "\n",
    "import pandas as pd"
   ]
  },
  {
   "cell_type": "code",
   "execution_count": 78,
   "metadata": {},
   "outputs": [
    {
     "data": {
      "text/plain": [
       "(163661, 8)"
      ]
     },
     "execution_count": 78,
     "metadata": {},
     "output_type": "execute_result"
    }
   ],
   "source": [
    "\n",
    "#lee el archivo spotify_artists.csv en un dataframe\n",
    "df=pd.read_csv('spotify_artists.csv')\n",
    "df.shape\n"
   ]
  },
  {
   "cell_type": "code",
   "execution_count": 79,
   "metadata": {},
   "outputs": [
    {
     "data": {
      "text/html": [
       "<div>\n",
       "<style scoped>\n",
       "    .dataframe tbody tr th:only-of-type {\n",
       "        vertical-align: middle;\n",
       "    }\n",
       "\n",
       "    .dataframe tbody tr th {\n",
       "        vertical-align: top;\n",
       "    }\n",
       "\n",
       "    .dataframe thead th {\n",
       "        text-align: right;\n",
       "    }\n",
       "</style>\n",
       "<table border=\"1\" class=\"dataframe\">\n",
       "  <thead>\n",
       "    <tr style=\"text-align: right;\">\n",
       "      <th></th>\n",
       "      <th>name</th>\n",
       "      <th>artist</th>\n",
       "      <th>year</th>\n",
       "      <th>duration_ms</th>\n",
       "      <th>popularity</th>\n",
       "      <th>energy</th>\n",
       "      <th>danceability</th>\n",
       "      <th>tempo</th>\n",
       "    </tr>\n",
       "  </thead>\n",
       "  <tbody>\n",
       "    <tr>\n",
       "      <th>0</th>\n",
       "      <td>Singende Bataillone 1. Teil</td>\n",
       "      <td>Carl Woitschach</td>\n",
       "      <td>1928</td>\n",
       "      <td>158648</td>\n",
       "      <td>0</td>\n",
       "      <td>0.1950</td>\n",
       "      <td>0.708</td>\n",
       "      <td>118.469</td>\n",
       "    </tr>\n",
       "    <tr>\n",
       "      <th>1</th>\n",
       "      <td>Fantasiestücke, Op. 111: Più tosto lento</td>\n",
       "      <td>Robert Schumann</td>\n",
       "      <td>1928</td>\n",
       "      <td>282133</td>\n",
       "      <td>0</td>\n",
       "      <td>0.0135</td>\n",
       "      <td>0.379</td>\n",
       "      <td>83.972</td>\n",
       "    </tr>\n",
       "    <tr>\n",
       "      <th>2</th>\n",
       "      <td>Chapter 1.18 - Zamek kaniowski</td>\n",
       "      <td>Seweryn Goszczyński</td>\n",
       "      <td>1928</td>\n",
       "      <td>104300</td>\n",
       "      <td>0</td>\n",
       "      <td>0.2200</td>\n",
       "      <td>0.749</td>\n",
       "      <td>107.177</td>\n",
       "    </tr>\n",
       "    <tr>\n",
       "      <th>3</th>\n",
       "      <td>Bebamos Juntos - Instrumental (Remasterizado)</td>\n",
       "      <td>Francisco Canaro</td>\n",
       "      <td>1928</td>\n",
       "      <td>180760</td>\n",
       "      <td>0</td>\n",
       "      <td>0.1300</td>\n",
       "      <td>0.781</td>\n",
       "      <td>108.003</td>\n",
       "    </tr>\n",
       "    <tr>\n",
       "      <th>4</th>\n",
       "      <td>Polonaise-Fantaisie in A-Flat Major, Op. 61</td>\n",
       "      <td>NaN</td>\n",
       "      <td>1928</td>\n",
       "      <td>687733</td>\n",
       "      <td>1</td>\n",
       "      <td>0.2040</td>\n",
       "      <td>0.210</td>\n",
       "      <td>62.149</td>\n",
       "    </tr>\n",
       "  </tbody>\n",
       "</table>\n",
       "</div>"
      ],
      "text/plain": [
       "                                            name               artist  year  \\\n",
       "0                    Singende Bataillone 1. Teil      Carl Woitschach  1928   \n",
       "1       Fantasiestücke, Op. 111: Più tosto lento      Robert Schumann  1928   \n",
       "2                 Chapter 1.18 - Zamek kaniowski  Seweryn Goszczyński  1928   \n",
       "3  Bebamos Juntos - Instrumental (Remasterizado)     Francisco Canaro  1928   \n",
       "4    Polonaise-Fantaisie in A-Flat Major, Op. 61                  NaN  1928   \n",
       "\n",
       "   duration_ms  popularity  energy  danceability    tempo  \n",
       "0       158648           0  0.1950         0.708  118.469  \n",
       "1       282133           0  0.0135         0.379   83.972  \n",
       "2       104300           0  0.2200         0.749  107.177  \n",
       "3       180760           0  0.1300         0.781  108.003  \n",
       "4       687733           1  0.2040         0.210   62.149  "
      ]
     },
     "execution_count": 79,
     "metadata": {},
     "output_type": "execute_result"
    }
   ],
   "source": [
    "# echa un vistazo rápido a los datos con df.head()\n",
    "df.head()"
   ]
  },
  {
   "cell_type": "markdown",
   "metadata": {},
   "source": [
    "### 1. ¿Cuántas canciones se encuentran en el dataframe?\"\"\"\n"
   ]
  },
  {
   "cell_type": "code",
   "execution_count": 80,
   "metadata": {},
   "outputs": [
    {
     "name": "stdout",
     "output_type": "stream",
     "text": [
      "La cantidad de canciones en el df es: 163661\n"
     ]
    }
   ],
   "source": [
    "# tu código aquí\n",
    "print(f\"La cantidad de canciones en el df es: {df['name'].count()}\")\n",
    "answer1=df['name'].count()"
   ]
  },
  {
   "cell_type": "code",
   "execution_count": 81,
   "metadata": {},
   "outputs": [
    {
     "name": "stdout",
     "output_type": "stream",
     "text": [
      "name            163661\n",
      "artist          162790\n",
      "year            163661\n",
      "duration_ms     163661\n",
      "popularity      163661\n",
      "energy          163661\n",
      "danceability    163661\n",
      "tempo           163661\n",
      "dtype: int64\n",
      "Realizando un analisis parece que la mejor opcion para contar las canciones es contar por la columna name\n"
     ]
    }
   ],
   "source": [
    "\n",
    "#Echa un vistazo a tu respuesta para ver si tiene sentido\n",
    "\n",
    "print(df.count())\n",
    "print(\"Realizando un analisis parece que la mejor opcion para contar las canciones es contar por la columna name\")\n"
   ]
  },
  {
   "cell_type": "markdown",
   "metadata": {},
   "source": [
    "### 2. ¿Cuántos días tomaría escuchar todas las canciones en este conjunto de datos?\n",
    "\n",
    "NOTA: Redondea la respuesta al número entero más cercano\n"
   ]
  },
  {
   "cell_type": "code",
   "execution_count": 82,
   "metadata": {},
   "outputs": [
    {
     "name": "stdout",
     "output_type": "stream",
     "text": [
      "La duración total de las canciones en días es: 437\n"
     ]
    }
   ],
   "source": [
    "#tu código aquí\n",
    "\n",
    "answer2 = round(df['duration_ms'].sum()/(1000*60*60*24))\n",
    "print(f\"La duración total de las canciones en días es: {answer2}\")\n",
    "\n"
   ]
  },
  {
   "cell_type": "code",
   "execution_count": 83,
   "metadata": {},
   "outputs": [
    {
     "name": "stdout",
     "output_type": "stream",
     "text": [
      "437.2130871180556 dias\n"
     ]
    }
   ],
   "source": [
    "#Echa un vistazo a tu respuesta para ver si tiene sentido\n",
    "tiempo_acumuluado_ms=df['duration_ms'].sum()\n",
    "tiempo_acumulado_s=tiempo_acumuluado_ms/1000\n",
    "tiempo_acumulado_m=tiempo_acumulado_s/60\n",
    "tiempo_acumulado_h=tiempo_acumulado_m/60\n",
    "tiempo_acumulado_d=tiempo_acumulado_h/24\n",
    "print(f\"{tiempo_acumulado_d} dias\")\n"
   ]
  },
  {
   "cell_type": "markdown",
   "metadata": {},
   "source": [
    "### 3. En el dataframe, ¿cuántas canciones tienen el título \"Love\" (coincidencia exacta)?\n"
   ]
  },
  {
   "cell_type": "code",
   "execution_count": 84,
   "metadata": {},
   "outputs": [
    {
     "name": "stdout",
     "output_type": "stream",
     "text": [
      "La cantidad de canciones que contienen la palabra Love en su nombre es: 6446\n"
     ]
    }
   ],
   "source": [
    "\n",
    "\n",
    "#tu código aquí\n",
    "palabra_a_bucasr='Love'\n",
    "canitidad_de_canciones_llamadas_Love=df['name'].str.contains(palabra_a_bucasr).sum()\n",
    "\n",
    "\n",
    "answer3 = canitidad_de_canciones_llamadas_Love\n",
    "print(f\"La cantidad de canciones que contienen la palabra {palabra_a_bucasr} en su nombre es: {answer3}\")\n"
   ]
  },
  {
   "cell_type": "code",
   "execution_count": 85,
   "metadata": {},
   "outputs": [
    {
     "data": {
      "text/html": [
       "<div>\n",
       "<style scoped>\n",
       "    .dataframe tbody tr th:only-of-type {\n",
       "        vertical-align: middle;\n",
       "    }\n",
       "\n",
       "    .dataframe tbody tr th {\n",
       "        vertical-align: top;\n",
       "    }\n",
       "\n",
       "    .dataframe thead th {\n",
       "        text-align: right;\n",
       "    }\n",
       "</style>\n",
       "<table border=\"1\" class=\"dataframe\">\n",
       "  <thead>\n",
       "    <tr style=\"text-align: right;\">\n",
       "      <th></th>\n",
       "      <th>name</th>\n",
       "      <th>artist</th>\n",
       "      <th>year</th>\n",
       "      <th>duration_ms</th>\n",
       "      <th>popularity</th>\n",
       "      <th>energy</th>\n",
       "      <th>danceability</th>\n",
       "      <th>tempo</th>\n",
       "    </tr>\n",
       "  </thead>\n",
       "  <tbody>\n",
       "    <tr>\n",
       "      <th>25</th>\n",
       "      <td>It Was a Lover and His Lass</td>\n",
       "      <td>Roger Quilter</td>\n",
       "      <td>1928</td>\n",
       "      <td>152600</td>\n",
       "      <td>0</td>\n",
       "      <td>0.1020</td>\n",
       "      <td>0.540</td>\n",
       "      <td>73.516</td>\n",
       "    </tr>\n",
       "    <tr>\n",
       "      <th>324</th>\n",
       "      <td>Indian Love Call (Duet)</td>\n",
       "      <td>Jeanette MacDonald</td>\n",
       "      <td>1936</td>\n",
       "      <td>152100</td>\n",
       "      <td>0</td>\n",
       "      <td>0.4090</td>\n",
       "      <td>0.264</td>\n",
       "      <td>130.649</td>\n",
       "    </tr>\n",
       "    <tr>\n",
       "      <th>326</th>\n",
       "      <td>Indian Love Call</td>\n",
       "      <td>Jeanette MacDonald</td>\n",
       "      <td>1936</td>\n",
       "      <td>205975</td>\n",
       "      <td>0</td>\n",
       "      <td>0.3500</td>\n",
       "      <td>0.217</td>\n",
       "      <td>90.883</td>\n",
       "    </tr>\n",
       "    <tr>\n",
       "      <th>843</th>\n",
       "      <td>Don't Take Your Love from Me (with Paul Weston...</td>\n",
       "      <td>Doris Day</td>\n",
       "      <td>1948</td>\n",
       "      <td>203213</td>\n",
       "      <td>1</td>\n",
       "      <td>0.0677</td>\n",
       "      <td>0.413</td>\n",
       "      <td>137.511</td>\n",
       "    </tr>\n",
       "    <tr>\n",
       "      <th>943</th>\n",
       "      <td>People Will Say We're in Love (From \"Oklahoma!\")</td>\n",
       "      <td>Jay Blackton</td>\n",
       "      <td>1949</td>\n",
       "      <td>257107</td>\n",
       "      <td>1</td>\n",
       "      <td>0.1600</td>\n",
       "      <td>0.270</td>\n",
       "      <td>78.000</td>\n",
       "    </tr>\n",
       "    <tr>\n",
       "      <th>...</th>\n",
       "      <td>...</td>\n",
       "      <td>...</td>\n",
       "      <td>...</td>\n",
       "      <td>...</td>\n",
       "      <td>...</td>\n",
       "      <td>...</td>\n",
       "      <td>...</td>\n",
       "      <td>...</td>\n",
       "    </tr>\n",
       "    <tr>\n",
       "      <th>163461</th>\n",
       "      <td>Love No More</td>\n",
       "      <td>Loud Luxury</td>\n",
       "      <td>2018</td>\n",
       "      <td>168636</td>\n",
       "      <td>65</td>\n",
       "      <td>0.6740</td>\n",
       "      <td>0.766</td>\n",
       "      <td>121.012</td>\n",
       "    </tr>\n",
       "    <tr>\n",
       "      <th>163515</th>\n",
       "      <td>Used To Love (with Dean Lewis)</td>\n",
       "      <td>Martin Garrix</td>\n",
       "      <td>2019</td>\n",
       "      <td>236765</td>\n",
       "      <td>76</td>\n",
       "      <td>0.6930</td>\n",
       "      <td>0.651</td>\n",
       "      <td>118.970</td>\n",
       "    </tr>\n",
       "    <tr>\n",
       "      <th>163553</th>\n",
       "      <td>Love Affair</td>\n",
       "      <td>UMI</td>\n",
       "      <td>2019</td>\n",
       "      <td>190960</td>\n",
       "      <td>66</td>\n",
       "      <td>0.4880</td>\n",
       "      <td>0.613</td>\n",
       "      <td>172.067</td>\n",
       "    </tr>\n",
       "    <tr>\n",
       "      <th>163590</th>\n",
       "      <td>Thug Love</td>\n",
       "      <td>A Boogie Wit da Hoodie</td>\n",
       "      <td>2020</td>\n",
       "      <td>181744</td>\n",
       "      <td>67</td>\n",
       "      <td>0.6430</td>\n",
       "      <td>0.540</td>\n",
       "      <td>178.125</td>\n",
       "    </tr>\n",
       "    <tr>\n",
       "      <th>163607</th>\n",
       "      <td>How Long Will I Love You</td>\n",
       "      <td>Ellie Goulding</td>\n",
       "      <td>2020</td>\n",
       "      <td>148689</td>\n",
       "      <td>1</td>\n",
       "      <td>0.3160</td>\n",
       "      <td>0.453</td>\n",
       "      <td>125.628</td>\n",
       "    </tr>\n",
       "  </tbody>\n",
       "</table>\n",
       "<p>6446 rows × 8 columns</p>\n",
       "</div>"
      ],
      "text/plain": [
       "                                                     name  \\\n",
       "25                            It Was a Lover and His Lass   \n",
       "324                               Indian Love Call (Duet)   \n",
       "326                                      Indian Love Call   \n",
       "843     Don't Take Your Love from Me (with Paul Weston...   \n",
       "943      People Will Say We're in Love (From \"Oklahoma!\")   \n",
       "...                                                   ...   \n",
       "163461                                       Love No More   \n",
       "163515                     Used To Love (with Dean Lewis)   \n",
       "163553                                        Love Affair   \n",
       "163590                                          Thug Love   \n",
       "163607                           How Long Will I Love You   \n",
       "\n",
       "                        artist  year  duration_ms  popularity  energy  \\\n",
       "25               Roger Quilter  1928       152600           0  0.1020   \n",
       "324         Jeanette MacDonald  1936       152100           0  0.4090   \n",
       "326         Jeanette MacDonald  1936       205975           0  0.3500   \n",
       "843                  Doris Day  1948       203213           1  0.0677   \n",
       "943               Jay Blackton  1949       257107           1  0.1600   \n",
       "...                        ...   ...          ...         ...     ...   \n",
       "163461             Loud Luxury  2018       168636          65  0.6740   \n",
       "163515           Martin Garrix  2019       236765          76  0.6930   \n",
       "163553                     UMI  2019       190960          66  0.4880   \n",
       "163590  A Boogie Wit da Hoodie  2020       181744          67  0.6430   \n",
       "163607          Ellie Goulding  2020       148689           1  0.3160   \n",
       "\n",
       "        danceability    tempo  \n",
       "25             0.540   73.516  \n",
       "324            0.264  130.649  \n",
       "326            0.217   90.883  \n",
       "843            0.413  137.511  \n",
       "943            0.270   78.000  \n",
       "...              ...      ...  \n",
       "163461         0.766  121.012  \n",
       "163515         0.651  118.970  \n",
       "163553         0.613  172.067  \n",
       "163590         0.540  178.125  \n",
       "163607         0.453  125.628  \n",
       "\n",
       "[6446 rows x 8 columns]"
      ]
     },
     "execution_count": 85,
     "metadata": {},
     "output_type": "execute_result"
    }
   ],
   "source": [
    "#Echa un vistazo a tu respuesta para ver si tiene sentido\n",
    "canitidad_de_canciones_llamadas_Love=df['name'].str.contains(palabra_a_bucasr)\n",
    "\n",
    "(df[canitidad_de_canciones_llamadas_Love])\n",
    "\n"
   ]
  },
  {
   "cell_type": "markdown",
   "metadata": {},
   "source": [
    "### 4. ¿Qué artista creó la canción más popular titulada \"Love\"?"
   ]
  },
  {
   "cell_type": "markdown",
   "metadata": {},
   "source": [
    "Para ordenar una serie por valores hemos utilizado:\n",
    "`serie.sort_values()`\n",
    "\n",
    "Para un dataframe, df.sort_values() requiere ademas la columna especifica utilizar como argumento: \n",
    "\n",
    "`df.sort_values(by='Nombre de la columna')`\n",
    "\n",
    "Puedes ver la documentacion para obtener mas informacion [here](https://pandas.pydata.org/docs/reference/api/pandas.DataFrame.sort_values.html)\n"
   ]
  },
  {
   "cell_type": "code",
   "execution_count": 86,
   "metadata": {},
   "outputs": [
    {
     "name": "stdout",
     "output_type": "stream",
     "text": [
      "El artista más popular que tiene una canción llamada Love es: Lana Del Rey\n"
     ]
    }
   ],
   "source": [
    "#tu código aquí\n",
    "palabra_a_bucasr='Love'\n",
    "filtro_tituladas_love=df['name']==palabra_a_bucasr # para canciones que se Titulan  'Love' \n",
    "df_ordenado_por_popularidad=df[filtro_tituladas_love].sort_values(by='popularity',ascending=False)\n",
    "answer4 = df_ordenado_por_popularidad['artist'].head(1).values[0]\n",
    "print(f\"El artista más popular que tiene una canción llamada {palabra_a_bucasr} es: {answer4}\")"
   ]
  },
  {
   "cell_type": "code",
   "execution_count": 87,
   "metadata": {},
   "outputs": [
    {
     "name": "stdout",
     "output_type": "stream",
     "text": [
      "tuve que usar values[0] para que me devolviera el valor de la columna artist, asi como se manejas las series\n"
     ]
    },
    {
     "data": {
      "text/plain": [
       "147418    Lana Del Rey\n",
       "112124             Zoé\n",
       "147497      Koe Wetzel\n",
       "Name: artist, dtype: object"
      ]
     },
     "execution_count": 87,
     "metadata": {},
     "output_type": "execute_result"
    }
   ],
   "source": [
    "#Echa un vistazo a tu respuesta para ver si tiene sentido\n",
    "\n",
    "print(\"tuve que usar values[0] para que me devolviera el valor de la columna artist, asi como se manejas las series\")\n",
    "df_ordenado_por_popularidad['artist'].head(3)\n"
   ]
  },
  {
   "cell_type": "markdown",
   "metadata": {},
   "source": [
    "### 5. ¿En qué década se lanzaron la mayoría de las canciones?\n",
    "\n",
    "SUGERENCIA: Deberás encontrar el número total de canciones lanzadas en cada década y proceder a partir de ahí.\n",
    "\n",
    "NOTA: si tu respuesta es los 80, la respuesta debe ser 1980."
   ]
  },
  {
   "cell_type": "code",
   "execution_count": 123,
   "metadata": {},
   "outputs": [
    {
     "name": "stdout",
     "output_type": "stream",
     "text": [
      "La decada con más lanzamientos es: 1990 con 19505 canciones\n"
     ]
    }
   ],
   "source": [
    "# tu código aquí\n",
    "\n",
    "df['decada']=df['year']//10*10\n",
    "canciones_por_decada=df['decada'].value_counts()\n",
    "decada_con_mas_lanzamientos=canciones_por_decada.sort_values(ascending=False).head(1)\n",
    "decada = decada_con_mas_lanzamientos.index[0] \n",
    "cantidad_canciones = decada_con_mas_lanzamientos.iloc[0]\n",
    "answer5 = decada\n",
    "print(f\"La decada con más lanzamientos es: {answer5} con {cantidad_canciones} canciones\")"
   ]
  },
  {
   "cell_type": "code",
   "execution_count": 124,
   "metadata": {},
   "outputs": [],
   "source": [
    "#Echa un vistazo a tu respuesta para ver si tiene sentido\n",
    "# No enteidn oque es lo que tengo que revisar si tiene sentido, pero explicare el codigo\n",
    "# se crea una columna nueva llamada decada, donde se divide el año entre 10 y se multiplica por 10\n",
    "# se cuentan las canciones por decada\n",
    "# se ordenan las decadas de mayor a menor y se toma la primera decada\n",
    "# se toma el indice de la decada y la cantidad de canciones de esa decada\n",
    "# se imprime la decada y la cantidad de canciones de esa decada\n",
    "\n"
   ]
  },
  {
   "cell_type": "markdown",
   "metadata": {},
   "source": [
    "### 6. ¿Qué columna tiene datos faltantes?\n",
    "SUGERENCIA: Puedes revisar el metodo df.isnull() o df.isna()\n"
   ]
  },
  {
   "cell_type": "code",
   "execution_count": 144,
   "metadata": {},
   "outputs": [
    {
     "name": "stdout",
     "output_type": "stream",
     "text": [
      "La columna que tiene más datos faltantes es: artist\n"
     ]
    }
   ],
   "source": [
    "#tu código aquí\n",
    "columna_con_datos_faltantes=df.isnull().sum().sort_values(ascending=False).head(1).index[0]\n",
    "answer6 = columna_con_datos_faltantes\n",
    "print(f\"La columna que tiene más datos faltantes es: {answer6}\")\n"
   ]
  },
  {
   "cell_type": "code",
   "execution_count": 130,
   "metadata": {},
   "outputs": [
    {
     "name": "stdout",
     "output_type": "stream",
     "text": [
      "haciendo esta comparación se puede ver que artist suma 871 valores nulos\n"
     ]
    },
    {
     "data": {
      "text/plain": [
       "name              0\n",
       "artist          871\n",
       "year              0\n",
       "duration_ms       0\n",
       "popularity        0\n",
       "energy            0\n",
       "danceability      0\n",
       "tempo             0\n",
       "decada            0\n",
       "dtype: int64"
      ]
     },
     "execution_count": 130,
     "metadata": {},
     "output_type": "execute_result"
    }
   ],
   "source": [
    "#Echa un vistazo a tu respuesta para ver si tiene sentido\n",
    "print(\"Haciendo esta comparación se puede ver que artist suma 871 valores nulos\")\n",
    "df.isnull().sum()"
   ]
  },
  {
   "cell_type": "markdown",
   "metadata": {},
   "source": [
    "#### Elimina todos los valores faltantes para responder al siguiente conjunto de preguntas.\n",
    "\n",
    "Si el dataframe contiene valores faltantes, puedes eliminarlos utilizando el siguiente método:\n",
    "\n",
    "`df.dropna(inplace=True)`\n",
    "\n",
    "Este método busca elementos faltantes en el dataframe y, si encuentra alguno, elimina toda la fila correspondiente a la celda faltante.\n",
    "\n",
    "Puedes encontrar más información en la documentación \n",
    "[here](https://pandas.pydata.org/docs/reference/api/pandas.DataFrame.dropna.html#pandas.DataFrame.dropna)"
   ]
  },
  {
   "cell_type": "code",
   "execution_count": 146,
   "metadata": {},
   "outputs": [
    {
     "name": "stdout",
     "output_type": "stream",
     "text": [
      "(163661, 9)\n",
      "(162790, 9)\n"
     ]
    }
   ],
   "source": [
    "# tu código aquí\n",
    "print(df.shape)\n",
    "df.dropna(inplace=True)\n",
    "print(df.shape)"
   ]
  },
  {
   "cell_type": "code",
   "execution_count": 149,
   "metadata": {},
   "outputs": [
    {
     "data": {
      "text/plain": [
       "162790"
      ]
     },
     "execution_count": 149,
     "metadata": {},
     "output_type": "execute_result"
    }
   ],
   "source": [
    "# compruebo el tamaño anterior a borrar con la cantidad de nulos en artist y da lo mismo \n",
    "163661-871\n"
   ]
  },
  {
   "cell_type": "markdown",
   "metadata": {},
   "source": [
    "### 7. Analisis del tempo de las canciones\n",
    "\n",
    "Utilizar el comando `print(f\"...\")` donde corresponda para responder a las siguientes preguntas\n",
    "\n",
    "Para los artistas con una popularidad mayor a 90 y cuyas canciones han sido lanzadas despues del 2015, encontrar la siguiente informacion:\n",
    "\n",
    "- ¿Cuál es la canción más rápida en términos de tempo y en qué año fue lanzada?\n",
    "- ¿Cuál es la canción más lenta en términos de tempo y en qué año fue lanzada?\n",
    "- ¿Graficar el numero de canciones que fueron lanzadas por año y identificar cuál fue año con más canciones?\n"
   ]
  },
  {
   "cell_type": "code",
   "execution_count": 172,
   "metadata": {},
   "outputs": [
    {
     "name": "stdout",
     "output_type": "stream",
     "text": [
      "La canción más rápida por su tempo es Stuck with U (with Justin Bieber) en el año 2020\n",
      "La canción más lenta por su tempo es HIGHEST IN THE ROOM en el año 2019\n",
      "El año con más canciones populares es 2019\n"
     ]
    },
    {
     "data": {
      "image/png": "[encoded data removed]",
      "text/plain": [
       "<Figure size 640x480 with 1 Axes>"
      ]
     },
     "metadata": {},
     "output_type": "display_data"
    }
   ],
   "source": [
    "# tu código aquí\n",
    "filtro_popularidad_decada=(df['popularity']>90) & (df['year']>2015)\n",
    "df_filtrado=df[filtro_popularidad_decada]\n",
    "\n",
    "cancion_mas_rapida=df_filtrado.sort_values(by='tempo',ascending=False).head(1)\n",
    "print(f\"La canción más rápida por su tempo es {cancion_mas_rapida['name'].values[0]} en el año {cancion_mas_rapida['year'].values[0]}\")\n",
    "\n",
    "cancion_mas_lenta=df_filtrado.sort_values(by='tempo',ascending=True).head(1)\n",
    "print(f\"La canción más lenta por su tempo es {cancion_mas_lenta['name'].values[0]} en el año {cancion_mas_lenta['year'].values[0]}\")\n",
    "\n",
    "numero_canciones_por_anho=df_filtrado['year'].value_counts()\n",
    "numero_canciones_por_anho.sort_values(ascending=False).plot(kind='bar')\n",
    "print(f\"El año con más canciones populares es {numero_canciones_por_anho.idxmax()}\")\n",
    "# answer7 = ___\n"
   ]
  },
  {
   "cell_type": "markdown",
   "metadata": {},
   "source": [
    "### 8. Analisis del tiempo de duracion de las canciones\n",
    "Utilizar el comando `print(f\"...\")` para responder a las siguientes preguntas\n",
    "\n",
    "- ¿Cuál es la canción más larga en términos de duración en milisegundos y quién es el artista que la interpreta?\n",
    "\n",
    "- ¿Cuál es la canción más popular en términos de valor de popularidad y en qué año fue lanzada?"
   ]
  },
  {
   "cell_type": "code",
   "execution_count": null,
   "metadata": {},
   "outputs": [],
   "source": [
    "#tu código aquí\n",
    "\n",
    "# answer8 = ___\n",
    "\n"
   ]
  },
  {
   "cell_type": "markdown",
   "metadata": {},
   "source": [
    "### 9. ¿Cuál es la canción más enérgica de Michael Jackson?"
   ]
  },
  {
   "cell_type": "code",
   "execution_count": null,
   "metadata": {},
   "outputs": [],
   "source": [
    "#tu código aquí\n",
    "answer9 = ___"
   ]
  },
  {
   "cell_type": "markdown",
   "metadata": {},
   "source": [
    "### 10 ¿Qué artista ha lanzado la mayor cantidad de canciones desde 1960?\n"
   ]
  },
  {
   "cell_type": "code",
   "execution_count": null,
   "metadata": {},
   "outputs": [],
   "source": [
    "# tu código aquí\n"
   ]
  },
  {
   "cell_type": "markdown",
   "metadata": {},
   "source": [
    "### 11 Para el artista de la pregunta anterior, ¿cuál es la canción más popular?"
   ]
  },
  {
   "cell_type": "code",
   "execution_count": null,
   "metadata": {},
   "outputs": [],
   "source": [
    "# tu código aquí\n",
    "answer11 = ___"
   ]
  },
  {
   "cell_type": "markdown",
   "metadata": {},
   "source": [
    "### 12. Crear un playlist con las canciones mas populares\n",
    "\n",
    "Crea una `lista` de reproducción con la canción más popular de cada año desde 1980 hasta 2020.\n",
    "\n",
    "El resultado debe ser de tipo List con 41 valores de tipo str (una canción para cada año)\n",
    "p.ej. ['cancion1', 'cancion2', 'cancion3', ...]\n",
    "NOTA: En caso de empates, elige la canción con el valor más alto de energy."
   ]
  },
  {
   "cell_type": "code",
   "execution_count": null,
   "metadata": {},
   "outputs": [],
   "source": [
    "# tu código aquí\n",
    "answer_12 = ___"
   ]
  },
  {
   "cell_type": "markdown",
   "metadata": {},
   "source": [
    "### 13 ¿Cómo se distribuye la popularidad de las canciones en forma de histograma?\n",
    "Crea un grafico para responder esta pregunta\n"
   ]
  },
  {
   "cell_type": "code",
   "execution_count": null,
   "metadata": {},
   "outputs": [],
   "source": [
    "# tu código aquí\n",
    "..."
   ]
  },
  {
   "cell_type": "markdown",
   "metadata": {},
   "source": [
    "### 14 ¿existe una correlación entre la duración de las canciones y su nivel de energía? Representa esta relación en un scatter plot.\n",
    "Crea un grafico para responder esta pregunta"
   ]
  },
  {
   "cell_type": "code",
   "execution_count": null,
   "metadata": {},
   "outputs": [],
   "source": [
    "# tu código aquí\n",
    "..."
   ]
  },
  {
   "cell_type": "markdown",
   "metadata": {},
   "source": [
    "### 15 ¿Cuál es la distribución de la danceability de las canciones en función del año de lanzamiento? \n",
    "Crea un gráfico de barras para mostrar esta distribución."
   ]
  },
  {
   "cell_type": "code",
   "execution_count": null,
   "metadata": {},
   "outputs": [],
   "source": [
    "# tu código aquí\n",
    "..."
   ]
  },
  {
   "cell_type": "markdown",
   "metadata": {},
   "source": [
    "### 16 ¿Cómo varía el tempo de las canciones a lo largo de los años?\n",
    "Representa esta variación utilizando un gráfico de línea.\n"
   ]
  },
  {
   "cell_type": "code",
   "execution_count": null,
   "metadata": {},
   "outputs": [],
   "source": []
  },
  {
   "cell_type": "code",
   "execution_count": null,
   "metadata": {},
   "outputs": [],
   "source": [
    "# tu código aquí\n",
    "..."
   ]
  },
  {
   "cell_type": "markdown",
   "metadata": {},
   "source": [
    "### 17 ¿Cuál es la relación entre la popularidad y la energía de las canciones?\n",
    "Crea un scatter plot para visualizar esta relación.\n"
   ]
  },
  {
   "cell_type": "code",
   "execution_count": null,
   "metadata": {},
   "outputs": [],
   "source": [
    "# tu código aquí\n",
    "..."
   ]
  },
  {
   "cell_type": "markdown",
   "metadata": {},
   "source": [
    "### 18 ¿Cuál es la tendencia de cambio en la duración de las canciones a lo largo de los años? \n",
    "Utiliza un gráfico de línea para mostrar esta tendencia."
   ]
  },
  {
   "cell_type": "code",
   "execution_count": null,
   "metadata": {},
   "outputs": [],
   "source": [
    "# tu código aquí\n",
    "..."
   ]
  },
  {
   "cell_type": "markdown",
   "metadata": {},
   "source": [
    "### 19  ¿Cuál es la energía promedio de todas las canciones de 'Michael Jackson'?\n",
    "Para obtener el promedio de los valores en una columna de tipo numerico, puede utilizar el metodo\n",
    "\n",
    "`df[\"nombre de la columna\"].mean()`"
   ]
  },
  {
   "cell_type": "code",
   "execution_count": null,
   "metadata": {},
   "outputs": [],
   "source": [
    "# tu código aquí\n",
    "..."
   ]
  },
  {
   "cell_type": "markdown",
   "metadata": {},
   "source": [
    "### 20 ¿Cuántos artistas únicos están representados en el dataframe?\n",
    "Para contar los elementos unicos en un dataframe puedes utilizar el metodo:\n",
    "\n",
    "`df[\"nombre de la columna\"].unique()`\n"
   ]
  },
  {
   "cell_type": "code",
   "execution_count": null,
   "metadata": {},
   "outputs": [],
   "source": [
    "# tu código aquí\n",
    "..."
   ]
  }
 ],
 "metadata": {
  "kernelspec": {
   "display_name": "Python 3",
   "language": "python",
   "name": "python3"
  },
  "language_info": {
   "codemirror_mode": {
    "name": "ipython",
    "version": 3
   },
   "file_extension": ".py",
   "mimetype": "text/x-python",
   "name": "python",
   "nbconvert_exporter": "python",
   "pygments_lexer": "ipython3",
   "version": "3.11.4"
  },
  "orig_nbformat": 4
 },
 "nbformat": 4,
 "nbformat_minor": 2
}
