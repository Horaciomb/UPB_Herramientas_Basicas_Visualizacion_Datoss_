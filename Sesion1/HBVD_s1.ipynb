{
  "nbformat": 4,
  "nbformat_minor": 0,
  "metadata": {
    "colab": {
      "provenance": []
    },
    "kernelspec": {
      "name": "python3",
      "display_name": "Python 3"
    },
    "language_info": {
      "name": "python"
    }
  },
  "cells": [
    {
      "cell_type": "markdown",
      "source": [
        "# **Introducción a python**\n",
        "\n",
        "## **Notebooks de python**\n",
        "Los notebooks de python se dividen en celdas (texto o de código)\n",
        "\n",
        "Los notebooks de python tienen la terminación `ipynb`\n",
        "\n",
        "- `i`: En linea\n",
        "- `py`: Código de python\n",
        "- `nb`: notebook"
      ],
      "metadata": {
        "id": "FYecMh1rbehq"
      }
    },
    {
      "cell_type": "code",
      "execution_count": 5,
      "metadata": {
        "colab": {
          "base_uri": "https://localhost:8080/"
        },
        "id": "przHwxSpaarw",
        "outputId": "03fb9cfe-14e9-41fe-8c25-eee255cf3b31"
      },
      "outputs": [
        {
          "output_type": "stream",
          "name": "stdout",
          "text": [
            "Hola mundo\n"
          ]
        }
      ],
      "source": [
        "# comentario en python\n",
        "# la función para imprimir un mensaje:  print\n",
        "print(\"Hola mundo\")"
      ]
    },
    {
      "cell_type": "markdown",
      "source": [
        "## Tipos de datos en python\n",
        "\n"
      ],
      "metadata": {
        "id": "5e-emw_ge54w"
      }
    },
    {
      "cell_type": "code",
      "source": [
        "# datos tipo entero\n",
        "a1 = 10\n",
        "print(\"la variable a1 tiene el valor de:\", a1)\n",
        "print(\"el tipo de variable es: \",type(a1))"
      ],
      "metadata": {
        "colab": {
          "base_uri": "https://localhost:8080/"
        },
        "id": "mAyt5Jz1c-XJ",
        "outputId": "95580801-1ed4-47e3-e7a9-469c38ac0d9f"
      },
      "execution_count": 7,
      "outputs": [
        {
          "output_type": "stream",
          "name": "stdout",
          "text": [
            "la variable a1 tiene el valor de: 10\n",
            "el tipo de variable es:  <class 'int'>\n"
          ]
        }
      ]
    },
    {
      "cell_type": "code",
      "source": [
        "#datos tipo float\n",
        "a2 = 3.14\n",
        "print(\"la variable a2 tiene el valor de:\", a2)\n",
        "print(\"el tipo de variable es: \",type(a2))"
      ],
      "metadata": {
        "colab": {
          "base_uri": "https://localhost:8080/"
        },
        "id": "3CceYsOOfij2",
        "outputId": "5219aca0-9459-4df0-c10f-1bfe83ac838f"
      },
      "execution_count": 8,
      "outputs": [
        {
          "output_type": "stream",
          "name": "stdout",
          "text": [
            "la variable a2 tiene el valor de: 3.14\n",
            "el tipo de variable es:  <class 'float'>\n"
          ]
        }
      ]
    },
    {
      "cell_type": "code",
      "source": [
        "# datos tipo string\n",
        "a3 = \"25\"\n",
        "print(\"la variable a3 tiene el valor de:\", a3)\n",
        "print(\"el tipo de variable es: \",type(a3))"
      ],
      "metadata": {
        "colab": {
          "base_uri": "https://localhost:8080/"
        },
        "id": "huCecfDKfih-",
        "outputId": "4f4e1bd2-4c44-45dd-e847-2cb4d6c67342"
      },
      "execution_count": 10,
      "outputs": [
        {
          "output_type": "stream",
          "name": "stdout",
          "text": [
            "la variable a3 tiene el valor de: 25\n",
            "el tipo de variable es:  <class 'str'>\n"
          ]
        }
      ]
    },
    {
      "cell_type": "code",
      "source": [
        "# datos tipo booleanos\n",
        "# estos datos contienen solamente dos valores\n",
        "# True\n",
        "# False\n",
        "a4 = True\n",
        "print(\"la variable a4 tiene el valor de:\", a4)\n",
        "print(\"el tipo de variable es: \",type(a4))\n",
        "print(\"el id de la variable a4 es:\", id(a4))"
      ],
      "metadata": {
        "colab": {
          "base_uri": "https://localhost:8080/"
        },
        "id": "N-BcDfBWgrSd",
        "outputId": "bd6c01c2-af60-4bd6-ca0a-5139b880ea3f"
      },
      "execution_count": 12,
      "outputs": [
        {
          "output_type": "stream",
          "name": "stdout",
          "text": [
            "la variable a4 tiene el valor de: True\n",
            "el tipo de variable es:  <class 'bool'>\n",
            "el id de la variable a4 es: 9692800\n"
          ]
        }
      ]
    },
    {
      "cell_type": "markdown",
      "source": [
        "## Conversión de datos\n"
      ],
      "metadata": {
        "id": "tREEbPybkJfR"
      }
    },
    {
      "cell_type": "code",
      "source": [
        "# Conversion de entero a float\n",
        "a1 = 1\n",
        "a5 = float(a1)\n",
        "print(\"la variable a5 tiene el valor de:\", a5)\n",
        "print(\"el tipo de variable es: \",type(a5))"
      ],
      "metadata": {
        "colab": {
          "base_uri": "https://localhost:8080/"
        },
        "id": "eQBG29R8j6NS",
        "outputId": "87c546a4-cc97-4b60-9eea-166274d4a443"
      },
      "execution_count": 13,
      "outputs": [
        {
          "output_type": "stream",
          "name": "stdout",
          "text": [
            "la variable a5 tiene el valor de: 1.0\n",
            "el tipo de variable es:  <class 'float'>\n"
          ]
        }
      ]
    },
    {
      "cell_type": "code",
      "source": [
        "# Conversión de float a entero\n",
        "a2 = 3.99\n",
        "a6 = int(a2)\n",
        "print(\"la variable a6 tiene el valor de:\", a6)\n",
        "print(\"el tipo de variable es: \",type(a6))"
      ],
      "metadata": {
        "colab": {
          "base_uri": "https://localhost:8080/"
        },
        "id": "85MwlGTDku7x",
        "outputId": "b00a5b37-a338-43d8-972b-083ad444b203"
      },
      "execution_count": 14,
      "outputs": [
        {
          "output_type": "stream",
          "name": "stdout",
          "text": [
            "la variable a6 tiene el valor de: 3\n",
            "el tipo de variable es:  <class 'int'>\n"
          ]
        }
      ]
    },
    {
      "cell_type": "code",
      "source": [
        "# Conversion de string a entero\n",
        "a3 = \"25\"\n",
        "a7 = int(a3)\n",
        "print(\"la variable a7 tiene el valor de:\",a7)\n",
        "print(\"el tipo de variable es:\",type(a7))"
      ],
      "metadata": {
        "colab": {
          "base_uri": "https://localhost:8080/"
        },
        "id": "vmDLA186k-AQ",
        "outputId": "0adb59e6-27bf-4f89-81fd-e647b902fda4"
      },
      "execution_count": 15,
      "outputs": [
        {
          "output_type": "stream",
          "name": "stdout",
          "text": [
            "la variable a7 tiene el valor de: 25\n",
            "el tipo de variable es: <class 'int'>\n"
          ]
        }
      ]
    },
    {
      "cell_type": "code",
      "source": [
        "# Conversion de bool a entero\n",
        "a4 = False\n",
        "a8 = int(a4)\n",
        "print(\"la variable a8 tiene el valor de:\",a8)\n",
        "print(\"el tipo de variable es:\",type(a8))"
      ],
      "metadata": {
        "colab": {
          "base_uri": "https://localhost:8080/"
        },
        "id": "5mkcUEPDlO8Q",
        "outputId": "6acbc5d7-907c-442d-87ab-ab4b7fb486e8"
      },
      "execution_count": 18,
      "outputs": [
        {
          "output_type": "stream",
          "name": "stdout",
          "text": [
            "la variable a8 tiene el valor de: 0\n",
            "el tipo de variable es: <class 'int'>\n"
          ]
        }
      ]
    },
    {
      "cell_type": "code",
      "source": [
        "# la funcion redondear; round()\n",
        "print(round(3.51))"
      ],
      "metadata": {
        "colab": {
          "base_uri": "https://localhost:8080/"
        },
        "id": "mjL0yy1bmCvp",
        "outputId": "b2db45a6-942e-454c-83d5-8e2ea42c6201"
      },
      "execution_count": 19,
      "outputs": [
        {
          "output_type": "stream",
          "name": "stdout",
          "text": [
            "4\n"
          ]
        }
      ]
    },
    {
      "cell_type": "code",
      "source": [
        "# la funcion piso: floor()\n",
        "import math\n",
        "print(math.floor(3.51))"
      ],
      "metadata": {
        "colab": {
          "base_uri": "https://localhost:8080/"
        },
        "id": "NTq7QrxmmVag",
        "outputId": "9dfa0a98-44b6-453d-ce22-8f0cb4a31043"
      },
      "execution_count": 21,
      "outputs": [
        {
          "output_type": "stream",
          "name": "stdout",
          "text": [
            "3\n"
          ]
        }
      ]
    },
    {
      "cell_type": "code",
      "source": [
        "# la funcion techo: ceil()\n",
        "print(math.ceil(3.51))"
      ],
      "metadata": {
        "colab": {
          "base_uri": "https://localhost:8080/"
        },
        "id": "HzgyC1Z0mfLu",
        "outputId": "03f8a0a2-7645-4ffc-b93c-5a35f68182dd"
      },
      "execution_count": 22,
      "outputs": [
        {
          "output_type": "stream",
          "name": "stdout",
          "text": [
            "4\n"
          ]
        }
      ]
    },
    {
      "cell_type": "markdown",
      "source": [
        "## Operadores aritméticos"
      ],
      "metadata": {
        "id": "TfAEtQJRnZ6W"
      }
    },
    {
      "cell_type": "code",
      "source": [
        "# %: residuo de una división\n",
        "# 7%4 => 7= 4*1 + 3\n",
        "print(7%4)"
      ],
      "metadata": {
        "colab": {
          "base_uri": "https://localhost:8080/"
        },
        "id": "PkGRFh55mrUw",
        "outputId": "c92001bd-9ff3-4af5-a579-65f64c0e5674"
      },
      "execution_count": 23,
      "outputs": [
        {
          "output_type": "stream",
          "name": "stdout",
          "text": [
            "3\n"
          ]
        }
      ]
    },
    {
      "cell_type": "code",
      "source": [
        "# **: operador de exponenciación\n",
        "print(2**3)"
      ],
      "metadata": {
        "colab": {
          "base_uri": "https://localhost:8080/"
        },
        "id": "GFsdqrVwntbv",
        "outputId": "4bc4e5f4-69dc-4dc1-fb31-1531c452ddc5"
      },
      "execution_count": 24,
      "outputs": [
        {
          "output_type": "stream",
          "name": "stdout",
          "text": [
            "8\n"
          ]
        }
      ]
    },
    {
      "cell_type": "code",
      "source": [
        "# //: división entera\n",
        "print(9//2)"
      ],
      "metadata": {
        "colab": {
          "base_uri": "https://localhost:8080/"
        },
        "id": "JDokIWo_n1Pd",
        "outputId": "4d3c3fbb-7811-46ee-c43f-0c716e0af2cd"
      },
      "execution_count": 26,
      "outputs": [
        {
          "output_type": "stream",
          "name": "stdout",
          "text": [
            "4\n"
          ]
        }
      ]
    },
    {
      "cell_type": "code",
      "source": [
        "# obtener la decada de lanzamiento de una pelicula dada:\n",
        "# entradas: 1975\n",
        "# salida  : 1970\n",
        "p = 1975\n",
        "p = p//10 # 197\n",
        "p = p*10  # 1970\n",
        "print(p)\n"
      ],
      "metadata": {
        "colab": {
          "base_uri": "https://localhost:8080/"
        },
        "id": "YoTIgm-wn8fW",
        "outputId": "b3fa91b6-51f9-4822-fcbf-8941edcd3b9b"
      },
      "execution_count": 28,
      "outputs": [
        {
          "output_type": "stream",
          "name": "stdout",
          "text": [
            "1970\n"
          ]
        }
      ]
    },
    {
      "cell_type": "markdown",
      "source": [
        "## Reglas para nombrar variables:\n"
      ],
      "metadata": {
        "id": "_Zug_LxLqFPV"
      }
    },
    {
      "cell_type": "code",
      "source": [
        "# tiene que empezar con una letra\n",
        "a1 = 10\n",
        "r1a = 5"
      ],
      "metadata": {
        "id": "VjdJhTEcoaGQ"
      },
      "execution_count": 30,
      "outputs": []
    },
    {
      "cell_type": "code",
      "source": [
        "# una variable puede contener guiones bajos\n",
        "modelo_optimo = \"modelo_A\""
      ],
      "metadata": {
        "id": "NNxVkU7PqXdD"
      },
      "execution_count": 31,
      "outputs": []
    },
    {
      "cell_type": "markdown",
      "source": [
        "## Operadores de comparación"
      ],
      "metadata": {
        "id": "78QkcF-Nq_9A"
      }
    },
    {
      "cell_type": "code",
      "source": [
        "# Operador ==\n",
        "a1 = 10\n",
        "a2 = 15\n",
        "print(a1== a2)"
      ],
      "metadata": {
        "colab": {
          "base_uri": "https://localhost:8080/"
        },
        "id": "qMv4xToMqgSc",
        "outputId": "64241365-edb7-4a9c-e59b-d2f2046f9b48"
      },
      "execution_count": 32,
      "outputs": [
        {
          "output_type": "stream",
          "name": "stdout",
          "text": [
            "False\n"
          ]
        }
      ]
    },
    {
      "cell_type": "code",
      "source": [
        "# Operador !=  (si es distinto a)\n",
        "print(a1!=a2)"
      ],
      "metadata": {
        "colab": {
          "base_uri": "https://localhost:8080/"
        },
        "id": "MJP91kAZrQX8",
        "outputId": "8d184bfa-eff6-45c2-d958-1ed98acc062a"
      },
      "execution_count": 33,
      "outputs": [
        {
          "output_type": "stream",
          "name": "stdout",
          "text": [
            "True\n"
          ]
        }
      ]
    },
    {
      "cell_type": "markdown",
      "source": [
        "## Operadores de asignación\n"
      ],
      "metadata": {
        "id": "rGcL6gFTsB2j"
      }
    },
    {
      "cell_type": "code",
      "source": [
        "m = 15\n",
        "m += 10 # m = m + 10\n",
        "print(m)"
      ],
      "metadata": {
        "colab": {
          "base_uri": "https://localhost:8080/"
        },
        "id": "_yjcEZsgrh1C",
        "outputId": "6243cd5d-badf-43ee-cf36-babfd4b5cb9d"
      },
      "execution_count": 34,
      "outputs": [
        {
          "output_type": "stream",
          "name": "stdout",
          "text": [
            "25\n"
          ]
        }
      ]
    },
    {
      "cell_type": "code",
      "source": [
        "m = 10\n",
        "m +=-5 # m = m+ (-5)\n",
        "print(m)"
      ],
      "metadata": {
        "colab": {
          "base_uri": "https://localhost:8080/"
        },
        "id": "ahOgUhZ5sSmy",
        "outputId": "8445ab27-4fa1-41ac-b1a4-67569f38a235"
      },
      "execution_count": 35,
      "outputs": [
        {
          "output_type": "stream",
          "name": "stdout",
          "text": [
            "5\n"
          ]
        }
      ]
    },
    {
      "cell_type": "markdown",
      "source": [
        "## Operadores lógicos\n"
      ],
      "metadata": {
        "id": "kEGzKwHjs087"
      }
    },
    {
      "cell_type": "code",
      "source": [
        "# Operador and\n",
        "nombre = True\n",
        "apellido = False\n",
        "siguiente_paso = nombre and apellido\n",
        "print(siguiente_paso)"
      ],
      "metadata": {
        "colab": {
          "base_uri": "https://localhost:8080/"
        },
        "id": "AXLeZQpsshtM",
        "outputId": "674b5748-85a7-481b-e33b-f3370a27a10a"
      },
      "execution_count": 36,
      "outputs": [
        {
          "output_type": "stream",
          "name": "stdout",
          "text": [
            "False\n"
          ]
        }
      ]
    },
    {
      "cell_type": "code",
      "source": [
        "# Operador and\n",
        "nombre = True\n",
        "apellido = True\n",
        "siguiente_paso = nombre and apellido\n",
        "print(siguiente_paso)"
      ],
      "metadata": {
        "colab": {
          "base_uri": "https://localhost:8080/"
        },
        "id": "DvWu2ETOtTnS",
        "outputId": "d4949c15-b569-4540-99bb-ca6d2291d3c6"
      },
      "execution_count": 37,
      "outputs": [
        {
          "output_type": "stream",
          "name": "stdout",
          "text": [
            "True\n"
          ]
        }
      ]
    },
    {
      "cell_type": "code",
      "source": [
        "# Operador or\n",
        "nombre = True\n",
        "segundo_nombre = False\n",
        "apellido = True\n",
        "siguiente_paso = nombre or segundo_nombre\n",
        "print(siguiente_paso)"
      ],
      "metadata": {
        "colab": {
          "base_uri": "https://localhost:8080/"
        },
        "id": "sdnsFB4ctchZ",
        "outputId": "196fa29f-b9d8-427c-f30e-fa9610b1dab7"
      },
      "execution_count": 38,
      "outputs": [
        {
          "output_type": "stream",
          "name": "stdout",
          "text": [
            "True\n"
          ]
        }
      ]
    },
    {
      "cell_type": "code",
      "source": [
        "# Operador or\n",
        "nombre = False\n",
        "segundo_nombre = False\n",
        "apellido = True\n",
        "siguiente_paso = nombre or segundo_nombre\n",
        "print(siguiente_paso)"
      ],
      "metadata": {
        "colab": {
          "base_uri": "https://localhost:8080/"
        },
        "id": "XEW2HMzGt4qT",
        "outputId": "087735b5-dad1-4c1b-9e42-9a274663179a"
      },
      "execution_count": 39,
      "outputs": [
        {
          "output_type": "stream",
          "name": "stdout",
          "text": [
            "False\n"
          ]
        }
      ]
    },
    {
      "cell_type": "code",
      "source": [
        "# operador not\n",
        "var1 = True\n",
        "print(not(var1))"
      ],
      "metadata": {
        "colab": {
          "base_uri": "https://localhost:8080/"
        },
        "id": "hw-_Kx_uuEZg",
        "outputId": "4231454f-6b64-4be6-aeb4-2935f7999259"
      },
      "execution_count": 40,
      "outputs": [
        {
          "output_type": "stream",
          "name": "stdout",
          "text": [
            "False\n"
          ]
        }
      ]
    },
    {
      "cell_type": "code",
      "source": [
        "# operador not\n",
        "var1 = False\n",
        "print(not(var1))"
      ],
      "metadata": {
        "colab": {
          "base_uri": "https://localhost:8080/"
        },
        "id": "95P_tnwjuKWZ",
        "outputId": "89519191-d140-49c1-a948-ec9e058a8b3f"
      },
      "execution_count": 41,
      "outputs": [
        {
          "output_type": "stream",
          "name": "stdout",
          "text": [
            "True\n"
          ]
        }
      ]
    },
    {
      "cell_type": "code",
      "source": [],
      "metadata": {
        "id": "C0vNtlafuNTR"
      },
      "execution_count": null,
      "outputs": []
    }
  ]
}